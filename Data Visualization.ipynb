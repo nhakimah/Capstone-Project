{
 "cells": [
  {
   "cell_type": "markdown",
   "id": "fb99b96f",
   "metadata": {},
   "source": [
    "**VISUALIZATION**"
   ]
  },
  {
   "cell_type": "code",
   "execution_count": 10,
   "id": "e69a487c",
   "metadata": {},
   "outputs": [
    {
     "data": {
      "text/html": [
       "<div>\n",
       "<style scoped>\n",
       "    .dataframe tbody tr th:only-of-type {\n",
       "        vertical-align: middle;\n",
       "    }\n",
       "\n",
       "    .dataframe tbody tr th {\n",
       "        vertical-align: top;\n",
       "    }\n",
       "\n",
       "    .dataframe thead th {\n",
       "        text-align: right;\n",
       "    }\n",
       "</style>\n",
       "<table border=\"1\" class=\"dataframe\">\n",
       "  <thead>\n",
       "    <tr style=\"text-align: right;\">\n",
       "      <th></th>\n",
       "      <th>State Postal Code</th>\n",
       "      <th>Number of Trips</th>\n",
       "    </tr>\n",
       "  </thead>\n",
       "  <tbody>\n",
       "    <tr>\n",
       "      <th>0</th>\n",
       "      <td>AK</td>\n",
       "      <td>1.924401e+09</td>\n",
       "    </tr>\n",
       "    <tr>\n",
       "      <th>1</th>\n",
       "      <td>AL</td>\n",
       "      <td>1.333175e+10</td>\n",
       "    </tr>\n",
       "    <tr>\n",
       "      <th>2</th>\n",
       "      <td>AR</td>\n",
       "      <td>8.080622e+09</td>\n",
       "    </tr>\n",
       "    <tr>\n",
       "      <th>3</th>\n",
       "      <td>AZ</td>\n",
       "      <td>1.894187e+10</td>\n",
       "    </tr>\n",
       "    <tr>\n",
       "      <th>4</th>\n",
       "      <td>CA</td>\n",
       "      <td>9.471124e+10</td>\n",
       "    </tr>\n",
       "  </tbody>\n",
       "</table>\n",
       "</div>"
      ],
      "text/plain": [
       "  State Postal Code  Number of Trips\n",
       "0                AK     1.924401e+09\n",
       "1                AL     1.333175e+10\n",
       "2                AR     8.080622e+09\n",
       "3                AZ     1.894187e+10\n",
       "4                CA     9.471124e+10"
      ]
     },
     "execution_count": 10,
     "metadata": {},
     "output_type": "execute_result"
    }
   ],
   "source": [
    "import pandas as pd\n",
    "import plotly.express as px\n",
    "\n",
    "# Load the dataset\n",
    "df = pd.read_csv('Trips_by_Distance.csv')\n",
    "\n",
    "# Convert the Date column to datetime format\n",
    "df['Date'] = pd.to_datetime(df['Date'])\n",
    "\n",
    "# Filter data for the year 2022\n",
    "df_2022 = df[df['Date'].dt.year == 2022]\n",
    "\n",
    "# Aggregate the number of trips by state\n",
    "state_trip_data = df_2022.groupby('State Postal Code').agg({\n",
    "    'Number of Trips': 'sum'\n",
    "}).reset_index()\n",
    "\n",
    "# Display the aggregated data\n",
    "state_trip_data.head()\n"
   ]
  },
  {
   "cell_type": "code",
   "execution_count": 11,
   "id": "b7a570a6",
   "metadata": {},
   "outputs": [
    {
     "data": {
      "application/vnd.plotly.v1+json": {
       "config": {
        "plotlyServerURL": "https://plot.ly"
       },
       "data": [
        {
         "alignmentgroup": "True",
         "hovertemplate": "State=%{x}<br>Number of Trips=%{y}<extra></extra>",
         "legendgroup": "",
         "marker": {
          "color": "#636efa",
          "pattern": {
           "shape": ""
          }
         },
         "name": "",
         "offsetgroup": "",
         "orientation": "v",
         "showlegend": false,
         "textposition": "auto",
         "type": "bar",
         "x": [
          "AK",
          "AL",
          "AR",
          "AZ",
          "CA",
          "CO",
          "CT",
          "DC",
          "DE",
          "FL",
          "GA",
          "HI",
          "IA",
          "ID",
          "IL",
          "IN",
          "KS",
          "KY",
          "LA",
          "MA",
          "MD",
          "ME",
          "MI",
          "MN",
          "MO",
          "MS",
          "MT",
          "NC",
          "ND",
          "NE",
          "NH",
          "NJ",
          "NM",
          "NV",
          "NY",
          "OH",
          "OK",
          "OR",
          "PA",
          "RI",
          "SC",
          "SD",
          "TN",
          "TX",
          "UT",
          "VA",
          "VT",
          "WA",
          "WI",
          "WV",
          "WY"
         ],
         "xaxis": "x",
         "y": [
          1924401459,
          13331752210,
          8080621621,
          18941870263,
          94711239723,
          19127519700,
          10620993964,
          2432423403,
          2733893387,
          56979581628,
          28922241280,
          3654215231,
          10073949957,
          4526353413,
          40642194203,
          21390229885,
          9607744856,
          14201195885,
          14649373693,
          24560348565,
          17928243384,
          4062640990,
          30215535831,
          17396674960,
          17959928209,
          7976339185,
          2738616527,
          30811854958,
          2187858890,
          6014752219,
          4363665368,
          26781725222,
          6565454165,
          8278818981,
          64675534135,
          35816874057,
          11388626795,
          11645725865,
          37662057687,
          3166533726,
          14743917297,
          2720967932,
          20464201799,
          77729120764,
          9551834479,
          25745687775,
          1972349130,
          20099673977,
          18679901170,
          4995507347,
          1807189419
         ],
         "yaxis": "y"
        }
       ],
       "layout": {
        "barmode": "relative",
        "legend": {
         "tracegroupgap": 0
        },
        "template": {
         "data": {
          "bar": [
           {
            "error_x": {
             "color": "#2a3f5f"
            },
            "error_y": {
             "color": "#2a3f5f"
            },
            "marker": {
             "line": {
              "color": "white",
              "width": 0.5
             },
             "pattern": {
              "fillmode": "overlay",
              "size": 10,
              "solidity": 0.2
             }
            },
            "type": "bar"
           }
          ],
          "barpolar": [
           {
            "marker": {
             "line": {
              "color": "white",
              "width": 0.5
             },
             "pattern": {
              "fillmode": "overlay",
              "size": 10,
              "solidity": 0.2
             }
            },
            "type": "barpolar"
           }
          ],
          "carpet": [
           {
            "aaxis": {
             "endlinecolor": "#2a3f5f",
             "gridcolor": "#C8D4E3",
             "linecolor": "#C8D4E3",
             "minorgridcolor": "#C8D4E3",
             "startlinecolor": "#2a3f5f"
            },
            "baxis": {
             "endlinecolor": "#2a3f5f",
             "gridcolor": "#C8D4E3",
             "linecolor": "#C8D4E3",
             "minorgridcolor": "#C8D4E3",
             "startlinecolor": "#2a3f5f"
            },
            "type": "carpet"
           }
          ],
          "choropleth": [
           {
            "colorbar": {
             "outlinewidth": 0,
             "ticks": ""
            },
            "type": "choropleth"
           }
          ],
          "contour": [
           {
            "colorbar": {
             "outlinewidth": 0,
             "ticks": ""
            },
            "colorscale": [
             [
              0,
              "#0d0887"
             ],
             [
              0.1111111111111111,
              "#46039f"
             ],
             [
              0.2222222222222222,
              "#7201a8"
             ],
             [
              0.3333333333333333,
              "#9c179e"
             ],
             [
              0.4444444444444444,
              "#bd3786"
             ],
             [
              0.5555555555555556,
              "#d8576b"
             ],
             [
              0.6666666666666666,
              "#ed7953"
             ],
             [
              0.7777777777777778,
              "#fb9f3a"
             ],
             [
              0.8888888888888888,
              "#fdca26"
             ],
             [
              1,
              "#f0f921"
             ]
            ],
            "type": "contour"
           }
          ],
          "contourcarpet": [
           {
            "colorbar": {
             "outlinewidth": 0,
             "ticks": ""
            },
            "type": "contourcarpet"
           }
          ],
          "heatmap": [
           {
            "colorbar": {
             "outlinewidth": 0,
             "ticks": ""
            },
            "colorscale": [
             [
              0,
              "#0d0887"
             ],
             [
              0.1111111111111111,
              "#46039f"
             ],
             [
              0.2222222222222222,
              "#7201a8"
             ],
             [
              0.3333333333333333,
              "#9c179e"
             ],
             [
              0.4444444444444444,
              "#bd3786"
             ],
             [
              0.5555555555555556,
              "#d8576b"
             ],
             [
              0.6666666666666666,
              "#ed7953"
             ],
             [
              0.7777777777777778,
              "#fb9f3a"
             ],
             [
              0.8888888888888888,
              "#fdca26"
             ],
             [
              1,
              "#f0f921"
             ]
            ],
            "type": "heatmap"
           }
          ],
          "heatmapgl": [
           {
            "colorbar": {
             "outlinewidth": 0,
             "ticks": ""
            },
            "colorscale": [
             [
              0,
              "#0d0887"
             ],
             [
              0.1111111111111111,
              "#46039f"
             ],
             [
              0.2222222222222222,
              "#7201a8"
             ],
             [
              0.3333333333333333,
              "#9c179e"
             ],
             [
              0.4444444444444444,
              "#bd3786"
             ],
             [
              0.5555555555555556,
              "#d8576b"
             ],
             [
              0.6666666666666666,
              "#ed7953"
             ],
             [
              0.7777777777777778,
              "#fb9f3a"
             ],
             [
              0.8888888888888888,
              "#fdca26"
             ],
             [
              1,
              "#f0f921"
             ]
            ],
            "type": "heatmapgl"
           }
          ],
          "histogram": [
           {
            "marker": {
             "pattern": {
              "fillmode": "overlay",
              "size": 10,
              "solidity": 0.2
             }
            },
            "type": "histogram"
           }
          ],
          "histogram2d": [
           {
            "colorbar": {
             "outlinewidth": 0,
             "ticks": ""
            },
            "colorscale": [
             [
              0,
              "#0d0887"
             ],
             [
              0.1111111111111111,
              "#46039f"
             ],
             [
              0.2222222222222222,
              "#7201a8"
             ],
             [
              0.3333333333333333,
              "#9c179e"
             ],
             [
              0.4444444444444444,
              "#bd3786"
             ],
             [
              0.5555555555555556,
              "#d8576b"
             ],
             [
              0.6666666666666666,
              "#ed7953"
             ],
             [
              0.7777777777777778,
              "#fb9f3a"
             ],
             [
              0.8888888888888888,
              "#fdca26"
             ],
             [
              1,
              "#f0f921"
             ]
            ],
            "type": "histogram2d"
           }
          ],
          "histogram2dcontour": [
           {
            "colorbar": {
             "outlinewidth": 0,
             "ticks": ""
            },
            "colorscale": [
             [
              0,
              "#0d0887"
             ],
             [
              0.1111111111111111,
              "#46039f"
             ],
             [
              0.2222222222222222,
              "#7201a8"
             ],
             [
              0.3333333333333333,
              "#9c179e"
             ],
             [
              0.4444444444444444,
              "#bd3786"
             ],
             [
              0.5555555555555556,
              "#d8576b"
             ],
             [
              0.6666666666666666,
              "#ed7953"
             ],
             [
              0.7777777777777778,
              "#fb9f3a"
             ],
             [
              0.8888888888888888,
              "#fdca26"
             ],
             [
              1,
              "#f0f921"
             ]
            ],
            "type": "histogram2dcontour"
           }
          ],
          "mesh3d": [
           {
            "colorbar": {
             "outlinewidth": 0,
             "ticks": ""
            },
            "type": "mesh3d"
           }
          ],
          "parcoords": [
           {
            "line": {
             "colorbar": {
              "outlinewidth": 0,
              "ticks": ""
             }
            },
            "type": "parcoords"
           }
          ],
          "pie": [
           {
            "automargin": true,
            "type": "pie"
           }
          ],
          "scatter": [
           {
            "fillpattern": {
             "fillmode": "overlay",
             "size": 10,
             "solidity": 0.2
            },
            "type": "scatter"
           }
          ],
          "scatter3d": [
           {
            "line": {
             "colorbar": {
              "outlinewidth": 0,
              "ticks": ""
             }
            },
            "marker": {
             "colorbar": {
              "outlinewidth": 0,
              "ticks": ""
             }
            },
            "type": "scatter3d"
           }
          ],
          "scattercarpet": [
           {
            "marker": {
             "colorbar": {
              "outlinewidth": 0,
              "ticks": ""
             }
            },
            "type": "scattercarpet"
           }
          ],
          "scattergeo": [
           {
            "marker": {
             "colorbar": {
              "outlinewidth": 0,
              "ticks": ""
             }
            },
            "type": "scattergeo"
           }
          ],
          "scattergl": [
           {
            "marker": {
             "colorbar": {
              "outlinewidth": 0,
              "ticks": ""
             }
            },
            "type": "scattergl"
           }
          ],
          "scattermapbox": [
           {
            "marker": {
             "colorbar": {
              "outlinewidth": 0,
              "ticks": ""
             }
            },
            "type": "scattermapbox"
           }
          ],
          "scatterpolar": [
           {
            "marker": {
             "colorbar": {
              "outlinewidth": 0,
              "ticks": ""
             }
            },
            "type": "scatterpolar"
           }
          ],
          "scatterpolargl": [
           {
            "marker": {
             "colorbar": {
              "outlinewidth": 0,
              "ticks": ""
             }
            },
            "type": "scatterpolargl"
           }
          ],
          "scatterternary": [
           {
            "marker": {
             "colorbar": {
              "outlinewidth": 0,
              "ticks": ""
             }
            },
            "type": "scatterternary"
           }
          ],
          "surface": [
           {
            "colorbar": {
             "outlinewidth": 0,
             "ticks": ""
            },
            "colorscale": [
             [
              0,
              "#0d0887"
             ],
             [
              0.1111111111111111,
              "#46039f"
             ],
             [
              0.2222222222222222,
              "#7201a8"
             ],
             [
              0.3333333333333333,
              "#9c179e"
             ],
             [
              0.4444444444444444,
              "#bd3786"
             ],
             [
              0.5555555555555556,
              "#d8576b"
             ],
             [
              0.6666666666666666,
              "#ed7953"
             ],
             [
              0.7777777777777778,
              "#fb9f3a"
             ],
             [
              0.8888888888888888,
              "#fdca26"
             ],
             [
              1,
              "#f0f921"
             ]
            ],
            "type": "surface"
           }
          ],
          "table": [
           {
            "cells": {
             "fill": {
              "color": "#EBF0F8"
             },
             "line": {
              "color": "white"
             }
            },
            "header": {
             "fill": {
              "color": "#C8D4E3"
             },
             "line": {
              "color": "white"
             }
            },
            "type": "table"
           }
          ]
         },
         "layout": {
          "annotationdefaults": {
           "arrowcolor": "#2a3f5f",
           "arrowhead": 0,
           "arrowwidth": 1
          },
          "autotypenumbers": "strict",
          "coloraxis": {
           "colorbar": {
            "outlinewidth": 0,
            "ticks": ""
           }
          },
          "colorscale": {
           "diverging": [
            [
             0,
             "#8e0152"
            ],
            [
             0.1,
             "#c51b7d"
            ],
            [
             0.2,
             "#de77ae"
            ],
            [
             0.3,
             "#f1b6da"
            ],
            [
             0.4,
             "#fde0ef"
            ],
            [
             0.5,
             "#f7f7f7"
            ],
            [
             0.6,
             "#e6f5d0"
            ],
            [
             0.7,
             "#b8e186"
            ],
            [
             0.8,
             "#7fbc41"
            ],
            [
             0.9,
             "#4d9221"
            ],
            [
             1,
             "#276419"
            ]
           ],
           "sequential": [
            [
             0,
             "#0d0887"
            ],
            [
             0.1111111111111111,
             "#46039f"
            ],
            [
             0.2222222222222222,
             "#7201a8"
            ],
            [
             0.3333333333333333,
             "#9c179e"
            ],
            [
             0.4444444444444444,
             "#bd3786"
            ],
            [
             0.5555555555555556,
             "#d8576b"
            ],
            [
             0.6666666666666666,
             "#ed7953"
            ],
            [
             0.7777777777777778,
             "#fb9f3a"
            ],
            [
             0.8888888888888888,
             "#fdca26"
            ],
            [
             1,
             "#f0f921"
            ]
           ],
           "sequentialminus": [
            [
             0,
             "#0d0887"
            ],
            [
             0.1111111111111111,
             "#46039f"
            ],
            [
             0.2222222222222222,
             "#7201a8"
            ],
            [
             0.3333333333333333,
             "#9c179e"
            ],
            [
             0.4444444444444444,
             "#bd3786"
            ],
            [
             0.5555555555555556,
             "#d8576b"
            ],
            [
             0.6666666666666666,
             "#ed7953"
            ],
            [
             0.7777777777777778,
             "#fb9f3a"
            ],
            [
             0.8888888888888888,
             "#fdca26"
            ],
            [
             1,
             "#f0f921"
            ]
           ]
          },
          "colorway": [
           "#636efa",
           "#EF553B",
           "#00cc96",
           "#ab63fa",
           "#FFA15A",
           "#19d3f3",
           "#FF6692",
           "#B6E880",
           "#FF97FF",
           "#FECB52"
          ],
          "font": {
           "color": "#2a3f5f"
          },
          "geo": {
           "bgcolor": "white",
           "lakecolor": "white",
           "landcolor": "white",
           "showlakes": true,
           "showland": true,
           "subunitcolor": "#C8D4E3"
          },
          "hoverlabel": {
           "align": "left"
          },
          "hovermode": "closest",
          "mapbox": {
           "style": "light"
          },
          "paper_bgcolor": "white",
          "plot_bgcolor": "white",
          "polar": {
           "angularaxis": {
            "gridcolor": "#EBF0F8",
            "linecolor": "#EBF0F8",
            "ticks": ""
           },
           "bgcolor": "white",
           "radialaxis": {
            "gridcolor": "#EBF0F8",
            "linecolor": "#EBF0F8",
            "ticks": ""
           }
          },
          "scene": {
           "xaxis": {
            "backgroundcolor": "white",
            "gridcolor": "#DFE8F3",
            "gridwidth": 2,
            "linecolor": "#EBF0F8",
            "showbackground": true,
            "ticks": "",
            "zerolinecolor": "#EBF0F8"
           },
           "yaxis": {
            "backgroundcolor": "white",
            "gridcolor": "#DFE8F3",
            "gridwidth": 2,
            "linecolor": "#EBF0F8",
            "showbackground": true,
            "ticks": "",
            "zerolinecolor": "#EBF0F8"
           },
           "zaxis": {
            "backgroundcolor": "white",
            "gridcolor": "#DFE8F3",
            "gridwidth": 2,
            "linecolor": "#EBF0F8",
            "showbackground": true,
            "ticks": "",
            "zerolinecolor": "#EBF0F8"
           }
          },
          "shapedefaults": {
           "line": {
            "color": "#2a3f5f"
           }
          },
          "ternary": {
           "aaxis": {
            "gridcolor": "#DFE8F3",
            "linecolor": "#A2B1C6",
            "ticks": ""
           },
           "baxis": {
            "gridcolor": "#DFE8F3",
            "linecolor": "#A2B1C6",
            "ticks": ""
           },
           "bgcolor": "white",
           "caxis": {
            "gridcolor": "#DFE8F3",
            "linecolor": "#A2B1C6",
            "ticks": ""
           }
          },
          "title": {
           "x": 0.05
          },
          "xaxis": {
           "automargin": true,
           "gridcolor": "#EBF0F8",
           "linecolor": "#EBF0F8",
           "ticks": "",
           "title": {
            "standoff": 15
           },
           "zerolinecolor": "#EBF0F8",
           "zerolinewidth": 2
          },
          "yaxis": {
           "automargin": true,
           "gridcolor": "#EBF0F8",
           "linecolor": "#EBF0F8",
           "ticks": "",
           "title": {
            "standoff": 15
           },
           "zerolinecolor": "#EBF0F8",
           "zerolinewidth": 2
          }
         }
        },
        "title": {
         "text": "Number of Trips by State in 2022"
        },
        "xaxis": {
         "anchor": "y",
         "domain": [
          0,
          1
         ],
         "title": {
          "text": "State"
         }
        },
        "yaxis": {
         "anchor": "x",
         "domain": [
          0,
          1
         ],
         "title": {
          "text": "Number of Trips"
         }
        }
       }
      },
      "text/html": [
       "<div>                            <div id=\"35938e93-8dff-406d-b6e7-acac4ef287b1\" class=\"plotly-graph-div\" style=\"height:525px; width:100%;\"></div>            <script type=\"text/javascript\">                require([\"plotly\"], function(Plotly) {                    window.PLOTLYENV=window.PLOTLYENV || {};                                    if (document.getElementById(\"35938e93-8dff-406d-b6e7-acac4ef287b1\")) {                    Plotly.newPlot(                        \"35938e93-8dff-406d-b6e7-acac4ef287b1\",                        [{\"alignmentgroup\":\"True\",\"hovertemplate\":\"State=%{x}<br>Number of Trips=%{y}<extra></extra>\",\"legendgroup\":\"\",\"marker\":{\"color\":\"#636efa\",\"pattern\":{\"shape\":\"\"}},\"name\":\"\",\"offsetgroup\":\"\",\"orientation\":\"v\",\"showlegend\":false,\"textposition\":\"auto\",\"x\":[\"AK\",\"AL\",\"AR\",\"AZ\",\"CA\",\"CO\",\"CT\",\"DC\",\"DE\",\"FL\",\"GA\",\"HI\",\"IA\",\"ID\",\"IL\",\"IN\",\"KS\",\"KY\",\"LA\",\"MA\",\"MD\",\"ME\",\"MI\",\"MN\",\"MO\",\"MS\",\"MT\",\"NC\",\"ND\",\"NE\",\"NH\",\"NJ\",\"NM\",\"NV\",\"NY\",\"OH\",\"OK\",\"OR\",\"PA\",\"RI\",\"SC\",\"SD\",\"TN\",\"TX\",\"UT\",\"VA\",\"VT\",\"WA\",\"WI\",\"WV\",\"WY\"],\"xaxis\":\"x\",\"y\":[1924401459.0,13331752210.0,8080621621.0,18941870263.0,94711239723.0,19127519700.0,10620993964.0,2432423403.0,2733893387.0,56979581628.0,28922241280.0,3654215231.0,10073949957.0,4526353413.0,40642194203.0,21390229885.0,9607744856.0,14201195885.0,14649373693.0,24560348565.0,17928243384.0,4062640990.0,30215535831.0,17396674960.0,17959928209.0,7976339185.0,2738616527.0,30811854958.0,2187858890.0,6014752219.0,4363665368.0,26781725222.0,6565454165.0,8278818981.0,64675534135.0,35816874057.0,11388626795.0,11645725865.0,37662057687.0,3166533726.0,14743917297.0,2720967932.0,20464201799.0,77729120764.0,9551834479.0,25745687775.0,1972349130.0,20099673977.0,18679901170.0,4995507347.0,1807189419.0],\"yaxis\":\"y\",\"type\":\"bar\"}],                        {\"template\":{\"data\":{\"barpolar\":[{\"marker\":{\"line\":{\"color\":\"white\",\"width\":0.5},\"pattern\":{\"fillmode\":\"overlay\",\"size\":10,\"solidity\":0.2}},\"type\":\"barpolar\"}],\"bar\":[{\"error_x\":{\"color\":\"#2a3f5f\"},\"error_y\":{\"color\":\"#2a3f5f\"},\"marker\":{\"line\":{\"color\":\"white\",\"width\":0.5},\"pattern\":{\"fillmode\":\"overlay\",\"size\":10,\"solidity\":0.2}},\"type\":\"bar\"}],\"carpet\":[{\"aaxis\":{\"endlinecolor\":\"#2a3f5f\",\"gridcolor\":\"#C8D4E3\",\"linecolor\":\"#C8D4E3\",\"minorgridcolor\":\"#C8D4E3\",\"startlinecolor\":\"#2a3f5f\"},\"baxis\":{\"endlinecolor\":\"#2a3f5f\",\"gridcolor\":\"#C8D4E3\",\"linecolor\":\"#C8D4E3\",\"minorgridcolor\":\"#C8D4E3\",\"startlinecolor\":\"#2a3f5f\"},\"type\":\"carpet\"}],\"choropleth\":[{\"colorbar\":{\"outlinewidth\":0,\"ticks\":\"\"},\"type\":\"choropleth\"}],\"contourcarpet\":[{\"colorbar\":{\"outlinewidth\":0,\"ticks\":\"\"},\"type\":\"contourcarpet\"}],\"contour\":[{\"colorbar\":{\"outlinewidth\":0,\"ticks\":\"\"},\"colorscale\":[[0.0,\"#0d0887\"],[0.1111111111111111,\"#46039f\"],[0.2222222222222222,\"#7201a8\"],[0.3333333333333333,\"#9c179e\"],[0.4444444444444444,\"#bd3786\"],[0.5555555555555556,\"#d8576b\"],[0.6666666666666666,\"#ed7953\"],[0.7777777777777778,\"#fb9f3a\"],[0.8888888888888888,\"#fdca26\"],[1.0,\"#f0f921\"]],\"type\":\"contour\"}],\"heatmapgl\":[{\"colorbar\":{\"outlinewidth\":0,\"ticks\":\"\"},\"colorscale\":[[0.0,\"#0d0887\"],[0.1111111111111111,\"#46039f\"],[0.2222222222222222,\"#7201a8\"],[0.3333333333333333,\"#9c179e\"],[0.4444444444444444,\"#bd3786\"],[0.5555555555555556,\"#d8576b\"],[0.6666666666666666,\"#ed7953\"],[0.7777777777777778,\"#fb9f3a\"],[0.8888888888888888,\"#fdca26\"],[1.0,\"#f0f921\"]],\"type\":\"heatmapgl\"}],\"heatmap\":[{\"colorbar\":{\"outlinewidth\":0,\"ticks\":\"\"},\"colorscale\":[[0.0,\"#0d0887\"],[0.1111111111111111,\"#46039f\"],[0.2222222222222222,\"#7201a8\"],[0.3333333333333333,\"#9c179e\"],[0.4444444444444444,\"#bd3786\"],[0.5555555555555556,\"#d8576b\"],[0.6666666666666666,\"#ed7953\"],[0.7777777777777778,\"#fb9f3a\"],[0.8888888888888888,\"#fdca26\"],[1.0,\"#f0f921\"]],\"type\":\"heatmap\"}],\"histogram2dcontour\":[{\"colorbar\":{\"outlinewidth\":0,\"ticks\":\"\"},\"colorscale\":[[0.0,\"#0d0887\"],[0.1111111111111111,\"#46039f\"],[0.2222222222222222,\"#7201a8\"],[0.3333333333333333,\"#9c179e\"],[0.4444444444444444,\"#bd3786\"],[0.5555555555555556,\"#d8576b\"],[0.6666666666666666,\"#ed7953\"],[0.7777777777777778,\"#fb9f3a\"],[0.8888888888888888,\"#fdca26\"],[1.0,\"#f0f921\"]],\"type\":\"histogram2dcontour\"}],\"histogram2d\":[{\"colorbar\":{\"outlinewidth\":0,\"ticks\":\"\"},\"colorscale\":[[0.0,\"#0d0887\"],[0.1111111111111111,\"#46039f\"],[0.2222222222222222,\"#7201a8\"],[0.3333333333333333,\"#9c179e\"],[0.4444444444444444,\"#bd3786\"],[0.5555555555555556,\"#d8576b\"],[0.6666666666666666,\"#ed7953\"],[0.7777777777777778,\"#fb9f3a\"],[0.8888888888888888,\"#fdca26\"],[1.0,\"#f0f921\"]],\"type\":\"histogram2d\"}],\"histogram\":[{\"marker\":{\"pattern\":{\"fillmode\":\"overlay\",\"size\":10,\"solidity\":0.2}},\"type\":\"histogram\"}],\"mesh3d\":[{\"colorbar\":{\"outlinewidth\":0,\"ticks\":\"\"},\"type\":\"mesh3d\"}],\"parcoords\":[{\"line\":{\"colorbar\":{\"outlinewidth\":0,\"ticks\":\"\"}},\"type\":\"parcoords\"}],\"pie\":[{\"automargin\":true,\"type\":\"pie\"}],\"scatter3d\":[{\"line\":{\"colorbar\":{\"outlinewidth\":0,\"ticks\":\"\"}},\"marker\":{\"colorbar\":{\"outlinewidth\":0,\"ticks\":\"\"}},\"type\":\"scatter3d\"}],\"scattercarpet\":[{\"marker\":{\"colorbar\":{\"outlinewidth\":0,\"ticks\":\"\"}},\"type\":\"scattercarpet\"}],\"scattergeo\":[{\"marker\":{\"colorbar\":{\"outlinewidth\":0,\"ticks\":\"\"}},\"type\":\"scattergeo\"}],\"scattergl\":[{\"marker\":{\"colorbar\":{\"outlinewidth\":0,\"ticks\":\"\"}},\"type\":\"scattergl\"}],\"scattermapbox\":[{\"marker\":{\"colorbar\":{\"outlinewidth\":0,\"ticks\":\"\"}},\"type\":\"scattermapbox\"}],\"scatterpolargl\":[{\"marker\":{\"colorbar\":{\"outlinewidth\":0,\"ticks\":\"\"}},\"type\":\"scatterpolargl\"}],\"scatterpolar\":[{\"marker\":{\"colorbar\":{\"outlinewidth\":0,\"ticks\":\"\"}},\"type\":\"scatterpolar\"}],\"scatter\":[{\"fillpattern\":{\"fillmode\":\"overlay\",\"size\":10,\"solidity\":0.2},\"type\":\"scatter\"}],\"scatterternary\":[{\"marker\":{\"colorbar\":{\"outlinewidth\":0,\"ticks\":\"\"}},\"type\":\"scatterternary\"}],\"surface\":[{\"colorbar\":{\"outlinewidth\":0,\"ticks\":\"\"},\"colorscale\":[[0.0,\"#0d0887\"],[0.1111111111111111,\"#46039f\"],[0.2222222222222222,\"#7201a8\"],[0.3333333333333333,\"#9c179e\"],[0.4444444444444444,\"#bd3786\"],[0.5555555555555556,\"#d8576b\"],[0.6666666666666666,\"#ed7953\"],[0.7777777777777778,\"#fb9f3a\"],[0.8888888888888888,\"#fdca26\"],[1.0,\"#f0f921\"]],\"type\":\"surface\"}],\"table\":[{\"cells\":{\"fill\":{\"color\":\"#EBF0F8\"},\"line\":{\"color\":\"white\"}},\"header\":{\"fill\":{\"color\":\"#C8D4E3\"},\"line\":{\"color\":\"white\"}},\"type\":\"table\"}]},\"layout\":{\"annotationdefaults\":{\"arrowcolor\":\"#2a3f5f\",\"arrowhead\":0,\"arrowwidth\":1},\"autotypenumbers\":\"strict\",\"coloraxis\":{\"colorbar\":{\"outlinewidth\":0,\"ticks\":\"\"}},\"colorscale\":{\"diverging\":[[0,\"#8e0152\"],[0.1,\"#c51b7d\"],[0.2,\"#de77ae\"],[0.3,\"#f1b6da\"],[0.4,\"#fde0ef\"],[0.5,\"#f7f7f7\"],[0.6,\"#e6f5d0\"],[0.7,\"#b8e186\"],[0.8,\"#7fbc41\"],[0.9,\"#4d9221\"],[1,\"#276419\"]],\"sequential\":[[0.0,\"#0d0887\"],[0.1111111111111111,\"#46039f\"],[0.2222222222222222,\"#7201a8\"],[0.3333333333333333,\"#9c179e\"],[0.4444444444444444,\"#bd3786\"],[0.5555555555555556,\"#d8576b\"],[0.6666666666666666,\"#ed7953\"],[0.7777777777777778,\"#fb9f3a\"],[0.8888888888888888,\"#fdca26\"],[1.0,\"#f0f921\"]],\"sequentialminus\":[[0.0,\"#0d0887\"],[0.1111111111111111,\"#46039f\"],[0.2222222222222222,\"#7201a8\"],[0.3333333333333333,\"#9c179e\"],[0.4444444444444444,\"#bd3786\"],[0.5555555555555556,\"#d8576b\"],[0.6666666666666666,\"#ed7953\"],[0.7777777777777778,\"#fb9f3a\"],[0.8888888888888888,\"#fdca26\"],[1.0,\"#f0f921\"]]},\"colorway\":[\"#636efa\",\"#EF553B\",\"#00cc96\",\"#ab63fa\",\"#FFA15A\",\"#19d3f3\",\"#FF6692\",\"#B6E880\",\"#FF97FF\",\"#FECB52\"],\"font\":{\"color\":\"#2a3f5f\"},\"geo\":{\"bgcolor\":\"white\",\"lakecolor\":\"white\",\"landcolor\":\"white\",\"showlakes\":true,\"showland\":true,\"subunitcolor\":\"#C8D4E3\"},\"hoverlabel\":{\"align\":\"left\"},\"hovermode\":\"closest\",\"mapbox\":{\"style\":\"light\"},\"paper_bgcolor\":\"white\",\"plot_bgcolor\":\"white\",\"polar\":{\"angularaxis\":{\"gridcolor\":\"#EBF0F8\",\"linecolor\":\"#EBF0F8\",\"ticks\":\"\"},\"bgcolor\":\"white\",\"radialaxis\":{\"gridcolor\":\"#EBF0F8\",\"linecolor\":\"#EBF0F8\",\"ticks\":\"\"}},\"scene\":{\"xaxis\":{\"backgroundcolor\":\"white\",\"gridcolor\":\"#DFE8F3\",\"gridwidth\":2,\"linecolor\":\"#EBF0F8\",\"showbackground\":true,\"ticks\":\"\",\"zerolinecolor\":\"#EBF0F8\"},\"yaxis\":{\"backgroundcolor\":\"white\",\"gridcolor\":\"#DFE8F3\",\"gridwidth\":2,\"linecolor\":\"#EBF0F8\",\"showbackground\":true,\"ticks\":\"\",\"zerolinecolor\":\"#EBF0F8\"},\"zaxis\":{\"backgroundcolor\":\"white\",\"gridcolor\":\"#DFE8F3\",\"gridwidth\":2,\"linecolor\":\"#EBF0F8\",\"showbackground\":true,\"ticks\":\"\",\"zerolinecolor\":\"#EBF0F8\"}},\"shapedefaults\":{\"line\":{\"color\":\"#2a3f5f\"}},\"ternary\":{\"aaxis\":{\"gridcolor\":\"#DFE8F3\",\"linecolor\":\"#A2B1C6\",\"ticks\":\"\"},\"baxis\":{\"gridcolor\":\"#DFE8F3\",\"linecolor\":\"#A2B1C6\",\"ticks\":\"\"},\"bgcolor\":\"white\",\"caxis\":{\"gridcolor\":\"#DFE8F3\",\"linecolor\":\"#A2B1C6\",\"ticks\":\"\"}},\"title\":{\"x\":0.05},\"xaxis\":{\"automargin\":true,\"gridcolor\":\"#EBF0F8\",\"linecolor\":\"#EBF0F8\",\"ticks\":\"\",\"title\":{\"standoff\":15},\"zerolinecolor\":\"#EBF0F8\",\"zerolinewidth\":2},\"yaxis\":{\"automargin\":true,\"gridcolor\":\"#EBF0F8\",\"linecolor\":\"#EBF0F8\",\"ticks\":\"\",\"title\":{\"standoff\":15},\"zerolinecolor\":\"#EBF0F8\",\"zerolinewidth\":2}}},\"xaxis\":{\"anchor\":\"y\",\"domain\":[0.0,1.0],\"title\":{\"text\":\"State\"}},\"yaxis\":{\"anchor\":\"x\",\"domain\":[0.0,1.0],\"title\":{\"text\":\"Number of Trips\"}},\"legend\":{\"tracegroupgap\":0},\"title\":{\"text\":\"Number of Trips by State in 2022\"},\"barmode\":\"relative\"},                        {\"responsive\": true}                    ).then(function(){\n",
       "                            \n",
       "var gd = document.getElementById('35938e93-8dff-406d-b6e7-acac4ef287b1');\n",
       "var x = new MutationObserver(function (mutations, observer) {{\n",
       "        var display = window.getComputedStyle(gd).display;\n",
       "        if (!display || display === 'none') {{\n",
       "            console.log([gd, 'removed!']);\n",
       "            Plotly.purge(gd);\n",
       "            observer.disconnect();\n",
       "        }}\n",
       "}});\n",
       "\n",
       "// Listen for the removal of the full notebook cells\n",
       "var notebookContainer = gd.closest('#notebook-container');\n",
       "if (notebookContainer) {{\n",
       "    x.observe(notebookContainer, {childList: true});\n",
       "}}\n",
       "\n",
       "// Listen for the clearing of the current output cell\n",
       "var outputEl = gd.closest('.output');\n",
       "if (outputEl) {{\n",
       "    x.observe(outputEl, {childList: true});\n",
       "}}\n",
       "\n",
       "                        })                };                });            </script>        </div>"
      ]
     },
     "metadata": {},
     "output_type": "display_data"
    }
   ],
   "source": [
    "# Create the bar plot\n",
    "fig = px.bar(\n",
    "    state_trip_data,\n",
    "    x='State Postal Code',\n",
    "    y='Number of Trips',\n",
    "    title='Number of Trips by State in 2022',\n",
    "    labels={'State Postal Code': 'State', 'Number of Trips': 'Number of Trips'},\n",
    "    template='plotly_white'\n",
    ")\n",
    "\n",
    "# Display the plot\n",
    "fig.show()\n"
   ]
  },
  {
   "cell_type": "code",
   "execution_count": 12,
   "id": "c71826fd",
   "metadata": {},
   "outputs": [
    {
     "data": {
      "application/vnd.plotly.v1+json": {
       "config": {
        "plotlyServerURL": "https://plot.ly"
       },
       "data": [
        {
         "coloraxis": "coloraxis",
         "geo": "geo",
         "hovertemplate": "State=%{location}<br>Number of Trips=%{z}<extra></extra>",
         "locationmode": "USA-states",
         "locations": [
          "AK",
          "AL",
          "AR",
          "AZ",
          "CA",
          "CO",
          "CT",
          "DC",
          "DE",
          "FL",
          "GA",
          "HI",
          "IA",
          "ID",
          "IL",
          "IN",
          "KS",
          "KY",
          "LA",
          "MA",
          "MD",
          "ME",
          "MI",
          "MN",
          "MO",
          "MS",
          "MT",
          "NC",
          "ND",
          "NE",
          "NH",
          "NJ",
          "NM",
          "NV",
          "NY",
          "OH",
          "OK",
          "OR",
          "PA",
          "RI",
          "SC",
          "SD",
          "TN",
          "TX",
          "UT",
          "VA",
          "VT",
          "WA",
          "WI",
          "WV",
          "WY"
         ],
         "name": "",
         "type": "choropleth",
         "z": [
          1924401459,
          13331752210,
          8080621621,
          18941870263,
          94711239723,
          19127519700,
          10620993964,
          2432423403,
          2733893387,
          56979581628,
          28922241280,
          3654215231,
          10073949957,
          4526353413,
          40642194203,
          21390229885,
          9607744856,
          14201195885,
          14649373693,
          24560348565,
          17928243384,
          4062640990,
          30215535831,
          17396674960,
          17959928209,
          7976339185,
          2738616527,
          30811854958,
          2187858890,
          6014752219,
          4363665368,
          26781725222,
          6565454165,
          8278818981,
          64675534135,
          35816874057,
          11388626795,
          11645725865,
          37662057687,
          3166533726,
          14743917297,
          2720967932,
          20464201799,
          77729120764,
          9551834479,
          25745687775,
          1972349130,
          20099673977,
          18679901170,
          4995507347,
          1807189419
         ]
        }
       ],
       "layout": {
        "coloraxis": {
         "colorbar": {
          "title": {
           "text": "Number of Trips"
          }
         },
         "colorscale": [
          [
           0,
           "rgb(247,251,255)"
          ],
          [
           0.125,
           "rgb(222,235,247)"
          ],
          [
           0.25,
           "rgb(198,219,239)"
          ],
          [
           0.375,
           "rgb(158,202,225)"
          ],
          [
           0.5,
           "rgb(107,174,214)"
          ],
          [
           0.625,
           "rgb(66,146,198)"
          ],
          [
           0.75,
           "rgb(33,113,181)"
          ],
          [
           0.875,
           "rgb(8,81,156)"
          ],
          [
           1,
           "rgb(8,48,107)"
          ]
         ]
        },
        "geo": {
         "center": {},
         "domain": {
          "x": [
           0,
           1
          ],
          "y": [
           0,
           1
          ]
         },
         "scope": "usa"
        },
        "legend": {
         "tracegroupgap": 0
        },
        "template": {
         "data": {
          "bar": [
           {
            "error_x": {
             "color": "#2a3f5f"
            },
            "error_y": {
             "color": "#2a3f5f"
            },
            "marker": {
             "line": {
              "color": "#E5ECF6",
              "width": 0.5
             },
             "pattern": {
              "fillmode": "overlay",
              "size": 10,
              "solidity": 0.2
             }
            },
            "type": "bar"
           }
          ],
          "barpolar": [
           {
            "marker": {
             "line": {
              "color": "#E5ECF6",
              "width": 0.5
             },
             "pattern": {
              "fillmode": "overlay",
              "size": 10,
              "solidity": 0.2
             }
            },
            "type": "barpolar"
           }
          ],
          "carpet": [
           {
            "aaxis": {
             "endlinecolor": "#2a3f5f",
             "gridcolor": "white",
             "linecolor": "white",
             "minorgridcolor": "white",
             "startlinecolor": "#2a3f5f"
            },
            "baxis": {
             "endlinecolor": "#2a3f5f",
             "gridcolor": "white",
             "linecolor": "white",
             "minorgridcolor": "white",
             "startlinecolor": "#2a3f5f"
            },
            "type": "carpet"
           }
          ],
          "choropleth": [
           {
            "colorbar": {
             "outlinewidth": 0,
             "ticks": ""
            },
            "type": "choropleth"
           }
          ],
          "contour": [
           {
            "colorbar": {
             "outlinewidth": 0,
             "ticks": ""
            },
            "colorscale": [
             [
              0,
              "#0d0887"
             ],
             [
              0.1111111111111111,
              "#46039f"
             ],
             [
              0.2222222222222222,
              "#7201a8"
             ],
             [
              0.3333333333333333,
              "#9c179e"
             ],
             [
              0.4444444444444444,
              "#bd3786"
             ],
             [
              0.5555555555555556,
              "#d8576b"
             ],
             [
              0.6666666666666666,
              "#ed7953"
             ],
             [
              0.7777777777777778,
              "#fb9f3a"
             ],
             [
              0.8888888888888888,
              "#fdca26"
             ],
             [
              1,
              "#f0f921"
             ]
            ],
            "type": "contour"
           }
          ],
          "contourcarpet": [
           {
            "colorbar": {
             "outlinewidth": 0,
             "ticks": ""
            },
            "type": "contourcarpet"
           }
          ],
          "heatmap": [
           {
            "colorbar": {
             "outlinewidth": 0,
             "ticks": ""
            },
            "colorscale": [
             [
              0,
              "#0d0887"
             ],
             [
              0.1111111111111111,
              "#46039f"
             ],
             [
              0.2222222222222222,
              "#7201a8"
             ],
             [
              0.3333333333333333,
              "#9c179e"
             ],
             [
              0.4444444444444444,
              "#bd3786"
             ],
             [
              0.5555555555555556,
              "#d8576b"
             ],
             [
              0.6666666666666666,
              "#ed7953"
             ],
             [
              0.7777777777777778,
              "#fb9f3a"
             ],
             [
              0.8888888888888888,
              "#fdca26"
             ],
             [
              1,
              "#f0f921"
             ]
            ],
            "type": "heatmap"
           }
          ],
          "heatmapgl": [
           {
            "colorbar": {
             "outlinewidth": 0,
             "ticks": ""
            },
            "colorscale": [
             [
              0,
              "#0d0887"
             ],
             [
              0.1111111111111111,
              "#46039f"
             ],
             [
              0.2222222222222222,
              "#7201a8"
             ],
             [
              0.3333333333333333,
              "#9c179e"
             ],
             [
              0.4444444444444444,
              "#bd3786"
             ],
             [
              0.5555555555555556,
              "#d8576b"
             ],
             [
              0.6666666666666666,
              "#ed7953"
             ],
             [
              0.7777777777777778,
              "#fb9f3a"
             ],
             [
              0.8888888888888888,
              "#fdca26"
             ],
             [
              1,
              "#f0f921"
             ]
            ],
            "type": "heatmapgl"
           }
          ],
          "histogram": [
           {
            "marker": {
             "pattern": {
              "fillmode": "overlay",
              "size": 10,
              "solidity": 0.2
             }
            },
            "type": "histogram"
           }
          ],
          "histogram2d": [
           {
            "colorbar": {
             "outlinewidth": 0,
             "ticks": ""
            },
            "colorscale": [
             [
              0,
              "#0d0887"
             ],
             [
              0.1111111111111111,
              "#46039f"
             ],
             [
              0.2222222222222222,
              "#7201a8"
             ],
             [
              0.3333333333333333,
              "#9c179e"
             ],
             [
              0.4444444444444444,
              "#bd3786"
             ],
             [
              0.5555555555555556,
              "#d8576b"
             ],
             [
              0.6666666666666666,
              "#ed7953"
             ],
             [
              0.7777777777777778,
              "#fb9f3a"
             ],
             [
              0.8888888888888888,
              "#fdca26"
             ],
             [
              1,
              "#f0f921"
             ]
            ],
            "type": "histogram2d"
           }
          ],
          "histogram2dcontour": [
           {
            "colorbar": {
             "outlinewidth": 0,
             "ticks": ""
            },
            "colorscale": [
             [
              0,
              "#0d0887"
             ],
             [
              0.1111111111111111,
              "#46039f"
             ],
             [
              0.2222222222222222,
              "#7201a8"
             ],
             [
              0.3333333333333333,
              "#9c179e"
             ],
             [
              0.4444444444444444,
              "#bd3786"
             ],
             [
              0.5555555555555556,
              "#d8576b"
             ],
             [
              0.6666666666666666,
              "#ed7953"
             ],
             [
              0.7777777777777778,
              "#fb9f3a"
             ],
             [
              0.8888888888888888,
              "#fdca26"
             ],
             [
              1,
              "#f0f921"
             ]
            ],
            "type": "histogram2dcontour"
           }
          ],
          "mesh3d": [
           {
            "colorbar": {
             "outlinewidth": 0,
             "ticks": ""
            },
            "type": "mesh3d"
           }
          ],
          "parcoords": [
           {
            "line": {
             "colorbar": {
              "outlinewidth": 0,
              "ticks": ""
             }
            },
            "type": "parcoords"
           }
          ],
          "pie": [
           {
            "automargin": true,
            "type": "pie"
           }
          ],
          "scatter": [
           {
            "fillpattern": {
             "fillmode": "overlay",
             "size": 10,
             "solidity": 0.2
            },
            "type": "scatter"
           }
          ],
          "scatter3d": [
           {
            "line": {
             "colorbar": {
              "outlinewidth": 0,
              "ticks": ""
             }
            },
            "marker": {
             "colorbar": {
              "outlinewidth": 0,
              "ticks": ""
             }
            },
            "type": "scatter3d"
           }
          ],
          "scattercarpet": [
           {
            "marker": {
             "colorbar": {
              "outlinewidth": 0,
              "ticks": ""
             }
            },
            "type": "scattercarpet"
           }
          ],
          "scattergeo": [
           {
            "marker": {
             "colorbar": {
              "outlinewidth": 0,
              "ticks": ""
             }
            },
            "type": "scattergeo"
           }
          ],
          "scattergl": [
           {
            "marker": {
             "colorbar": {
              "outlinewidth": 0,
              "ticks": ""
             }
            },
            "type": "scattergl"
           }
          ],
          "scattermapbox": [
           {
            "marker": {
             "colorbar": {
              "outlinewidth": 0,
              "ticks": ""
             }
            },
            "type": "scattermapbox"
           }
          ],
          "scatterpolar": [
           {
            "marker": {
             "colorbar": {
              "outlinewidth": 0,
              "ticks": ""
             }
            },
            "type": "scatterpolar"
           }
          ],
          "scatterpolargl": [
           {
            "marker": {
             "colorbar": {
              "outlinewidth": 0,
              "ticks": ""
             }
            },
            "type": "scatterpolargl"
           }
          ],
          "scatterternary": [
           {
            "marker": {
             "colorbar": {
              "outlinewidth": 0,
              "ticks": ""
             }
            },
            "type": "scatterternary"
           }
          ],
          "surface": [
           {
            "colorbar": {
             "outlinewidth": 0,
             "ticks": ""
            },
            "colorscale": [
             [
              0,
              "#0d0887"
             ],
             [
              0.1111111111111111,
              "#46039f"
             ],
             [
              0.2222222222222222,
              "#7201a8"
             ],
             [
              0.3333333333333333,
              "#9c179e"
             ],
             [
              0.4444444444444444,
              "#bd3786"
             ],
             [
              0.5555555555555556,
              "#d8576b"
             ],
             [
              0.6666666666666666,
              "#ed7953"
             ],
             [
              0.7777777777777778,
              "#fb9f3a"
             ],
             [
              0.8888888888888888,
              "#fdca26"
             ],
             [
              1,
              "#f0f921"
             ]
            ],
            "type": "surface"
           }
          ],
          "table": [
           {
            "cells": {
             "fill": {
              "color": "#EBF0F8"
             },
             "line": {
              "color": "white"
             }
            },
            "header": {
             "fill": {
              "color": "#C8D4E3"
             },
             "line": {
              "color": "white"
             }
            },
            "type": "table"
           }
          ]
         },
         "layout": {
          "annotationdefaults": {
           "arrowcolor": "#2a3f5f",
           "arrowhead": 0,
           "arrowwidth": 1
          },
          "autotypenumbers": "strict",
          "coloraxis": {
           "colorbar": {
            "outlinewidth": 0,
            "ticks": ""
           }
          },
          "colorscale": {
           "diverging": [
            [
             0,
             "#8e0152"
            ],
            [
             0.1,
             "#c51b7d"
            ],
            [
             0.2,
             "#de77ae"
            ],
            [
             0.3,
             "#f1b6da"
            ],
            [
             0.4,
             "#fde0ef"
            ],
            [
             0.5,
             "#f7f7f7"
            ],
            [
             0.6,
             "#e6f5d0"
            ],
            [
             0.7,
             "#b8e186"
            ],
            [
             0.8,
             "#7fbc41"
            ],
            [
             0.9,
             "#4d9221"
            ],
            [
             1,
             "#276419"
            ]
           ],
           "sequential": [
            [
             0,
             "#0d0887"
            ],
            [
             0.1111111111111111,
             "#46039f"
            ],
            [
             0.2222222222222222,
             "#7201a8"
            ],
            [
             0.3333333333333333,
             "#9c179e"
            ],
            [
             0.4444444444444444,
             "#bd3786"
            ],
            [
             0.5555555555555556,
             "#d8576b"
            ],
            [
             0.6666666666666666,
             "#ed7953"
            ],
            [
             0.7777777777777778,
             "#fb9f3a"
            ],
            [
             0.8888888888888888,
             "#fdca26"
            ],
            [
             1,
             "#f0f921"
            ]
           ],
           "sequentialminus": [
            [
             0,
             "#0d0887"
            ],
            [
             0.1111111111111111,
             "#46039f"
            ],
            [
             0.2222222222222222,
             "#7201a8"
            ],
            [
             0.3333333333333333,
             "#9c179e"
            ],
            [
             0.4444444444444444,
             "#bd3786"
            ],
            [
             0.5555555555555556,
             "#d8576b"
            ],
            [
             0.6666666666666666,
             "#ed7953"
            ],
            [
             0.7777777777777778,
             "#fb9f3a"
            ],
            [
             0.8888888888888888,
             "#fdca26"
            ],
            [
             1,
             "#f0f921"
            ]
           ]
          },
          "colorway": [
           "#636efa",
           "#EF553B",
           "#00cc96",
           "#ab63fa",
           "#FFA15A",
           "#19d3f3",
           "#FF6692",
           "#B6E880",
           "#FF97FF",
           "#FECB52"
          ],
          "font": {
           "color": "#2a3f5f"
          },
          "geo": {
           "bgcolor": "white",
           "lakecolor": "white",
           "landcolor": "#E5ECF6",
           "showlakes": true,
           "showland": true,
           "subunitcolor": "white"
          },
          "hoverlabel": {
           "align": "left"
          },
          "hovermode": "closest",
          "mapbox": {
           "style": "light"
          },
          "paper_bgcolor": "white",
          "plot_bgcolor": "#E5ECF6",
          "polar": {
           "angularaxis": {
            "gridcolor": "white",
            "linecolor": "white",
            "ticks": ""
           },
           "bgcolor": "#E5ECF6",
           "radialaxis": {
            "gridcolor": "white",
            "linecolor": "white",
            "ticks": ""
           }
          },
          "scene": {
           "xaxis": {
            "backgroundcolor": "#E5ECF6",
            "gridcolor": "white",
            "gridwidth": 2,
            "linecolor": "white",
            "showbackground": true,
            "ticks": "",
            "zerolinecolor": "white"
           },
           "yaxis": {
            "backgroundcolor": "#E5ECF6",
            "gridcolor": "white",
            "gridwidth": 2,
            "linecolor": "white",
            "showbackground": true,
            "ticks": "",
            "zerolinecolor": "white"
           },
           "zaxis": {
            "backgroundcolor": "#E5ECF6",
            "gridcolor": "white",
            "gridwidth": 2,
            "linecolor": "white",
            "showbackground": true,
            "ticks": "",
            "zerolinecolor": "white"
           }
          },
          "shapedefaults": {
           "line": {
            "color": "#2a3f5f"
           }
          },
          "ternary": {
           "aaxis": {
            "gridcolor": "white",
            "linecolor": "white",
            "ticks": ""
           },
           "baxis": {
            "gridcolor": "white",
            "linecolor": "white",
            "ticks": ""
           },
           "bgcolor": "#E5ECF6",
           "caxis": {
            "gridcolor": "white",
            "linecolor": "white",
            "ticks": ""
           }
          },
          "title": {
           "x": 0.05
          },
          "xaxis": {
           "automargin": true,
           "gridcolor": "white",
           "linecolor": "white",
           "ticks": "",
           "title": {
            "standoff": 15
           },
           "zerolinecolor": "white",
           "zerolinewidth": 2
          },
          "yaxis": {
           "automargin": true,
           "gridcolor": "white",
           "linecolor": "white",
           "ticks": "",
           "title": {
            "standoff": 15
           },
           "zerolinecolor": "white",
           "zerolinewidth": 2
          }
         }
        },
        "title": {
         "text": "Number of Trips by State in 2022"
        }
       }
      },
      "text/html": [
       "<div>                            <div id=\"35d1caa9-548a-46f0-9de5-96d3e7268358\" class=\"plotly-graph-div\" style=\"height:525px; width:100%;\"></div>            <script type=\"text/javascript\">                require([\"plotly\"], function(Plotly) {                    window.PLOTLYENV=window.PLOTLYENV || {};                                    if (document.getElementById(\"35d1caa9-548a-46f0-9de5-96d3e7268358\")) {                    Plotly.newPlot(                        \"35d1caa9-548a-46f0-9de5-96d3e7268358\",                        [{\"coloraxis\":\"coloraxis\",\"geo\":\"geo\",\"hovertemplate\":\"State=%{location}<br>Number of Trips=%{z}<extra></extra>\",\"locationmode\":\"USA-states\",\"locations\":[\"AK\",\"AL\",\"AR\",\"AZ\",\"CA\",\"CO\",\"CT\",\"DC\",\"DE\",\"FL\",\"GA\",\"HI\",\"IA\",\"ID\",\"IL\",\"IN\",\"KS\",\"KY\",\"LA\",\"MA\",\"MD\",\"ME\",\"MI\",\"MN\",\"MO\",\"MS\",\"MT\",\"NC\",\"ND\",\"NE\",\"NH\",\"NJ\",\"NM\",\"NV\",\"NY\",\"OH\",\"OK\",\"OR\",\"PA\",\"RI\",\"SC\",\"SD\",\"TN\",\"TX\",\"UT\",\"VA\",\"VT\",\"WA\",\"WI\",\"WV\",\"WY\"],\"name\":\"\",\"z\":[1924401459.0,13331752210.0,8080621621.0,18941870263.0,94711239723.0,19127519700.0,10620993964.0,2432423403.0,2733893387.0,56979581628.0,28922241280.0,3654215231.0,10073949957.0,4526353413.0,40642194203.0,21390229885.0,9607744856.0,14201195885.0,14649373693.0,24560348565.0,17928243384.0,4062640990.0,30215535831.0,17396674960.0,17959928209.0,7976339185.0,2738616527.0,30811854958.0,2187858890.0,6014752219.0,4363665368.0,26781725222.0,6565454165.0,8278818981.0,64675534135.0,35816874057.0,11388626795.0,11645725865.0,37662057687.0,3166533726.0,14743917297.0,2720967932.0,20464201799.0,77729120764.0,9551834479.0,25745687775.0,1972349130.0,20099673977.0,18679901170.0,4995507347.0,1807189419.0],\"type\":\"choropleth\"}],                        {\"template\":{\"data\":{\"histogram2dcontour\":[{\"type\":\"histogram2dcontour\",\"colorbar\":{\"outlinewidth\":0,\"ticks\":\"\"},\"colorscale\":[[0.0,\"#0d0887\"],[0.1111111111111111,\"#46039f\"],[0.2222222222222222,\"#7201a8\"],[0.3333333333333333,\"#9c179e\"],[0.4444444444444444,\"#bd3786\"],[0.5555555555555556,\"#d8576b\"],[0.6666666666666666,\"#ed7953\"],[0.7777777777777778,\"#fb9f3a\"],[0.8888888888888888,\"#fdca26\"],[1.0,\"#f0f921\"]]}],\"choropleth\":[{\"type\":\"choropleth\",\"colorbar\":{\"outlinewidth\":0,\"ticks\":\"\"}}],\"histogram2d\":[{\"type\":\"histogram2d\",\"colorbar\":{\"outlinewidth\":0,\"ticks\":\"\"},\"colorscale\":[[0.0,\"#0d0887\"],[0.1111111111111111,\"#46039f\"],[0.2222222222222222,\"#7201a8\"],[0.3333333333333333,\"#9c179e\"],[0.4444444444444444,\"#bd3786\"],[0.5555555555555556,\"#d8576b\"],[0.6666666666666666,\"#ed7953\"],[0.7777777777777778,\"#fb9f3a\"],[0.8888888888888888,\"#fdca26\"],[1.0,\"#f0f921\"]]}],\"heatmap\":[{\"type\":\"heatmap\",\"colorbar\":{\"outlinewidth\":0,\"ticks\":\"\"},\"colorscale\":[[0.0,\"#0d0887\"],[0.1111111111111111,\"#46039f\"],[0.2222222222222222,\"#7201a8\"],[0.3333333333333333,\"#9c179e\"],[0.4444444444444444,\"#bd3786\"],[0.5555555555555556,\"#d8576b\"],[0.6666666666666666,\"#ed7953\"],[0.7777777777777778,\"#fb9f3a\"],[0.8888888888888888,\"#fdca26\"],[1.0,\"#f0f921\"]]}],\"heatmapgl\":[{\"type\":\"heatmapgl\",\"colorbar\":{\"outlinewidth\":0,\"ticks\":\"\"},\"colorscale\":[[0.0,\"#0d0887\"],[0.1111111111111111,\"#46039f\"],[0.2222222222222222,\"#7201a8\"],[0.3333333333333333,\"#9c179e\"],[0.4444444444444444,\"#bd3786\"],[0.5555555555555556,\"#d8576b\"],[0.6666666666666666,\"#ed7953\"],[0.7777777777777778,\"#fb9f3a\"],[0.8888888888888888,\"#fdca26\"],[1.0,\"#f0f921\"]]}],\"contourcarpet\":[{\"type\":\"contourcarpet\",\"colorbar\":{\"outlinewidth\":0,\"ticks\":\"\"}}],\"contour\":[{\"type\":\"contour\",\"colorbar\":{\"outlinewidth\":0,\"ticks\":\"\"},\"colorscale\":[[0.0,\"#0d0887\"],[0.1111111111111111,\"#46039f\"],[0.2222222222222222,\"#7201a8\"],[0.3333333333333333,\"#9c179e\"],[0.4444444444444444,\"#bd3786\"],[0.5555555555555556,\"#d8576b\"],[0.6666666666666666,\"#ed7953\"],[0.7777777777777778,\"#fb9f3a\"],[0.8888888888888888,\"#fdca26\"],[1.0,\"#f0f921\"]]}],\"surface\":[{\"type\":\"surface\",\"colorbar\":{\"outlinewidth\":0,\"ticks\":\"\"},\"colorscale\":[[0.0,\"#0d0887\"],[0.1111111111111111,\"#46039f\"],[0.2222222222222222,\"#7201a8\"],[0.3333333333333333,\"#9c179e\"],[0.4444444444444444,\"#bd3786\"],[0.5555555555555556,\"#d8576b\"],[0.6666666666666666,\"#ed7953\"],[0.7777777777777778,\"#fb9f3a\"],[0.8888888888888888,\"#fdca26\"],[1.0,\"#f0f921\"]]}],\"mesh3d\":[{\"type\":\"mesh3d\",\"colorbar\":{\"outlinewidth\":0,\"ticks\":\"\"}}],\"scatter\":[{\"fillpattern\":{\"fillmode\":\"overlay\",\"size\":10,\"solidity\":0.2},\"type\":\"scatter\"}],\"parcoords\":[{\"type\":\"parcoords\",\"line\":{\"colorbar\":{\"outlinewidth\":0,\"ticks\":\"\"}}}],\"scatterpolargl\":[{\"type\":\"scatterpolargl\",\"marker\":{\"colorbar\":{\"outlinewidth\":0,\"ticks\":\"\"}}}],\"bar\":[{\"error_x\":{\"color\":\"#2a3f5f\"},\"error_y\":{\"color\":\"#2a3f5f\"},\"marker\":{\"line\":{\"color\":\"#E5ECF6\",\"width\":0.5},\"pattern\":{\"fillmode\":\"overlay\",\"size\":10,\"solidity\":0.2}},\"type\":\"bar\"}],\"scattergeo\":[{\"type\":\"scattergeo\",\"marker\":{\"colorbar\":{\"outlinewidth\":0,\"ticks\":\"\"}}}],\"scatterpolar\":[{\"type\":\"scatterpolar\",\"marker\":{\"colorbar\":{\"outlinewidth\":0,\"ticks\":\"\"}}}],\"histogram\":[{\"marker\":{\"pattern\":{\"fillmode\":\"overlay\",\"size\":10,\"solidity\":0.2}},\"type\":\"histogram\"}],\"scattergl\":[{\"type\":\"scattergl\",\"marker\":{\"colorbar\":{\"outlinewidth\":0,\"ticks\":\"\"}}}],\"scatter3d\":[{\"type\":\"scatter3d\",\"line\":{\"colorbar\":{\"outlinewidth\":0,\"ticks\":\"\"}},\"marker\":{\"colorbar\":{\"outlinewidth\":0,\"ticks\":\"\"}}}],\"scattermapbox\":[{\"type\":\"scattermapbox\",\"marker\":{\"colorbar\":{\"outlinewidth\":0,\"ticks\":\"\"}}}],\"scatterternary\":[{\"type\":\"scatterternary\",\"marker\":{\"colorbar\":{\"outlinewidth\":0,\"ticks\":\"\"}}}],\"scattercarpet\":[{\"type\":\"scattercarpet\",\"marker\":{\"colorbar\":{\"outlinewidth\":0,\"ticks\":\"\"}}}],\"carpet\":[{\"aaxis\":{\"endlinecolor\":\"#2a3f5f\",\"gridcolor\":\"white\",\"linecolor\":\"white\",\"minorgridcolor\":\"white\",\"startlinecolor\":\"#2a3f5f\"},\"baxis\":{\"endlinecolor\":\"#2a3f5f\",\"gridcolor\":\"white\",\"linecolor\":\"white\",\"minorgridcolor\":\"white\",\"startlinecolor\":\"#2a3f5f\"},\"type\":\"carpet\"}],\"table\":[{\"cells\":{\"fill\":{\"color\":\"#EBF0F8\"},\"line\":{\"color\":\"white\"}},\"header\":{\"fill\":{\"color\":\"#C8D4E3\"},\"line\":{\"color\":\"white\"}},\"type\":\"table\"}],\"barpolar\":[{\"marker\":{\"line\":{\"color\":\"#E5ECF6\",\"width\":0.5},\"pattern\":{\"fillmode\":\"overlay\",\"size\":10,\"solidity\":0.2}},\"type\":\"barpolar\"}],\"pie\":[{\"automargin\":true,\"type\":\"pie\"}]},\"layout\":{\"autotypenumbers\":\"strict\",\"colorway\":[\"#636efa\",\"#EF553B\",\"#00cc96\",\"#ab63fa\",\"#FFA15A\",\"#19d3f3\",\"#FF6692\",\"#B6E880\",\"#FF97FF\",\"#FECB52\"],\"font\":{\"color\":\"#2a3f5f\"},\"hovermode\":\"closest\",\"hoverlabel\":{\"align\":\"left\"},\"paper_bgcolor\":\"white\",\"plot_bgcolor\":\"#E5ECF6\",\"polar\":{\"bgcolor\":\"#E5ECF6\",\"angularaxis\":{\"gridcolor\":\"white\",\"linecolor\":\"white\",\"ticks\":\"\"},\"radialaxis\":{\"gridcolor\":\"white\",\"linecolor\":\"white\",\"ticks\":\"\"}},\"ternary\":{\"bgcolor\":\"#E5ECF6\",\"aaxis\":{\"gridcolor\":\"white\",\"linecolor\":\"white\",\"ticks\":\"\"},\"baxis\":{\"gridcolor\":\"white\",\"linecolor\":\"white\",\"ticks\":\"\"},\"caxis\":{\"gridcolor\":\"white\",\"linecolor\":\"white\",\"ticks\":\"\"}},\"coloraxis\":{\"colorbar\":{\"outlinewidth\":0,\"ticks\":\"\"}},\"colorscale\":{\"sequential\":[[0.0,\"#0d0887\"],[0.1111111111111111,\"#46039f\"],[0.2222222222222222,\"#7201a8\"],[0.3333333333333333,\"#9c179e\"],[0.4444444444444444,\"#bd3786\"],[0.5555555555555556,\"#d8576b\"],[0.6666666666666666,\"#ed7953\"],[0.7777777777777778,\"#fb9f3a\"],[0.8888888888888888,\"#fdca26\"],[1.0,\"#f0f921\"]],\"sequentialminus\":[[0.0,\"#0d0887\"],[0.1111111111111111,\"#46039f\"],[0.2222222222222222,\"#7201a8\"],[0.3333333333333333,\"#9c179e\"],[0.4444444444444444,\"#bd3786\"],[0.5555555555555556,\"#d8576b\"],[0.6666666666666666,\"#ed7953\"],[0.7777777777777778,\"#fb9f3a\"],[0.8888888888888888,\"#fdca26\"],[1.0,\"#f0f921\"]],\"diverging\":[[0,\"#8e0152\"],[0.1,\"#c51b7d\"],[0.2,\"#de77ae\"],[0.3,\"#f1b6da\"],[0.4,\"#fde0ef\"],[0.5,\"#f7f7f7\"],[0.6,\"#e6f5d0\"],[0.7,\"#b8e186\"],[0.8,\"#7fbc41\"],[0.9,\"#4d9221\"],[1,\"#276419\"]]},\"xaxis\":{\"gridcolor\":\"white\",\"linecolor\":\"white\",\"ticks\":\"\",\"title\":{\"standoff\":15},\"zerolinecolor\":\"white\",\"automargin\":true,\"zerolinewidth\":2},\"yaxis\":{\"gridcolor\":\"white\",\"linecolor\":\"white\",\"ticks\":\"\",\"title\":{\"standoff\":15},\"zerolinecolor\":\"white\",\"automargin\":true,\"zerolinewidth\":2},\"scene\":{\"xaxis\":{\"backgroundcolor\":\"#E5ECF6\",\"gridcolor\":\"white\",\"linecolor\":\"white\",\"showbackground\":true,\"ticks\":\"\",\"zerolinecolor\":\"white\",\"gridwidth\":2},\"yaxis\":{\"backgroundcolor\":\"#E5ECF6\",\"gridcolor\":\"white\",\"linecolor\":\"white\",\"showbackground\":true,\"ticks\":\"\",\"zerolinecolor\":\"white\",\"gridwidth\":2},\"zaxis\":{\"backgroundcolor\":\"#E5ECF6\",\"gridcolor\":\"white\",\"linecolor\":\"white\",\"showbackground\":true,\"ticks\":\"\",\"zerolinecolor\":\"white\",\"gridwidth\":2}},\"shapedefaults\":{\"line\":{\"color\":\"#2a3f5f\"}},\"annotationdefaults\":{\"arrowcolor\":\"#2a3f5f\",\"arrowhead\":0,\"arrowwidth\":1},\"geo\":{\"bgcolor\":\"white\",\"landcolor\":\"#E5ECF6\",\"subunitcolor\":\"white\",\"showland\":true,\"showlakes\":true,\"lakecolor\":\"white\"},\"title\":{\"x\":0.05},\"mapbox\":{\"style\":\"light\"}}},\"geo\":{\"domain\":{\"x\":[0.0,1.0],\"y\":[0.0,1.0]},\"center\":{},\"scope\":\"usa\"},\"coloraxis\":{\"colorbar\":{\"title\":{\"text\":\"Number of Trips\"}},\"colorscale\":[[0.0,\"rgb(247,251,255)\"],[0.125,\"rgb(222,235,247)\"],[0.25,\"rgb(198,219,239)\"],[0.375,\"rgb(158,202,225)\"],[0.5,\"rgb(107,174,214)\"],[0.625,\"rgb(66,146,198)\"],[0.75,\"rgb(33,113,181)\"],[0.875,\"rgb(8,81,156)\"],[1.0,\"rgb(8,48,107)\"]]},\"legend\":{\"tracegroupgap\":0},\"title\":{\"text\":\"Number of Trips by State in 2022\"}},                        {\"responsive\": true}                    ).then(function(){\n",
       "                            \n",
       "var gd = document.getElementById('35d1caa9-548a-46f0-9de5-96d3e7268358');\n",
       "var x = new MutationObserver(function (mutations, observer) {{\n",
       "        var display = window.getComputedStyle(gd).display;\n",
       "        if (!display || display === 'none') {{\n",
       "            console.log([gd, 'removed!']);\n",
       "            Plotly.purge(gd);\n",
       "            observer.disconnect();\n",
       "        }}\n",
       "}});\n",
       "\n",
       "// Listen for the removal of the full notebook cells\n",
       "var notebookContainer = gd.closest('#notebook-container');\n",
       "if (notebookContainer) {{\n",
       "    x.observe(notebookContainer, {childList: true});\n",
       "}}\n",
       "\n",
       "// Listen for the clearing of the current output cell\n",
       "var outputEl = gd.closest('.output');\n",
       "if (outputEl) {{\n",
       "    x.observe(outputEl, {childList: true});\n",
       "}}\n",
       "\n",
       "                        })                };                });            </script>        </div>"
      ]
     },
     "metadata": {},
     "output_type": "display_data"
    }
   ],
   "source": [
    "# Create the choropleth map\n",
    "fig = px.choropleth(\n",
    "    state_trip_data,\n",
    "    locations='State Postal Code',\n",
    "    locationmode='USA-states',\n",
    "    color='Number of Trips',\n",
    "    color_continuous_scale='Blues',\n",
    "    scope='usa',\n",
    "    title='Number of Trips by State in 2022',\n",
    "    labels={'State Postal Code': 'State', 'Number of Trips': 'Number of Trips'}\n",
    ")\n",
    "\n",
    "# Display the map\n",
    "fig.show()\n"
   ]
  },
  {
   "cell_type": "code",
   "execution_count": 13,
   "id": "da7ab7bd",
   "metadata": {},
   "outputs": [
    {
     "name": "stderr",
     "output_type": "stream",
     "text": [
      "C:\\Users\\60149\\AppData\\Local\\Temp\\ipykernel_3140\\1174314375.py:5: SettingWithCopyWarning:\n",
      "\n",
      "\n",
      "A value is trying to be set on a copy of a slice from a DataFrame.\n",
      "Try using .loc[row_indexer,col_indexer] = value instead\n",
      "\n",
      "See the caveats in the documentation: https://pandas.pydata.org/pandas-docs/stable/user_guide/indexing.html#returning-a-view-versus-a-copy\n",
      "\n"
     ]
    },
    {
     "data": {
      "application/vnd.plotly.v1+json": {
       "config": {
        "plotlyServerURL": "https://plot.ly"
       },
       "data": [
        {
         "alignmentgroup": "True",
         "hovertemplate": "State=%{x}<br>Number of Trips=%{y}<br>Year=%{marker.color}<extra></extra>",
         "legendgroup": "",
         "marker": {
          "color": [
           2019,
           2020,
           2021,
           2022,
           2019,
           2020,
           2021,
           2022,
           2019,
           2020,
           2021,
           2022,
           2019,
           2020,
           2021,
           2022,
           2019,
           2020,
           2021,
           2022,
           2019,
           2020,
           2021,
           2022,
           2019,
           2020,
           2021,
           2022,
           2019,
           2020,
           2021,
           2022,
           2019,
           2020,
           2021,
           2022,
           2019,
           2020,
           2021,
           2022,
           2019,
           2020,
           2021,
           2022,
           2019,
           2020,
           2021,
           2022,
           2019,
           2020,
           2021,
           2022,
           2019,
           2020,
           2021,
           2022,
           2019,
           2020,
           2021,
           2022,
           2019,
           2020,
           2021,
           2022,
           2019,
           2020,
           2021,
           2022,
           2019,
           2020,
           2021,
           2022,
           2019,
           2020,
           2021,
           2022,
           2019,
           2020,
           2021,
           2022,
           2019,
           2020,
           2021,
           2022,
           2019,
           2020,
           2021,
           2022,
           2019,
           2020,
           2021,
           2022,
           2019,
           2020,
           2021,
           2022,
           2019,
           2020,
           2021,
           2022,
           2019,
           2020,
           2021,
           2022,
           2019,
           2020,
           2021,
           2022,
           2019,
           2020,
           2021,
           2022,
           2019,
           2020,
           2021,
           2022,
           2019,
           2020,
           2021,
           2022,
           2019,
           2020,
           2021,
           2022,
           2019,
           2020,
           2021,
           2022,
           2019,
           2020,
           2021,
           2022,
           2019,
           2020,
           2021,
           2022,
           2019,
           2020,
           2021,
           2022,
           2019,
           2020,
           2021,
           2022,
           2019,
           2020,
           2021,
           2022,
           2019,
           2020,
           2021,
           2022,
           2019,
           2020,
           2021,
           2022,
           2019,
           2020,
           2021,
           2022,
           2019,
           2020,
           2021,
           2022,
           2019,
           2020,
           2021,
           2022,
           2019,
           2020,
           2021,
           2022,
           2019,
           2020,
           2021,
           2022,
           2019,
           2020,
           2021,
           2022,
           2019,
           2020,
           2021,
           2022,
           2019,
           2020,
           2021,
           2022,
           2019,
           2020,
           2021,
           2022,
           2019,
           2020,
           2021,
           2022,
           2019,
           2020,
           2021,
           2022,
           2019,
           2020,
           2021,
           2022
          ],
          "coloraxis": "coloraxis",
          "pattern": {
           "shape": ""
          }
         },
         "name": "",
         "offsetgroup": "",
         "orientation": "v",
         "showlegend": false,
         "textposition": "auto",
         "type": "bar",
         "x": [
          "AK",
          "AK",
          "AK",
          "AK",
          "AL",
          "AL",
          "AL",
          "AL",
          "AR",
          "AR",
          "AR",
          "AR",
          "AZ",
          "AZ",
          "AZ",
          "AZ",
          "CA",
          "CA",
          "CA",
          "CA",
          "CO",
          "CO",
          "CO",
          "CO",
          "CT",
          "CT",
          "CT",
          "CT",
          "DC",
          "DC",
          "DC",
          "DC",
          "DE",
          "DE",
          "DE",
          "DE",
          "FL",
          "FL",
          "FL",
          "FL",
          "GA",
          "GA",
          "GA",
          "GA",
          "HI",
          "HI",
          "HI",
          "HI",
          "IA",
          "IA",
          "IA",
          "IA",
          "ID",
          "ID",
          "ID",
          "ID",
          "IL",
          "IL",
          "IL",
          "IL",
          "IN",
          "IN",
          "IN",
          "IN",
          "KS",
          "KS",
          "KS",
          "KS",
          "KY",
          "KY",
          "KY",
          "KY",
          "LA",
          "LA",
          "LA",
          "LA",
          "MA",
          "MA",
          "MA",
          "MA",
          "MD",
          "MD",
          "MD",
          "MD",
          "ME",
          "ME",
          "ME",
          "ME",
          "MI",
          "MI",
          "MI",
          "MI",
          "MN",
          "MN",
          "MN",
          "MN",
          "MO",
          "MO",
          "MO",
          "MO",
          "MS",
          "MS",
          "MS",
          "MS",
          "MT",
          "MT",
          "MT",
          "MT",
          "NC",
          "NC",
          "NC",
          "NC",
          "ND",
          "ND",
          "ND",
          "ND",
          "NE",
          "NE",
          "NE",
          "NE",
          "NH",
          "NH",
          "NH",
          "NH",
          "NJ",
          "NJ",
          "NJ",
          "NJ",
          "NM",
          "NM",
          "NM",
          "NM",
          "NV",
          "NV",
          "NV",
          "NV",
          "NY",
          "NY",
          "NY",
          "NY",
          "OH",
          "OH",
          "OH",
          "OH",
          "OK",
          "OK",
          "OK",
          "OK",
          "OR",
          "OR",
          "OR",
          "OR",
          "PA",
          "PA",
          "PA",
          "PA",
          "RI",
          "RI",
          "RI",
          "RI",
          "SC",
          "SC",
          "SC",
          "SC",
          "SD",
          "SD",
          "SD",
          "SD",
          "TN",
          "TN",
          "TN",
          "TN",
          "TX",
          "TX",
          "TX",
          "TX",
          "UT",
          "UT",
          "UT",
          "UT",
          "VA",
          "VA",
          "VA",
          "VA",
          "VT",
          "VT",
          "VT",
          "VT",
          "WA",
          "WA",
          "WA",
          "WA",
          "WI",
          "WI",
          "WI",
          "WI",
          "WV",
          "WV",
          "WV",
          "WV",
          "WY",
          "WY",
          "WY",
          "WY"
         ],
         "xaxis": "x",
         "y": [
          2482954539,
          1508745775,
          1974937942,
          1924401459,
          13253912490,
          10531695409,
          12489066377,
          13331752210,
          8188814858,
          6471410613,
          7489152055,
          8080621621,
          20331783108,
          14173146677,
          18525076393,
          18941870263,
          122387133826,
          74329614117,
          84764474738,
          94711239723,
          19579179449,
          14437067935,
          18870780743,
          19127519700,
          10558935404,
          8117881522,
          9942331525,
          10620993964,
          2541069734,
          1858368747,
          2417584257,
          2432423403,
          2638798094,
          2205803906,
          2595726061,
          2733893387,
          57328119274,
          46366543660,
          54856823643,
          56979581628,
          28585668859,
          23881826996,
          27340107183,
          28922241280,
          4013890148,
          2769930682,
          3380559689,
          3654215231,
          9766898685,
          7418917565,
          9460597229,
          10073949957,
          5334449131,
          3584178746,
          4543857986,
          4526353413,
          41215267479,
          31268239465,
          38885788903,
          40642194203,
          19866548698,
          16223309371,
          20298788883,
          21390229885,
          8975614512,
          6749044130,
          9147834512,
          9607744856,
          13734813100,
          11127780138,
          13351823959,
          14201195885,
          14656002994,
          11369812813,
          13838303050,
          14649373693,
          24560437250,
          18527821829,
          22915221974,
          24560348565,
          18242355144,
          13878878611,
          16930436372,
          17928243384,
          3630560310,
          2975386084,
          3840212776,
          4062640990,
          29549094285,
          22707700901,
          28670504514,
          30215535831,
          16392771894,
          12250182194,
          16644520013,
          17396674960,
          17942916063,
          13425417647,
          17016856192,
          17959928209,
          7613809300,
          6408525484,
          7529030546,
          7976339185,
          3231555690,
          2183928869,
          2758081017,
          2738616527,
          32894036591,
          23944473002,
          29125468612,
          30811854958,
          2133346920,
          1625160446,
          2145339752,
          2187858890,
          5792455149,
          4403019150,
          5763725394,
          6014752219,
          3978633894,
          3368873424,
          4076140420,
          4363665368,
          29066064500,
          21731346002,
          24969808177,
          26781725222,
          7605600613,
          5299306825,
          6512060607,
          6565454165,
          9029800539,
          6170114701,
          8180901716,
          8278818981,
          68757250286,
          50670955383,
          62542803559,
          64675534135,
          34281182554,
          27205374093,
          34307620875,
          35816874057,
          10856254911,
          8641672062,
          10706668945,
          11388626795,
          13362406852,
          9014768655,
          11745446704,
          11645725865,
          37214928866,
          28695860228,
          35791490432,
          37662057687,
          3212947670,
          2490133721,
          2986729048,
          3166533726,
          14431971024,
          11804200628,
          13871802377,
          14743917297,
          2654121393,
          2078104423,
          2627603876,
          2720967932,
          19882484668,
          15683641171,
          19284651964,
          20464201799,
          78251931279,
          60550497044,
          73687729846,
          77729120764,
          10561377694,
          7534937478,
          9296634178,
          9551834479,
          26666066183,
          19944838437,
          24216877646,
          25745687775,
          1791318826,
          1532114077,
          1883702723,
          1972349130,
          23658768848,
          15809785786,
          20232171042,
          20099673977,
          17446084870,
          12966605241,
          17958959731,
          18679901170,
          4951983458,
          3956698447,
          4674334977,
          4995507347,
          2023190113,
          1428437957,
          1818343135,
          1807189419
         ],
         "yaxis": "y"
        }
       ],
       "layout": {
        "barmode": "group",
        "coloraxis": {
         "colorbar": {
          "title": {
           "text": "Year"
          }
         },
         "colorscale": [
          [
           0,
           "#0d0887"
          ],
          [
           0.1111111111111111,
           "#46039f"
          ],
          [
           0.2222222222222222,
           "#7201a8"
          ],
          [
           0.3333333333333333,
           "#9c179e"
          ],
          [
           0.4444444444444444,
           "#bd3786"
          ],
          [
           0.5555555555555556,
           "#d8576b"
          ],
          [
           0.6666666666666666,
           "#ed7953"
          ],
          [
           0.7777777777777778,
           "#fb9f3a"
          ],
          [
           0.8888888888888888,
           "#fdca26"
          ],
          [
           1,
           "#f0f921"
          ]
         ]
        },
        "legend": {
         "tracegroupgap": 0
        },
        "template": {
         "data": {
          "bar": [
           {
            "error_x": {
             "color": "#2a3f5f"
            },
            "error_y": {
             "color": "#2a3f5f"
            },
            "marker": {
             "line": {
              "color": "#E5ECF6",
              "width": 0.5
             },
             "pattern": {
              "fillmode": "overlay",
              "size": 10,
              "solidity": 0.2
             }
            },
            "type": "bar"
           }
          ],
          "barpolar": [
           {
            "marker": {
             "line": {
              "color": "#E5ECF6",
              "width": 0.5
             },
             "pattern": {
              "fillmode": "overlay",
              "size": 10,
              "solidity": 0.2
             }
            },
            "type": "barpolar"
           }
          ],
          "carpet": [
           {
            "aaxis": {
             "endlinecolor": "#2a3f5f",
             "gridcolor": "white",
             "linecolor": "white",
             "minorgridcolor": "white",
             "startlinecolor": "#2a3f5f"
            },
            "baxis": {
             "endlinecolor": "#2a3f5f",
             "gridcolor": "white",
             "linecolor": "white",
             "minorgridcolor": "white",
             "startlinecolor": "#2a3f5f"
            },
            "type": "carpet"
           }
          ],
          "choropleth": [
           {
            "colorbar": {
             "outlinewidth": 0,
             "ticks": ""
            },
            "type": "choropleth"
           }
          ],
          "contour": [
           {
            "colorbar": {
             "outlinewidth": 0,
             "ticks": ""
            },
            "colorscale": [
             [
              0,
              "#0d0887"
             ],
             [
              0.1111111111111111,
              "#46039f"
             ],
             [
              0.2222222222222222,
              "#7201a8"
             ],
             [
              0.3333333333333333,
              "#9c179e"
             ],
             [
              0.4444444444444444,
              "#bd3786"
             ],
             [
              0.5555555555555556,
              "#d8576b"
             ],
             [
              0.6666666666666666,
              "#ed7953"
             ],
             [
              0.7777777777777778,
              "#fb9f3a"
             ],
             [
              0.8888888888888888,
              "#fdca26"
             ],
             [
              1,
              "#f0f921"
             ]
            ],
            "type": "contour"
           }
          ],
          "contourcarpet": [
           {
            "colorbar": {
             "outlinewidth": 0,
             "ticks": ""
            },
            "type": "contourcarpet"
           }
          ],
          "heatmap": [
           {
            "colorbar": {
             "outlinewidth": 0,
             "ticks": ""
            },
            "colorscale": [
             [
              0,
              "#0d0887"
             ],
             [
              0.1111111111111111,
              "#46039f"
             ],
             [
              0.2222222222222222,
              "#7201a8"
             ],
             [
              0.3333333333333333,
              "#9c179e"
             ],
             [
              0.4444444444444444,
              "#bd3786"
             ],
             [
              0.5555555555555556,
              "#d8576b"
             ],
             [
              0.6666666666666666,
              "#ed7953"
             ],
             [
              0.7777777777777778,
              "#fb9f3a"
             ],
             [
              0.8888888888888888,
              "#fdca26"
             ],
             [
              1,
              "#f0f921"
             ]
            ],
            "type": "heatmap"
           }
          ],
          "heatmapgl": [
           {
            "colorbar": {
             "outlinewidth": 0,
             "ticks": ""
            },
            "colorscale": [
             [
              0,
              "#0d0887"
             ],
             [
              0.1111111111111111,
              "#46039f"
             ],
             [
              0.2222222222222222,
              "#7201a8"
             ],
             [
              0.3333333333333333,
              "#9c179e"
             ],
             [
              0.4444444444444444,
              "#bd3786"
             ],
             [
              0.5555555555555556,
              "#d8576b"
             ],
             [
              0.6666666666666666,
              "#ed7953"
             ],
             [
              0.7777777777777778,
              "#fb9f3a"
             ],
             [
              0.8888888888888888,
              "#fdca26"
             ],
             [
              1,
              "#f0f921"
             ]
            ],
            "type": "heatmapgl"
           }
          ],
          "histogram": [
           {
            "marker": {
             "pattern": {
              "fillmode": "overlay",
              "size": 10,
              "solidity": 0.2
             }
            },
            "type": "histogram"
           }
          ],
          "histogram2d": [
           {
            "colorbar": {
             "outlinewidth": 0,
             "ticks": ""
            },
            "colorscale": [
             [
              0,
              "#0d0887"
             ],
             [
              0.1111111111111111,
              "#46039f"
             ],
             [
              0.2222222222222222,
              "#7201a8"
             ],
             [
              0.3333333333333333,
              "#9c179e"
             ],
             [
              0.4444444444444444,
              "#bd3786"
             ],
             [
              0.5555555555555556,
              "#d8576b"
             ],
             [
              0.6666666666666666,
              "#ed7953"
             ],
             [
              0.7777777777777778,
              "#fb9f3a"
             ],
             [
              0.8888888888888888,
              "#fdca26"
             ],
             [
              1,
              "#f0f921"
             ]
            ],
            "type": "histogram2d"
           }
          ],
          "histogram2dcontour": [
           {
            "colorbar": {
             "outlinewidth": 0,
             "ticks": ""
            },
            "colorscale": [
             [
              0,
              "#0d0887"
             ],
             [
              0.1111111111111111,
              "#46039f"
             ],
             [
              0.2222222222222222,
              "#7201a8"
             ],
             [
              0.3333333333333333,
              "#9c179e"
             ],
             [
              0.4444444444444444,
              "#bd3786"
             ],
             [
              0.5555555555555556,
              "#d8576b"
             ],
             [
              0.6666666666666666,
              "#ed7953"
             ],
             [
              0.7777777777777778,
              "#fb9f3a"
             ],
             [
              0.8888888888888888,
              "#fdca26"
             ],
             [
              1,
              "#f0f921"
             ]
            ],
            "type": "histogram2dcontour"
           }
          ],
          "mesh3d": [
           {
            "colorbar": {
             "outlinewidth": 0,
             "ticks": ""
            },
            "type": "mesh3d"
           }
          ],
          "parcoords": [
           {
            "line": {
             "colorbar": {
              "outlinewidth": 0,
              "ticks": ""
             }
            },
            "type": "parcoords"
           }
          ],
          "pie": [
           {
            "automargin": true,
            "type": "pie"
           }
          ],
          "scatter": [
           {
            "fillpattern": {
             "fillmode": "overlay",
             "size": 10,
             "solidity": 0.2
            },
            "type": "scatter"
           }
          ],
          "scatter3d": [
           {
            "line": {
             "colorbar": {
              "outlinewidth": 0,
              "ticks": ""
             }
            },
            "marker": {
             "colorbar": {
              "outlinewidth": 0,
              "ticks": ""
             }
            },
            "type": "scatter3d"
           }
          ],
          "scattercarpet": [
           {
            "marker": {
             "colorbar": {
              "outlinewidth": 0,
              "ticks": ""
             }
            },
            "type": "scattercarpet"
           }
          ],
          "scattergeo": [
           {
            "marker": {
             "colorbar": {
              "outlinewidth": 0,
              "ticks": ""
             }
            },
            "type": "scattergeo"
           }
          ],
          "scattergl": [
           {
            "marker": {
             "colorbar": {
              "outlinewidth": 0,
              "ticks": ""
             }
            },
            "type": "scattergl"
           }
          ],
          "scattermapbox": [
           {
            "marker": {
             "colorbar": {
              "outlinewidth": 0,
              "ticks": ""
             }
            },
            "type": "scattermapbox"
           }
          ],
          "scatterpolar": [
           {
            "marker": {
             "colorbar": {
              "outlinewidth": 0,
              "ticks": ""
             }
            },
            "type": "scatterpolar"
           }
          ],
          "scatterpolargl": [
           {
            "marker": {
             "colorbar": {
              "outlinewidth": 0,
              "ticks": ""
             }
            },
            "type": "scatterpolargl"
           }
          ],
          "scatterternary": [
           {
            "marker": {
             "colorbar": {
              "outlinewidth": 0,
              "ticks": ""
             }
            },
            "type": "scatterternary"
           }
          ],
          "surface": [
           {
            "colorbar": {
             "outlinewidth": 0,
             "ticks": ""
            },
            "colorscale": [
             [
              0,
              "#0d0887"
             ],
             [
              0.1111111111111111,
              "#46039f"
             ],
             [
              0.2222222222222222,
              "#7201a8"
             ],
             [
              0.3333333333333333,
              "#9c179e"
             ],
             [
              0.4444444444444444,
              "#bd3786"
             ],
             [
              0.5555555555555556,
              "#d8576b"
             ],
             [
              0.6666666666666666,
              "#ed7953"
             ],
             [
              0.7777777777777778,
              "#fb9f3a"
             ],
             [
              0.8888888888888888,
              "#fdca26"
             ],
             [
              1,
              "#f0f921"
             ]
            ],
            "type": "surface"
           }
          ],
          "table": [
           {
            "cells": {
             "fill": {
              "color": "#EBF0F8"
             },
             "line": {
              "color": "white"
             }
            },
            "header": {
             "fill": {
              "color": "#C8D4E3"
             },
             "line": {
              "color": "white"
             }
            },
            "type": "table"
           }
          ]
         },
         "layout": {
          "annotationdefaults": {
           "arrowcolor": "#2a3f5f",
           "arrowhead": 0,
           "arrowwidth": 1
          },
          "autotypenumbers": "strict",
          "coloraxis": {
           "colorbar": {
            "outlinewidth": 0,
            "ticks": ""
           }
          },
          "colorscale": {
           "diverging": [
            [
             0,
             "#8e0152"
            ],
            [
             0.1,
             "#c51b7d"
            ],
            [
             0.2,
             "#de77ae"
            ],
            [
             0.3,
             "#f1b6da"
            ],
            [
             0.4,
             "#fde0ef"
            ],
            [
             0.5,
             "#f7f7f7"
            ],
            [
             0.6,
             "#e6f5d0"
            ],
            [
             0.7,
             "#b8e186"
            ],
            [
             0.8,
             "#7fbc41"
            ],
            [
             0.9,
             "#4d9221"
            ],
            [
             1,
             "#276419"
            ]
           ],
           "sequential": [
            [
             0,
             "#0d0887"
            ],
            [
             0.1111111111111111,
             "#46039f"
            ],
            [
             0.2222222222222222,
             "#7201a8"
            ],
            [
             0.3333333333333333,
             "#9c179e"
            ],
            [
             0.4444444444444444,
             "#bd3786"
            ],
            [
             0.5555555555555556,
             "#d8576b"
            ],
            [
             0.6666666666666666,
             "#ed7953"
            ],
            [
             0.7777777777777778,
             "#fb9f3a"
            ],
            [
             0.8888888888888888,
             "#fdca26"
            ],
            [
             1,
             "#f0f921"
            ]
           ],
           "sequentialminus": [
            [
             0,
             "#0d0887"
            ],
            [
             0.1111111111111111,
             "#46039f"
            ],
            [
             0.2222222222222222,
             "#7201a8"
            ],
            [
             0.3333333333333333,
             "#9c179e"
            ],
            [
             0.4444444444444444,
             "#bd3786"
            ],
            [
             0.5555555555555556,
             "#d8576b"
            ],
            [
             0.6666666666666666,
             "#ed7953"
            ],
            [
             0.7777777777777778,
             "#fb9f3a"
            ],
            [
             0.8888888888888888,
             "#fdca26"
            ],
            [
             1,
             "#f0f921"
            ]
           ]
          },
          "colorway": [
           "#636efa",
           "#EF553B",
           "#00cc96",
           "#ab63fa",
           "#FFA15A",
           "#19d3f3",
           "#FF6692",
           "#B6E880",
           "#FF97FF",
           "#FECB52"
          ],
          "font": {
           "color": "#2a3f5f"
          },
          "geo": {
           "bgcolor": "white",
           "lakecolor": "white",
           "landcolor": "#E5ECF6",
           "showlakes": true,
           "showland": true,
           "subunitcolor": "white"
          },
          "hoverlabel": {
           "align": "left"
          },
          "hovermode": "closest",
          "mapbox": {
           "style": "light"
          },
          "paper_bgcolor": "white",
          "plot_bgcolor": "#E5ECF6",
          "polar": {
           "angularaxis": {
            "gridcolor": "white",
            "linecolor": "white",
            "ticks": ""
           },
           "bgcolor": "#E5ECF6",
           "radialaxis": {
            "gridcolor": "white",
            "linecolor": "white",
            "ticks": ""
           }
          },
          "scene": {
           "xaxis": {
            "backgroundcolor": "#E5ECF6",
            "gridcolor": "white",
            "gridwidth": 2,
            "linecolor": "white",
            "showbackground": true,
            "ticks": "",
            "zerolinecolor": "white"
           },
           "yaxis": {
            "backgroundcolor": "#E5ECF6",
            "gridcolor": "white",
            "gridwidth": 2,
            "linecolor": "white",
            "showbackground": true,
            "ticks": "",
            "zerolinecolor": "white"
           },
           "zaxis": {
            "backgroundcolor": "#E5ECF6",
            "gridcolor": "white",
            "gridwidth": 2,
            "linecolor": "white",
            "showbackground": true,
            "ticks": "",
            "zerolinecolor": "white"
           }
          },
          "shapedefaults": {
           "line": {
            "color": "#2a3f5f"
           }
          },
          "ternary": {
           "aaxis": {
            "gridcolor": "white",
            "linecolor": "white",
            "ticks": ""
           },
           "baxis": {
            "gridcolor": "white",
            "linecolor": "white",
            "ticks": ""
           },
           "bgcolor": "#E5ECF6",
           "caxis": {
            "gridcolor": "white",
            "linecolor": "white",
            "ticks": ""
           }
          },
          "title": {
           "x": 0.05
          },
          "xaxis": {
           "automargin": true,
           "gridcolor": "white",
           "linecolor": "white",
           "ticks": "",
           "title": {
            "standoff": 15
           },
           "zerolinecolor": "white",
           "zerolinewidth": 2
          },
          "yaxis": {
           "automargin": true,
           "gridcolor": "white",
           "linecolor": "white",
           "ticks": "",
           "title": {
            "standoff": 15
           },
           "zerolinecolor": "white",
           "zerolinewidth": 2
          }
         }
        },
        "title": {
         "text": "Number of Trips by State (2019-2022)"
        },
        "xaxis": {
         "anchor": "y",
         "domain": [
          0,
          1
         ],
         "title": {
          "text": "State"
         }
        },
        "yaxis": {
         "anchor": "x",
         "domain": [
          0,
          1
         ],
         "title": {
          "text": "Number of Trips"
         }
        }
       }
      },
      "text/html": [
       "<div>                            <div id=\"278471e4-e9c6-4335-961d-39303fa52a3a\" class=\"plotly-graph-div\" style=\"height:525px; width:100%;\"></div>            <script type=\"text/javascript\">                require([\"plotly\"], function(Plotly) {                    window.PLOTLYENV=window.PLOTLYENV || {};                                    if (document.getElementById(\"278471e4-e9c6-4335-961d-39303fa52a3a\")) {                    Plotly.newPlot(                        \"278471e4-e9c6-4335-961d-39303fa52a3a\",                        [{\"alignmentgroup\":\"True\",\"hovertemplate\":\"State=%{x}<br>Number of Trips=%{y}<br>Year=%{marker.color}<extra></extra>\",\"legendgroup\":\"\",\"marker\":{\"color\":[2019,2020,2021,2022,2019,2020,2021,2022,2019,2020,2021,2022,2019,2020,2021,2022,2019,2020,2021,2022,2019,2020,2021,2022,2019,2020,2021,2022,2019,2020,2021,2022,2019,2020,2021,2022,2019,2020,2021,2022,2019,2020,2021,2022,2019,2020,2021,2022,2019,2020,2021,2022,2019,2020,2021,2022,2019,2020,2021,2022,2019,2020,2021,2022,2019,2020,2021,2022,2019,2020,2021,2022,2019,2020,2021,2022,2019,2020,2021,2022,2019,2020,2021,2022,2019,2020,2021,2022,2019,2020,2021,2022,2019,2020,2021,2022,2019,2020,2021,2022,2019,2020,2021,2022,2019,2020,2021,2022,2019,2020,2021,2022,2019,2020,2021,2022,2019,2020,2021,2022,2019,2020,2021,2022,2019,2020,2021,2022,2019,2020,2021,2022,2019,2020,2021,2022,2019,2020,2021,2022,2019,2020,2021,2022,2019,2020,2021,2022,2019,2020,2021,2022,2019,2020,2021,2022,2019,2020,2021,2022,2019,2020,2021,2022,2019,2020,2021,2022,2019,2020,2021,2022,2019,2020,2021,2022,2019,2020,2021,2022,2019,2020,2021,2022,2019,2020,2021,2022,2019,2020,2021,2022,2019,2020,2021,2022,2019,2020,2021,2022,2019,2020,2021,2022],\"coloraxis\":\"coloraxis\",\"pattern\":{\"shape\":\"\"}},\"name\":\"\",\"offsetgroup\":\"\",\"orientation\":\"v\",\"showlegend\":false,\"textposition\":\"auto\",\"x\":[\"AK\",\"AK\",\"AK\",\"AK\",\"AL\",\"AL\",\"AL\",\"AL\",\"AR\",\"AR\",\"AR\",\"AR\",\"AZ\",\"AZ\",\"AZ\",\"AZ\",\"CA\",\"CA\",\"CA\",\"CA\",\"CO\",\"CO\",\"CO\",\"CO\",\"CT\",\"CT\",\"CT\",\"CT\",\"DC\",\"DC\",\"DC\",\"DC\",\"DE\",\"DE\",\"DE\",\"DE\",\"FL\",\"FL\",\"FL\",\"FL\",\"GA\",\"GA\",\"GA\",\"GA\",\"HI\",\"HI\",\"HI\",\"HI\",\"IA\",\"IA\",\"IA\",\"IA\",\"ID\",\"ID\",\"ID\",\"ID\",\"IL\",\"IL\",\"IL\",\"IL\",\"IN\",\"IN\",\"IN\",\"IN\",\"KS\",\"KS\",\"KS\",\"KS\",\"KY\",\"KY\",\"KY\",\"KY\",\"LA\",\"LA\",\"LA\",\"LA\",\"MA\",\"MA\",\"MA\",\"MA\",\"MD\",\"MD\",\"MD\",\"MD\",\"ME\",\"ME\",\"ME\",\"ME\",\"MI\",\"MI\",\"MI\",\"MI\",\"MN\",\"MN\",\"MN\",\"MN\",\"MO\",\"MO\",\"MO\",\"MO\",\"MS\",\"MS\",\"MS\",\"MS\",\"MT\",\"MT\",\"MT\",\"MT\",\"NC\",\"NC\",\"NC\",\"NC\",\"ND\",\"ND\",\"ND\",\"ND\",\"NE\",\"NE\",\"NE\",\"NE\",\"NH\",\"NH\",\"NH\",\"NH\",\"NJ\",\"NJ\",\"NJ\",\"NJ\",\"NM\",\"NM\",\"NM\",\"NM\",\"NV\",\"NV\",\"NV\",\"NV\",\"NY\",\"NY\",\"NY\",\"NY\",\"OH\",\"OH\",\"OH\",\"OH\",\"OK\",\"OK\",\"OK\",\"OK\",\"OR\",\"OR\",\"OR\",\"OR\",\"PA\",\"PA\",\"PA\",\"PA\",\"RI\",\"RI\",\"RI\",\"RI\",\"SC\",\"SC\",\"SC\",\"SC\",\"SD\",\"SD\",\"SD\",\"SD\",\"TN\",\"TN\",\"TN\",\"TN\",\"TX\",\"TX\",\"TX\",\"TX\",\"UT\",\"UT\",\"UT\",\"UT\",\"VA\",\"VA\",\"VA\",\"VA\",\"VT\",\"VT\",\"VT\",\"VT\",\"WA\",\"WA\",\"WA\",\"WA\",\"WI\",\"WI\",\"WI\",\"WI\",\"WV\",\"WV\",\"WV\",\"WV\",\"WY\",\"WY\",\"WY\",\"WY\"],\"xaxis\":\"x\",\"y\":[2482954539.0,1508745775.0,1974937942.0,1924401459.0,13253912490.0,10531695409.0,12489066377.0,13331752210.0,8188814858.0,6471410613.0,7489152055.0,8080621621.0,20331783108.0,14173146677.0,18525076393.0,18941870263.0,122387133826.0,74329614117.0,84764474738.0,94711239723.0,19579179449.0,14437067935.0,18870780743.0,19127519700.0,10558935404.0,8117881522.0,9942331525.0,10620993964.0,2541069734.0,1858368747.0,2417584257.0,2432423403.0,2638798094.0,2205803906.0,2595726061.0,2733893387.0,57328119274.0,46366543660.0,54856823643.0,56979581628.0,28585668859.0,23881826996.0,27340107183.0,28922241280.0,4013890148.0,2769930682.0,3380559689.0,3654215231.0,9766898685.0,7418917565.0,9460597229.0,10073949957.0,5334449131.0,3584178746.0,4543857986.0,4526353413.0,41215267479.0,31268239465.0,38885788903.0,40642194203.0,19866548698.0,16223309371.0,20298788883.0,21390229885.0,8975614512.0,6749044130.0,9147834512.0,9607744856.0,13734813100.0,11127780138.0,13351823959.0,14201195885.0,14656002994.0,11369812813.0,13838303050.0,14649373693.0,24560437250.0,18527821829.0,22915221974.0,24560348565.0,18242355144.0,13878878611.0,16930436372.0,17928243384.0,3630560310.0,2975386084.0,3840212776.0,4062640990.0,29549094285.0,22707700901.0,28670504514.0,30215535831.0,16392771894.0,12250182194.0,16644520013.0,17396674960.0,17942916063.0,13425417647.0,17016856192.0,17959928209.0,7613809300.0,6408525484.0,7529030546.0,7976339185.0,3231555690.0,2183928869.0,2758081017.0,2738616527.0,32894036591.0,23944473002.0,29125468612.0,30811854958.0,2133346920.0,1625160446.0,2145339752.0,2187858890.0,5792455149.0,4403019150.0,5763725394.0,6014752219.0,3978633894.0,3368873424.0,4076140420.0,4363665368.0,29066064500.0,21731346002.0,24969808177.0,26781725222.0,7605600613.0,5299306825.0,6512060607.0,6565454165.0,9029800539.0,6170114701.0,8180901716.0,8278818981.0,68757250286.0,50670955383.0,62542803559.0,64675534135.0,34281182554.0,27205374093.0,34307620875.0,35816874057.0,10856254911.0,8641672062.0,10706668945.0,11388626795.0,13362406852.0,9014768655.0,11745446704.0,11645725865.0,37214928866.0,28695860228.0,35791490432.0,37662057687.0,3212947670.0,2490133721.0,2986729048.0,3166533726.0,14431971024.0,11804200628.0,13871802377.0,14743917297.0,2654121393.0,2078104423.0,2627603876.0,2720967932.0,19882484668.0,15683641171.0,19284651964.0,20464201799.0,78251931279.0,60550497044.0,73687729846.0,77729120764.0,10561377694.0,7534937478.0,9296634178.0,9551834479.0,26666066183.0,19944838437.0,24216877646.0,25745687775.0,1791318826.0,1532114077.0,1883702723.0,1972349130.0,23658768848.0,15809785786.0,20232171042.0,20099673977.0,17446084870.0,12966605241.0,17958959731.0,18679901170.0,4951983458.0,3956698447.0,4674334977.0,4995507347.0,2023190113.0,1428437957.0,1818343135.0,1807189419.0],\"yaxis\":\"y\",\"type\":\"bar\"}],                        {\"template\":{\"data\":{\"histogram2dcontour\":[{\"type\":\"histogram2dcontour\",\"colorbar\":{\"outlinewidth\":0,\"ticks\":\"\"},\"colorscale\":[[0.0,\"#0d0887\"],[0.1111111111111111,\"#46039f\"],[0.2222222222222222,\"#7201a8\"],[0.3333333333333333,\"#9c179e\"],[0.4444444444444444,\"#bd3786\"],[0.5555555555555556,\"#d8576b\"],[0.6666666666666666,\"#ed7953\"],[0.7777777777777778,\"#fb9f3a\"],[0.8888888888888888,\"#fdca26\"],[1.0,\"#f0f921\"]]}],\"choropleth\":[{\"type\":\"choropleth\",\"colorbar\":{\"outlinewidth\":0,\"ticks\":\"\"}}],\"histogram2d\":[{\"type\":\"histogram2d\",\"colorbar\":{\"outlinewidth\":0,\"ticks\":\"\"},\"colorscale\":[[0.0,\"#0d0887\"],[0.1111111111111111,\"#46039f\"],[0.2222222222222222,\"#7201a8\"],[0.3333333333333333,\"#9c179e\"],[0.4444444444444444,\"#bd3786\"],[0.5555555555555556,\"#d8576b\"],[0.6666666666666666,\"#ed7953\"],[0.7777777777777778,\"#fb9f3a\"],[0.8888888888888888,\"#fdca26\"],[1.0,\"#f0f921\"]]}],\"heatmap\":[{\"type\":\"heatmap\",\"colorbar\":{\"outlinewidth\":0,\"ticks\":\"\"},\"colorscale\":[[0.0,\"#0d0887\"],[0.1111111111111111,\"#46039f\"],[0.2222222222222222,\"#7201a8\"],[0.3333333333333333,\"#9c179e\"],[0.4444444444444444,\"#bd3786\"],[0.5555555555555556,\"#d8576b\"],[0.6666666666666666,\"#ed7953\"],[0.7777777777777778,\"#fb9f3a\"],[0.8888888888888888,\"#fdca26\"],[1.0,\"#f0f921\"]]}],\"heatmapgl\":[{\"type\":\"heatmapgl\",\"colorbar\":{\"outlinewidth\":0,\"ticks\":\"\"},\"colorscale\":[[0.0,\"#0d0887\"],[0.1111111111111111,\"#46039f\"],[0.2222222222222222,\"#7201a8\"],[0.3333333333333333,\"#9c179e\"],[0.4444444444444444,\"#bd3786\"],[0.5555555555555556,\"#d8576b\"],[0.6666666666666666,\"#ed7953\"],[0.7777777777777778,\"#fb9f3a\"],[0.8888888888888888,\"#fdca26\"],[1.0,\"#f0f921\"]]}],\"contourcarpet\":[{\"type\":\"contourcarpet\",\"colorbar\":{\"outlinewidth\":0,\"ticks\":\"\"}}],\"contour\":[{\"type\":\"contour\",\"colorbar\":{\"outlinewidth\":0,\"ticks\":\"\"},\"colorscale\":[[0.0,\"#0d0887\"],[0.1111111111111111,\"#46039f\"],[0.2222222222222222,\"#7201a8\"],[0.3333333333333333,\"#9c179e\"],[0.4444444444444444,\"#bd3786\"],[0.5555555555555556,\"#d8576b\"],[0.6666666666666666,\"#ed7953\"],[0.7777777777777778,\"#fb9f3a\"],[0.8888888888888888,\"#fdca26\"],[1.0,\"#f0f921\"]]}],\"surface\":[{\"type\":\"surface\",\"colorbar\":{\"outlinewidth\":0,\"ticks\":\"\"},\"colorscale\":[[0.0,\"#0d0887\"],[0.1111111111111111,\"#46039f\"],[0.2222222222222222,\"#7201a8\"],[0.3333333333333333,\"#9c179e\"],[0.4444444444444444,\"#bd3786\"],[0.5555555555555556,\"#d8576b\"],[0.6666666666666666,\"#ed7953\"],[0.7777777777777778,\"#fb9f3a\"],[0.8888888888888888,\"#fdca26\"],[1.0,\"#f0f921\"]]}],\"mesh3d\":[{\"type\":\"mesh3d\",\"colorbar\":{\"outlinewidth\":0,\"ticks\":\"\"}}],\"scatter\":[{\"fillpattern\":{\"fillmode\":\"overlay\",\"size\":10,\"solidity\":0.2},\"type\":\"scatter\"}],\"parcoords\":[{\"type\":\"parcoords\",\"line\":{\"colorbar\":{\"outlinewidth\":0,\"ticks\":\"\"}}}],\"scatterpolargl\":[{\"type\":\"scatterpolargl\",\"marker\":{\"colorbar\":{\"outlinewidth\":0,\"ticks\":\"\"}}}],\"bar\":[{\"error_x\":{\"color\":\"#2a3f5f\"},\"error_y\":{\"color\":\"#2a3f5f\"},\"marker\":{\"line\":{\"color\":\"#E5ECF6\",\"width\":0.5},\"pattern\":{\"fillmode\":\"overlay\",\"size\":10,\"solidity\":0.2}},\"type\":\"bar\"}],\"scattergeo\":[{\"type\":\"scattergeo\",\"marker\":{\"colorbar\":{\"outlinewidth\":0,\"ticks\":\"\"}}}],\"scatterpolar\":[{\"type\":\"scatterpolar\",\"marker\":{\"colorbar\":{\"outlinewidth\":0,\"ticks\":\"\"}}}],\"histogram\":[{\"marker\":{\"pattern\":{\"fillmode\":\"overlay\",\"size\":10,\"solidity\":0.2}},\"type\":\"histogram\"}],\"scattergl\":[{\"type\":\"scattergl\",\"marker\":{\"colorbar\":{\"outlinewidth\":0,\"ticks\":\"\"}}}],\"scatter3d\":[{\"type\":\"scatter3d\",\"line\":{\"colorbar\":{\"outlinewidth\":0,\"ticks\":\"\"}},\"marker\":{\"colorbar\":{\"outlinewidth\":0,\"ticks\":\"\"}}}],\"scattermapbox\":[{\"type\":\"scattermapbox\",\"marker\":{\"colorbar\":{\"outlinewidth\":0,\"ticks\":\"\"}}}],\"scatterternary\":[{\"type\":\"scatterternary\",\"marker\":{\"colorbar\":{\"outlinewidth\":0,\"ticks\":\"\"}}}],\"scattercarpet\":[{\"type\":\"scattercarpet\",\"marker\":{\"colorbar\":{\"outlinewidth\":0,\"ticks\":\"\"}}}],\"carpet\":[{\"aaxis\":{\"endlinecolor\":\"#2a3f5f\",\"gridcolor\":\"white\",\"linecolor\":\"white\",\"minorgridcolor\":\"white\",\"startlinecolor\":\"#2a3f5f\"},\"baxis\":{\"endlinecolor\":\"#2a3f5f\",\"gridcolor\":\"white\",\"linecolor\":\"white\",\"minorgridcolor\":\"white\",\"startlinecolor\":\"#2a3f5f\"},\"type\":\"carpet\"}],\"table\":[{\"cells\":{\"fill\":{\"color\":\"#EBF0F8\"},\"line\":{\"color\":\"white\"}},\"header\":{\"fill\":{\"color\":\"#C8D4E3\"},\"line\":{\"color\":\"white\"}},\"type\":\"table\"}],\"barpolar\":[{\"marker\":{\"line\":{\"color\":\"#E5ECF6\",\"width\":0.5},\"pattern\":{\"fillmode\":\"overlay\",\"size\":10,\"solidity\":0.2}},\"type\":\"barpolar\"}],\"pie\":[{\"automargin\":true,\"type\":\"pie\"}]},\"layout\":{\"autotypenumbers\":\"strict\",\"colorway\":[\"#636efa\",\"#EF553B\",\"#00cc96\",\"#ab63fa\",\"#FFA15A\",\"#19d3f3\",\"#FF6692\",\"#B6E880\",\"#FF97FF\",\"#FECB52\"],\"font\":{\"color\":\"#2a3f5f\"},\"hovermode\":\"closest\",\"hoverlabel\":{\"align\":\"left\"},\"paper_bgcolor\":\"white\",\"plot_bgcolor\":\"#E5ECF6\",\"polar\":{\"bgcolor\":\"#E5ECF6\",\"angularaxis\":{\"gridcolor\":\"white\",\"linecolor\":\"white\",\"ticks\":\"\"},\"radialaxis\":{\"gridcolor\":\"white\",\"linecolor\":\"white\",\"ticks\":\"\"}},\"ternary\":{\"bgcolor\":\"#E5ECF6\",\"aaxis\":{\"gridcolor\":\"white\",\"linecolor\":\"white\",\"ticks\":\"\"},\"baxis\":{\"gridcolor\":\"white\",\"linecolor\":\"white\",\"ticks\":\"\"},\"caxis\":{\"gridcolor\":\"white\",\"linecolor\":\"white\",\"ticks\":\"\"}},\"coloraxis\":{\"colorbar\":{\"outlinewidth\":0,\"ticks\":\"\"}},\"colorscale\":{\"sequential\":[[0.0,\"#0d0887\"],[0.1111111111111111,\"#46039f\"],[0.2222222222222222,\"#7201a8\"],[0.3333333333333333,\"#9c179e\"],[0.4444444444444444,\"#bd3786\"],[0.5555555555555556,\"#d8576b\"],[0.6666666666666666,\"#ed7953\"],[0.7777777777777778,\"#fb9f3a\"],[0.8888888888888888,\"#fdca26\"],[1.0,\"#f0f921\"]],\"sequentialminus\":[[0.0,\"#0d0887\"],[0.1111111111111111,\"#46039f\"],[0.2222222222222222,\"#7201a8\"],[0.3333333333333333,\"#9c179e\"],[0.4444444444444444,\"#bd3786\"],[0.5555555555555556,\"#d8576b\"],[0.6666666666666666,\"#ed7953\"],[0.7777777777777778,\"#fb9f3a\"],[0.8888888888888888,\"#fdca26\"],[1.0,\"#f0f921\"]],\"diverging\":[[0,\"#8e0152\"],[0.1,\"#c51b7d\"],[0.2,\"#de77ae\"],[0.3,\"#f1b6da\"],[0.4,\"#fde0ef\"],[0.5,\"#f7f7f7\"],[0.6,\"#e6f5d0\"],[0.7,\"#b8e186\"],[0.8,\"#7fbc41\"],[0.9,\"#4d9221\"],[1,\"#276419\"]]},\"xaxis\":{\"gridcolor\":\"white\",\"linecolor\":\"white\",\"ticks\":\"\",\"title\":{\"standoff\":15},\"zerolinecolor\":\"white\",\"automargin\":true,\"zerolinewidth\":2},\"yaxis\":{\"gridcolor\":\"white\",\"linecolor\":\"white\",\"ticks\":\"\",\"title\":{\"standoff\":15},\"zerolinecolor\":\"white\",\"automargin\":true,\"zerolinewidth\":2},\"scene\":{\"xaxis\":{\"backgroundcolor\":\"#E5ECF6\",\"gridcolor\":\"white\",\"linecolor\":\"white\",\"showbackground\":true,\"ticks\":\"\",\"zerolinecolor\":\"white\",\"gridwidth\":2},\"yaxis\":{\"backgroundcolor\":\"#E5ECF6\",\"gridcolor\":\"white\",\"linecolor\":\"white\",\"showbackground\":true,\"ticks\":\"\",\"zerolinecolor\":\"white\",\"gridwidth\":2},\"zaxis\":{\"backgroundcolor\":\"#E5ECF6\",\"gridcolor\":\"white\",\"linecolor\":\"white\",\"showbackground\":true,\"ticks\":\"\",\"zerolinecolor\":\"white\",\"gridwidth\":2}},\"shapedefaults\":{\"line\":{\"color\":\"#2a3f5f\"}},\"annotationdefaults\":{\"arrowcolor\":\"#2a3f5f\",\"arrowhead\":0,\"arrowwidth\":1},\"geo\":{\"bgcolor\":\"white\",\"landcolor\":\"#E5ECF6\",\"subunitcolor\":\"white\",\"showland\":true,\"showlakes\":true,\"lakecolor\":\"white\"},\"title\":{\"x\":0.05},\"mapbox\":{\"style\":\"light\"}}},\"xaxis\":{\"anchor\":\"y\",\"domain\":[0.0,1.0],\"title\":{\"text\":\"State\"}},\"yaxis\":{\"anchor\":\"x\",\"domain\":[0.0,1.0],\"title\":{\"text\":\"Number of Trips\"}},\"coloraxis\":{\"colorbar\":{\"title\":{\"text\":\"Year\"}},\"colorscale\":[[0.0,\"#0d0887\"],[0.1111111111111111,\"#46039f\"],[0.2222222222222222,\"#7201a8\"],[0.3333333333333333,\"#9c179e\"],[0.4444444444444444,\"#bd3786\"],[0.5555555555555556,\"#d8576b\"],[0.6666666666666666,\"#ed7953\"],[0.7777777777777778,\"#fb9f3a\"],[0.8888888888888888,\"#fdca26\"],[1.0,\"#f0f921\"]]},\"legend\":{\"tracegroupgap\":0},\"title\":{\"text\":\"Number of Trips by State (2019-2022)\"},\"barmode\":\"group\"},                        {\"responsive\": true}                    ).then(function(){\n",
       "                            \n",
       "var gd = document.getElementById('278471e4-e9c6-4335-961d-39303fa52a3a');\n",
       "var x = new MutationObserver(function (mutations, observer) {{\n",
       "        var display = window.getComputedStyle(gd).display;\n",
       "        if (!display || display === 'none') {{\n",
       "            console.log([gd, 'removed!']);\n",
       "            Plotly.purge(gd);\n",
       "            observer.disconnect();\n",
       "        }}\n",
       "}});\n",
       "\n",
       "// Listen for the removal of the full notebook cells\n",
       "var notebookContainer = gd.closest('#notebook-container');\n",
       "if (notebookContainer) {{\n",
       "    x.observe(notebookContainer, {childList: true});\n",
       "}}\n",
       "\n",
       "// Listen for the clearing of the current output cell\n",
       "var outputEl = gd.closest('.output');\n",
       "if (outputEl) {{\n",
       "    x.observe(outputEl, {childList: true});\n",
       "}}\n",
       "\n",
       "                        })                };                });            </script>        </div>"
      ]
     },
     "metadata": {},
     "output_type": "display_data"
    }
   ],
   "source": [
    "# Filter data for the years 2019 to 2022\n",
    "df_filtered = df[(df['Date'].dt.year >= 2019) & (df['Date'].dt.year <= 2022)]\n",
    "\n",
    "# Extract year from Date\n",
    "df_filtered['Year'] = df_filtered['Date'].dt.year\n",
    "\n",
    "# Aggregate the number of trips by state and year\n",
    "state_year_data = df_filtered.groupby(['State Postal Code', 'Year']).agg({\n",
    "    'Number of Trips': 'sum'\n",
    "}).reset_index()\n",
    "\n",
    "# Create the plot\n",
    "fig = px.bar(\n",
    "    state_year_data,\n",
    "    x='State Postal Code',\n",
    "    y='Number of Trips',\n",
    "    color='Year',\n",
    "    barmode='group',\n",
    "    title='Number of Trips by State (2019-2022)',\n",
    "    labels={'State Postal Code': 'State', 'Number of Trips': 'Number of Trips'}\n",
    ")\n",
    "\n",
    "# Display the plot\n",
    "fig.show()\n"
   ]
  },
  {
   "cell_type": "code",
   "execution_count": 15,
   "id": "b5c5ba72",
   "metadata": {},
   "outputs": [
    {
     "data": {
      "application/vnd.plotly.v1+json": {
       "config": {
        "plotlyServerURL": "https://plot.ly"
       },
       "data": [
        {
         "alignmentgroup": "True",
         "hovertemplate": "Trip Distance=Number of Trips <1<br>County=%{x}<br>Number of Trips=%{y}<extra></extra>",
         "legendgroup": "Number of Trips <1",
         "marker": {
          "color": "#636efa",
          "pattern": {
           "shape": ""
          }
         },
         "name": "Number of Trips <1",
         "offsetgroup": "Number of Trips <1",
         "orientation": "v",
         "showlegend": true,
         "textposition": "auto",
         "type": "bar",
         "x": [
          "Adams County",
          "Alexander County",
          "Bond County",
          "Boone County",
          "Brown County",
          "Bureau County",
          "Calhoun County",
          "Carroll County",
          "Cass County",
          "Champaign County",
          "Christian County",
          "Clark County",
          "Clay County",
          "Clinton County",
          "Coles County",
          "Cook County",
          "Crawford County",
          "Cumberland County",
          "De Witt County",
          "DeKalb County",
          "Douglas County",
          "DuPage County",
          "Edgar County",
          "Edwards County",
          "Effingham County",
          "Fayette County",
          "Ford County",
          "Franklin County",
          "Fulton County",
          "Gallatin County",
          "Greene County",
          "Grundy County",
          "Hamilton County",
          "Hancock County",
          "Hardin County",
          "Henderson County",
          "Henry County",
          "Iroquois County",
          "Jackson County",
          "Jasper County",
          "Jefferson County",
          "Jersey County",
          "Jo Daviess County",
          "Johnson County",
          "Kane County",
          "Kankakee County",
          "Kendall County",
          "Knox County",
          "LaSalle County",
          "Lake County",
          "Lawrence County",
          "Lee County",
          "Livingston County",
          "Logan County",
          "Macon County",
          "Macoupin County",
          "Madison County",
          "Marion County",
          "Marshall County",
          "Mason County",
          "Massac County",
          "McDonough County",
          "McHenry County",
          "McLean County",
          "Menard County",
          "Mercer County",
          "Monroe County",
          "Montgomery County",
          "Morgan County",
          "Moultrie County",
          "Ogle County",
          "Peoria County",
          "Perry County",
          "Piatt County",
          "Pike County",
          "Pope County",
          "Pulaski County",
          "Putnam County",
          "Randolph County",
          "Richland County",
          "Rock Island County",
          "Saline County",
          "Sangamon County",
          "Schuyler County",
          "Scott County",
          "Shelby County",
          "St. Clair County",
          "Stark County",
          "Stephenson County",
          "Tazewell County",
          "Union County",
          "Vermilion County",
          "Wabash County",
          "Warren County",
          "Washington County",
          "Wayne County",
          "White County",
          "Whiteside County",
          "Will County",
          "Williamson County",
          "Winnebago County",
          "Woodford County"
         ],
         "xaxis": "x",
         "y": [
          35778177,
          2759737,
          5016426,
          23536142,
          3996923,
          10469391,
          844470,
          6380468,
          5306737,
          94737973,
          18597196,
          8721506,
          4591874,
          14577631,
          28093133,
          2334435086,
          8771696,
          3969111,
          6693144,
          44657141,
          8597186,
          424758151,
          7507867,
          1599608,
          13651125,
          6246199,
          5498898,
          14367219,
          14547906,
          2108475,
          4913462,
          19720585,
          2505270,
          8173142,
          1438509,
          2204426,
          20731011,
          9384752,
          25053502,
          4316915,
          16322404,
          8630210,
          7299091,
          3250247,
          233179837,
          50444937,
          47397613,
          26113319,
          42815928,
          312051084,
          5510627,
          13624961,
          15840747,
          12343488,
          58709318,
          20309445,
          120411532,
          14760246,
          4138789,
          6404591,
          7118238,
          15627967,
          132961879,
          65370148,
          4893355,
          5237229,
          8370420,
          12938659,
          18912319,
          6292229,
          19391699,
          89429507,
          9346951,
          8512650,
          7617503,
          1507163,
          1329632,
          1560634,
          11513370,
          6774359,
          74170203,
          11075486,
          95711876,
          3125952,
          1212913,
          9497321,
          114501128,
          2845243,
          23006540,
          64221432,
          6251180,
          37176249,
          4295563,
          6912039,
          5383961,
          6191706,
          5119866,
          26086469,
          310021287,
          31047607,
          144597368,
          11448364
         ],
         "yaxis": "y"
        },
        {
         "alignmentgroup": "True",
         "hovertemplate": "Trip Distance=Number of Trips 1-3<br>County=%{x}<br>Number of Trips=%{y}<extra></extra>",
         "legendgroup": "Number of Trips 1-3",
         "marker": {
          "color": "#EF553B",
          "pattern": {
           "shape": ""
          }
         },
         "name": "Number of Trips 1-3",
         "offsetgroup": "Number of Trips 1-3",
         "orientation": "v",
         "showlegend": true,
         "textposition": "auto",
         "type": "bar",
         "x": [
          "Adams County",
          "Alexander County",
          "Bond County",
          "Boone County",
          "Brown County",
          "Bureau County",
          "Calhoun County",
          "Carroll County",
          "Cass County",
          "Champaign County",
          "Christian County",
          "Clark County",
          "Clay County",
          "Clinton County",
          "Coles County",
          "Cook County",
          "Crawford County",
          "Cumberland County",
          "De Witt County",
          "DeKalb County",
          "Douglas County",
          "DuPage County",
          "Edgar County",
          "Edwards County",
          "Effingham County",
          "Fayette County",
          "Ford County",
          "Franklin County",
          "Fulton County",
          "Gallatin County",
          "Greene County",
          "Grundy County",
          "Hamilton County",
          "Hancock County",
          "Hardin County",
          "Henderson County",
          "Henry County",
          "Iroquois County",
          "Jackson County",
          "Jasper County",
          "Jefferson County",
          "Jersey County",
          "Jo Daviess County",
          "Johnson County",
          "Kane County",
          "Kankakee County",
          "Kendall County",
          "Knox County",
          "LaSalle County",
          "Lake County",
          "Lawrence County",
          "Lee County",
          "Livingston County",
          "Logan County",
          "Macon County",
          "Macoupin County",
          "Madison County",
          "Marion County",
          "Marshall County",
          "Mason County",
          "Massac County",
          "McDonough County",
          "McHenry County",
          "McLean County",
          "Menard County",
          "Mercer County",
          "Monroe County",
          "Montgomery County",
          "Morgan County",
          "Moultrie County",
          "Ogle County",
          "Peoria County",
          "Perry County",
          "Piatt County",
          "Pike County",
          "Pope County",
          "Pulaski County",
          "Putnam County",
          "Randolph County",
          "Richland County",
          "Rock Island County",
          "Saline County",
          "Sangamon County",
          "Schuyler County",
          "Scott County",
          "Shelby County",
          "St. Clair County",
          "Stark County",
          "Stephenson County",
          "Tazewell County",
          "Union County",
          "Vermilion County",
          "Wabash County",
          "Warren County",
          "Washington County",
          "Wayne County",
          "White County",
          "Whiteside County",
          "Will County",
          "Williamson County",
          "Winnebago County",
          "Woodford County"
         ],
         "xaxis": "x",
         "y": [
          34966268,
          2327290,
          6118162,
          17506724,
          2119061,
          9742607,
          1440088,
          4741685,
          2880759,
          88650416,
          13400354,
          6854382,
          5330054,
          13273161,
          22407782,
          1734575110,
          7510410,
          3255530,
          5148639,
          37025423,
          7983803,
          322612996,
          7368992,
          2022951,
          12548799,
          9267916,
          5021244,
          15235480,
          12622187,
          1628627,
          4055776,
          16523077,
          3283562,
          6685960,
          2424789,
          2442171,
          17034749,
          8255901,
          24874272,
          2787649,
          19213474,
          7561498,
          7924229,
          4487971,
          197138612,
          40335141,
          43272951,
          25374798,
          41199690,
          244060199,
          5742152,
          11682099,
          14310230,
          12919507,
          47970504,
          15784808,
          99487482,
          14951196,
          2733131,
          4266081,
          4449240,
          12588413,
          107574005,
          66741420,
          4070242,
          7048462,
          12203526,
          12581477,
          15973438,
          4271725,
          15750351,
          73250364,
          7563082,
          5373876,
          6858401,
          1106328,
          2464160,
          1494503,
          13239692,
          6980495,
          55405713,
          7869666,
          74061621,
          3159791,
          1101070,
          9206863,
          97209967,
          1512957,
          23171343,
          58033909,
          6551267,
          34544864,
          4906092,
          7211251,
          4464892,
          6914590,
          4896565,
          24781214,
          241529574,
          26494852,
          104775458,
          16124516
         ],
         "yaxis": "y"
        },
        {
         "alignmentgroup": "True",
         "hovertemplate": "Trip Distance=Number of Trips 3-5<br>County=%{x}<br>Number of Trips=%{y}<extra></extra>",
         "legendgroup": "Number of Trips 3-5",
         "marker": {
          "color": "#00cc96",
          "pattern": {
           "shape": ""
          }
         },
         "name": "Number of Trips 3-5",
         "offsetgroup": "Number of Trips 3-5",
         "orientation": "v",
         "showlegend": true,
         "textposition": "auto",
         "type": "bar",
         "x": [
          "Adams County",
          "Alexander County",
          "Bond County",
          "Boone County",
          "Brown County",
          "Bureau County",
          "Calhoun County",
          "Carroll County",
          "Cass County",
          "Champaign County",
          "Christian County",
          "Clark County",
          "Clay County",
          "Clinton County",
          "Coles County",
          "Cook County",
          "Crawford County",
          "Cumberland County",
          "De Witt County",
          "DeKalb County",
          "Douglas County",
          "DuPage County",
          "Edgar County",
          "Edwards County",
          "Effingham County",
          "Fayette County",
          "Ford County",
          "Franklin County",
          "Fulton County",
          "Gallatin County",
          "Greene County",
          "Grundy County",
          "Hamilton County",
          "Hancock County",
          "Hardin County",
          "Henderson County",
          "Henry County",
          "Iroquois County",
          "Jackson County",
          "Jasper County",
          "Jefferson County",
          "Jersey County",
          "Jo Daviess County",
          "Johnson County",
          "Kane County",
          "Kankakee County",
          "Kendall County",
          "Knox County",
          "LaSalle County",
          "Lake County",
          "Lawrence County",
          "Lee County",
          "Livingston County",
          "Logan County",
          "Macon County",
          "Macoupin County",
          "Madison County",
          "Marion County",
          "Marshall County",
          "Mason County",
          "Massac County",
          "McDonough County",
          "McHenry County",
          "McLean County",
          "Menard County",
          "Mercer County",
          "Monroe County",
          "Montgomery County",
          "Morgan County",
          "Moultrie County",
          "Ogle County",
          "Peoria County",
          "Perry County",
          "Piatt County",
          "Pike County",
          "Pope County",
          "Pulaski County",
          "Putnam County",
          "Randolph County",
          "Richland County",
          "Rock Island County",
          "Saline County",
          "Sangamon County",
          "Schuyler County",
          "Scott County",
          "Shelby County",
          "St. Clair County",
          "Stark County",
          "Stephenson County",
          "Tazewell County",
          "Union County",
          "Vermilion County",
          "Wabash County",
          "Warren County",
          "Washington County",
          "Wayne County",
          "White County",
          "Whiteside County",
          "Will County",
          "Williamson County",
          "Winnebago County",
          "Woodford County"
         ],
         "xaxis": "x",
         "y": [
          13910030,
          1126224,
          2384534,
          7487326,
          420030,
          5622778,
          818504,
          2478608,
          1701981,
          43867491,
          4107887,
          2657449,
          2021923,
          5778021,
          9556981,
          886343165,
          3397837,
          2778448,
          1580976,
          19379379,
          2748183,
          165688677,
          2151561,
          823581,
          6681399,
          3662043,
          1641297,
          5603923,
          4852752,
          796780,
          2656281,
          7292690,
          1058031,
          3666636,
          1532992,
          1453539,
          7446715,
          4654539,
          11341719,
          1554056,
          8210073,
          3214065,
          3136138,
          2136880,
          107734413,
          21291564,
          26050869,
          8469307,
          16968808,
          119971339,
          2095947,
          4752359,
          3300883,
          3448608,
          31017988,
          7414845,
          44479137,
          6508478,
          1239549,
          2214054,
          2660189,
          3414776,
          55214575,
          44808015,
          1293963,
          1860001,
          6916438,
          3996415,
          4937477,
          2590639,
          7581904,
          41333146,
          4348327,
          2104529,
          1984785,
          709489,
          1447338,
          972376,
          5934494,
          1830224,
          29581328,
          3675933,
          49070385,
          709907,
          1062759,
          3555579,
          50878589,
          573416,
          7846069,
          27127728,
          3065556,
          16038014,
          1455308,
          1801775,
          1790356,
          2536842,
          2446005,
          10956143,
          125970327,
          11537200,
          63409981,
          7584639
         ],
         "yaxis": "y"
        },
        {
         "alignmentgroup": "True",
         "hovertemplate": "Trip Distance=Number of Trips 5-10<br>County=%{x}<br>Number of Trips=%{y}<extra></extra>",
         "legendgroup": "Number of Trips 5-10",
         "marker": {
          "color": "#ab63fa",
          "pattern": {
           "shape": ""
          }
         },
         "name": "Number of Trips 5-10",
         "offsetgroup": "Number of Trips 5-10",
         "orientation": "v",
         "showlegend": true,
         "textposition": "auto",
         "type": "bar",
         "x": [
          "Adams County",
          "Alexander County",
          "Bond County",
          "Boone County",
          "Brown County",
          "Bureau County",
          "Calhoun County",
          "Carroll County",
          "Cass County",
          "Champaign County",
          "Christian County",
          "Clark County",
          "Clay County",
          "Clinton County",
          "Coles County",
          "Cook County",
          "Crawford County",
          "Cumberland County",
          "De Witt County",
          "DeKalb County",
          "Douglas County",
          "DuPage County",
          "Edgar County",
          "Edwards County",
          "Effingham County",
          "Fayette County",
          "Ford County",
          "Franklin County",
          "Fulton County",
          "Gallatin County",
          "Greene County",
          "Grundy County",
          "Hamilton County",
          "Hancock County",
          "Hardin County",
          "Henderson County",
          "Henry County",
          "Iroquois County",
          "Jackson County",
          "Jasper County",
          "Jefferson County",
          "Jersey County",
          "Jo Daviess County",
          "Johnson County",
          "Kane County",
          "Kankakee County",
          "Kendall County",
          "Knox County",
          "LaSalle County",
          "Lake County",
          "Lawrence County",
          "Lee County",
          "Livingston County",
          "Logan County",
          "Macon County",
          "Macoupin County",
          "Madison County",
          "Marion County",
          "Marshall County",
          "Mason County",
          "Massac County",
          "McDonough County",
          "McHenry County",
          "McLean County",
          "Menard County",
          "Mercer County",
          "Monroe County",
          "Montgomery County",
          "Morgan County",
          "Moultrie County",
          "Ogle County",
          "Peoria County",
          "Perry County",
          "Piatt County",
          "Pike County",
          "Pope County",
          "Pulaski County",
          "Putnam County",
          "Randolph County",
          "Richland County",
          "Rock Island County",
          "Saline County",
          "Sangamon County",
          "Schuyler County",
          "Scott County",
          "Shelby County",
          "St. Clair County",
          "Stark County",
          "Stephenson County",
          "Tazewell County",
          "Union County",
          "Vermilion County",
          "Wabash County",
          "Warren County",
          "Washington County",
          "Wayne County",
          "White County",
          "Whiteside County",
          "Will County",
          "Williamson County",
          "Winnebago County",
          "Woodford County"
         ],
         "xaxis": "x",
         "y": [
          10621386,
          2269509,
          3287734,
          12404201,
          1402994,
          9114323,
          1048995,
          3436629,
          2741434,
          48391460,
          4601723,
          2925948,
          4113523,
          9437873,
          9323681,
          1077332780,
          5189628,
          3284955,
          2992127,
          23578732,
          4028581,
          204689767,
          3348984,
          1416292,
          8907921,
          5732993,
          1873569,
          9662578,
          7048466,
          2332645,
          2603821,
          10175288,
          2914069,
          5207260,
          1740994,
          2241511,
          10426682,
          7010514,
          13191973,
          2600640,
          9232383,
          4580354,
          6608299,
          3377314,
          125778779,
          28627761,
          37310482,
          8404533,
          19337063,
          162800897,
          3877422,
          7068629,
          6560285,
          5721329,
          28350978,
          10500313,
          63868678,
          7107786,
          2929015,
          2554752,
          5162871,
          4982127,
          67489215,
          38181687,
          2866023,
          3082532,
          9193610,
          4974490,
          4390691,
          3539989,
          9764834,
          49401277,
          4986809,
          4379599,
          3157280,
          1558575,
          1731842,
          1397593,
          6295659,
          2337891,
          45117763,
          5471218,
          59090546,
          1328974,
          2371891,
          6343625,
          76555762,
          1591966,
          7136098,
          34910174,
          4011837,
          18802256,
          1955625,
          2652611,
          4274029,
          4134316,
          3374630,
          10543205,
          166157115,
          20676441,
          85978612,
          10625482
         ],
         "yaxis": "y"
        },
        {
         "alignmentgroup": "True",
         "hovertemplate": "Trip Distance=Number of Trips 10-25<br>County=%{x}<br>Number of Trips=%{y}<extra></extra>",
         "legendgroup": "Number of Trips 10-25",
         "marker": {
          "color": "#FFA15A",
          "pattern": {
           "shape": ""
          }
         },
         "name": "Number of Trips 10-25",
         "offsetgroup": "Number of Trips 10-25",
         "orientation": "v",
         "showlegend": true,
         "textposition": "auto",
         "type": "bar",
         "x": [
          "Adams County",
          "Alexander County",
          "Bond County",
          "Boone County",
          "Brown County",
          "Bureau County",
          "Calhoun County",
          "Carroll County",
          "Cass County",
          "Champaign County",
          "Christian County",
          "Clark County",
          "Clay County",
          "Clinton County",
          "Coles County",
          "Cook County",
          "Crawford County",
          "Cumberland County",
          "De Witt County",
          "DeKalb County",
          "Douglas County",
          "DuPage County",
          "Edgar County",
          "Edwards County",
          "Effingham County",
          "Fayette County",
          "Ford County",
          "Franklin County",
          "Fulton County",
          "Gallatin County",
          "Greene County",
          "Grundy County",
          "Hamilton County",
          "Hancock County",
          "Hardin County",
          "Henderson County",
          "Henry County",
          "Iroquois County",
          "Jackson County",
          "Jasper County",
          "Jefferson County",
          "Jersey County",
          "Jo Daviess County",
          "Johnson County",
          "Kane County",
          "Kankakee County",
          "Kendall County",
          "Knox County",
          "LaSalle County",
          "Lake County",
          "Lawrence County",
          "Lee County",
          "Livingston County",
          "Logan County",
          "Macon County",
          "Macoupin County",
          "Madison County",
          "Marion County",
          "Marshall County",
          "Mason County",
          "Massac County",
          "McDonough County",
          "McHenry County",
          "McLean County",
          "Menard County",
          "Mercer County",
          "Monroe County",
          "Montgomery County",
          "Morgan County",
          "Moultrie County",
          "Ogle County",
          "Peoria County",
          "Perry County",
          "Piatt County",
          "Pike County",
          "Pope County",
          "Pulaski County",
          "Putnam County",
          "Randolph County",
          "Richland County",
          "Rock Island County",
          "Saline County",
          "Sangamon County",
          "Schuyler County",
          "Scott County",
          "Shelby County",
          "St. Clair County",
          "Stark County",
          "Stephenson County",
          "Tazewell County",
          "Union County",
          "Vermilion County",
          "Wabash County",
          "Warren County",
          "Washington County",
          "Wayne County",
          "White County",
          "Whiteside County",
          "Will County",
          "Williamson County",
          "Winnebago County",
          "Woodford County"
         ],
         "xaxis": "x",
         "y": [
          10565192,
          1986172,
          5113228,
          18854688,
          1277951,
          10496738,
          1601687,
          5054094,
          3902661,
          43128025,
          8519673,
          4974077,
          2648340,
          12038696,
          14082315,
          1010623509,
          4091830,
          4559929,
          4514465,
          24279387,
          6847328,
          192847215,
          4841282,
          2294859,
          8543000,
          7160501,
          3844763,
          13310059,
          8566192,
          1930089,
          4072758,
          18299363,
          2942214,
          4763911,
          1102611,
          3056017,
          14503904,
          9495166,
          14680320,
          3206957,
          10976327,
          7149111,
          5357274,
          4262477,
          112407919,
          21411232,
          35468516,
          8636350,
          30533018,
          165044675,
          4534220,
          11403800,
          9698989,
          5882504,
          13516751,
          14321299,
          77595283,
          10664159,
          4108719,
          4737560,
          4831090,
          7694635,
          80174586,
          29358897,
          4809813,
          6097148,
          13245763,
          7516008,
          5641043,
          5416221,
          17904113,
          37489718,
          6834296,
          6243480,
          4817491,
          1926920,
          1613681,
          1971469,
          11128029,
          2714620,
          26013981,
          4704212,
          31755511,
          1756499,
          2001464,
          7930990,
          68771921,
          1751181,
          9166120,
          37444852,
          4721060,
          14181629,
          3505304,
          6949250,
          4889560,
          6420646,
          3943604,
          14571397,
          162647915,
          16392737,
          54550376,
          13705593
         ],
         "yaxis": "y"
        },
        {
         "alignmentgroup": "True",
         "hovertemplate": "Trip Distance=Number of Trips 25-50<br>County=%{x}<br>Number of Trips=%{y}<extra></extra>",
         "legendgroup": "Number of Trips 25-50",
         "marker": {
          "color": "#19d3f3",
          "pattern": {
           "shape": ""
          }
         },
         "name": "Number of Trips 25-50",
         "offsetgroup": "Number of Trips 25-50",
         "orientation": "v",
         "showlegend": true,
         "textposition": "auto",
         "type": "bar",
         "x": [
          "Adams County",
          "Alexander County",
          "Bond County",
          "Boone County",
          "Brown County",
          "Bureau County",
          "Calhoun County",
          "Carroll County",
          "Cass County",
          "Champaign County",
          "Christian County",
          "Clark County",
          "Clay County",
          "Clinton County",
          "Coles County",
          "Cook County",
          "Crawford County",
          "Cumberland County",
          "De Witt County",
          "DeKalb County",
          "Douglas County",
          "DuPage County",
          "Edgar County",
          "Edwards County",
          "Effingham County",
          "Fayette County",
          "Ford County",
          "Franklin County",
          "Fulton County",
          "Gallatin County",
          "Greene County",
          "Grundy County",
          "Hamilton County",
          "Hancock County",
          "Hardin County",
          "Henderson County",
          "Henry County",
          "Iroquois County",
          "Jackson County",
          "Jasper County",
          "Jefferson County",
          "Jersey County",
          "Jo Daviess County",
          "Johnson County",
          "Kane County",
          "Kankakee County",
          "Kendall County",
          "Knox County",
          "LaSalle County",
          "Lake County",
          "Lawrence County",
          "Lee County",
          "Livingston County",
          "Logan County",
          "Macon County",
          "Macoupin County",
          "Madison County",
          "Marion County",
          "Marshall County",
          "Mason County",
          "Massac County",
          "McDonough County",
          "McHenry County",
          "McLean County",
          "Menard County",
          "Mercer County",
          "Monroe County",
          "Montgomery County",
          "Morgan County",
          "Moultrie County",
          "Ogle County",
          "Peoria County",
          "Perry County",
          "Piatt County",
          "Pike County",
          "Pope County",
          "Pulaski County",
          "Putnam County",
          "Randolph County",
          "Richland County",
          "Rock Island County",
          "Saline County",
          "Sangamon County",
          "Schuyler County",
          "Scott County",
          "Shelby County",
          "St. Clair County",
          "Stark County",
          "Stephenson County",
          "Tazewell County",
          "Union County",
          "Vermilion County",
          "Wabash County",
          "Warren County",
          "Washington County",
          "Wayne County",
          "White County",
          "Whiteside County",
          "Will County",
          "Williamson County",
          "Winnebago County",
          "Woodford County"
         ],
         "xaxis": "x",
         "y": [
          3569727,
          675936,
          2766466,
          5518046,
          917895,
          4407092,
          843113,
          2230327,
          2376268,
          9576348,
          4803879,
          2044336,
          2668496,
          6796309,
          4706176,
          288400126,
          2096251,
          1355083,
          2974426,
          18700043,
          4174588,
          58910684,
          2210285,
          875118,
          3685713,
          2919676,
          2544709,
          4269185,
          6913367,
          640787,
          2192663,
          7162769,
          1779574,
          2419346,
          847238,
          1060640,
          6666467,
          4537281,
          4843401,
          1918416,
          4344115,
          3632267,
          2457664,
          2508065,
          46420988,
          11586900,
          14368818,
          2988741,
          12138862,
          52961829,
          1689376,
          4029241,
          5074067,
          5374801,
          5044969,
          6962969,
          25356371,
          3604474,
          2515005,
          2549244,
          1057668,
          2149363,
          34905264,
          12303806,
          1549492,
          3035753,
          4565289,
          2771668,
          3831342,
          2022565,
          8104492,
          8607784,
          3705432,
          2258093,
          1988314,
          879689,
          1300936,
          563718,
          4800636,
          2412258,
          4873835,
          4416896,
          8405146,
          955997,
          312372,
          3719902,
          21112671,
          954187,
          4554850,
          8669013,
          3120624,
          7712954,
          1928095,
          1892448,
          2838459,
          2346483,
          2189179,
          4707717,
          70152773,
          5722380,
          15346084,
          4575478
         ],
         "yaxis": "y"
        },
        {
         "alignmentgroup": "True",
         "hovertemplate": "Trip Distance=Number of Trips 50-100<br>County=%{x}<br>Number of Trips=%{y}<extra></extra>",
         "legendgroup": "Number of Trips 50-100",
         "marker": {
          "color": "#FF6692",
          "pattern": {
           "shape": ""
          }
         },
         "name": "Number of Trips 50-100",
         "offsetgroup": "Number of Trips 50-100",
         "orientation": "v",
         "showlegend": true,
         "textposition": "auto",
         "type": "bar",
         "x": [
          "Adams County",
          "Alexander County",
          "Bond County",
          "Boone County",
          "Brown County",
          "Bureau County",
          "Calhoun County",
          "Carroll County",
          "Cass County",
          "Champaign County",
          "Christian County",
          "Clark County",
          "Clay County",
          "Clinton County",
          "Coles County",
          "Cook County",
          "Crawford County",
          "Cumberland County",
          "De Witt County",
          "DeKalb County",
          "Douglas County",
          "DuPage County",
          "Edgar County",
          "Edwards County",
          "Effingham County",
          "Fayette County",
          "Ford County",
          "Franklin County",
          "Fulton County",
          "Gallatin County",
          "Greene County",
          "Grundy County",
          "Hamilton County",
          "Hancock County",
          "Hardin County",
          "Henderson County",
          "Henry County",
          "Iroquois County",
          "Jackson County",
          "Jasper County",
          "Jefferson County",
          "Jersey County",
          "Jo Daviess County",
          "Johnson County",
          "Kane County",
          "Kankakee County",
          "Kendall County",
          "Knox County",
          "LaSalle County",
          "Lake County",
          "Lawrence County",
          "Lee County",
          "Livingston County",
          "Logan County",
          "Macon County",
          "Macoupin County",
          "Madison County",
          "Marion County",
          "Marshall County",
          "Mason County",
          "Massac County",
          "McDonough County",
          "McHenry County",
          "McLean County",
          "Menard County",
          "Mercer County",
          "Monroe County",
          "Montgomery County",
          "Morgan County",
          "Moultrie County",
          "Ogle County",
          "Peoria County",
          "Perry County",
          "Piatt County",
          "Pike County",
          "Pope County",
          "Pulaski County",
          "Putnam County",
          "Randolph County",
          "Richland County",
          "Rock Island County",
          "Saline County",
          "Sangamon County",
          "Schuyler County",
          "Scott County",
          "Shelby County",
          "St. Clair County",
          "Stark County",
          "Stephenson County",
          "Tazewell County",
          "Union County",
          "Vermilion County",
          "Wabash County",
          "Warren County",
          "Washington County",
          "Wayne County",
          "White County",
          "Whiteside County",
          "Will County",
          "Williamson County",
          "Winnebago County",
          "Woodford County"
         ],
         "xaxis": "x",
         "y": [
          1224165,
          155089,
          1272734,
          3382895,
          256568,
          1954525,
          438385,
          609085,
          522753,
          4953109,
          1445497,
          465007,
          642496,
          1577770,
          2846380,
          60530264,
          447334,
          495147,
          685963,
          4863586,
          769530,
          10962040,
          533829,
          478545,
          1616644,
          1486362,
          538690,
          1158332,
          1272809,
          237711,
          973242,
          1730790,
          533241,
          833711,
          175695,
          364101,
          2039461,
          1304466,
          1531178,
          477661,
          1489072,
          893308,
          972743,
          437083,
          8090910,
          3891438,
          3043496,
          2095013,
          6117403,
          11751429,
          620086,
          2217363,
          1896384,
          933828,
          3154006,
          2018138,
          4363169,
          1543004,
          403426,
          768576,
          798695,
          1103521,
          7890387,
          6765153,
          488625,
          433485,
          541123,
          2161586,
          1307517,
          661040,
          2747440,
          3705345,
          1013273,
          534571,
          731977,
          157786,
          175640,
          470103,
          2072961,
          685617,
          2801589,
          1578430,
          5738121,
          363930,
          293117,
          1077378,
          3039580,
          236511,
          1420870,
          2655891,
          676230,
          1838626,
          467317,
          779440,
          915685,
          1094238,
          1198960,
          2147916,
          10935033,
          2647549,
          9578489,
          1013429
         ],
         "yaxis": "y"
        },
        {
         "alignmentgroup": "True",
         "hovertemplate": "Trip Distance=Number of Trips 100-250<br>County=%{x}<br>Number of Trips=%{y}<extra></extra>",
         "legendgroup": "Number of Trips 100-250",
         "marker": {
          "color": "#B6E880",
          "pattern": {
           "shape": ""
          }
         },
         "name": "Number of Trips 100-250",
         "offsetgroup": "Number of Trips 100-250",
         "orientation": "v",
         "showlegend": true,
         "textposition": "auto",
         "type": "bar",
         "x": [
          "Adams County",
          "Alexander County",
          "Bond County",
          "Boone County",
          "Brown County",
          "Bureau County",
          "Calhoun County",
          "Carroll County",
          "Cass County",
          "Champaign County",
          "Christian County",
          "Clark County",
          "Clay County",
          "Clinton County",
          "Coles County",
          "Cook County",
          "Crawford County",
          "Cumberland County",
          "De Witt County",
          "DeKalb County",
          "Douglas County",
          "DuPage County",
          "Edgar County",
          "Edwards County",
          "Effingham County",
          "Fayette County",
          "Ford County",
          "Franklin County",
          "Fulton County",
          "Gallatin County",
          "Greene County",
          "Grundy County",
          "Hamilton County",
          "Hancock County",
          "Hardin County",
          "Henderson County",
          "Henry County",
          "Iroquois County",
          "Jackson County",
          "Jasper County",
          "Jefferson County",
          "Jersey County",
          "Jo Daviess County",
          "Johnson County",
          "Kane County",
          "Kankakee County",
          "Kendall County",
          "Knox County",
          "LaSalle County",
          "Lake County",
          "Lawrence County",
          "Lee County",
          "Livingston County",
          "Logan County",
          "Macon County",
          "Macoupin County",
          "Madison County",
          "Marion County",
          "Marshall County",
          "Mason County",
          "Massac County",
          "McDonough County",
          "McHenry County",
          "McLean County",
          "Menard County",
          "Mercer County",
          "Monroe County",
          "Montgomery County",
          "Morgan County",
          "Moultrie County",
          "Ogle County",
          "Peoria County",
          "Perry County",
          "Piatt County",
          "Pike County",
          "Pope County",
          "Pulaski County",
          "Putnam County",
          "Randolph County",
          "Richland County",
          "Rock Island County",
          "Saline County",
          "Sangamon County",
          "Schuyler County",
          "Scott County",
          "Shelby County",
          "St. Clair County",
          "Stark County",
          "Stephenson County",
          "Tazewell County",
          "Union County",
          "Vermilion County",
          "Wabash County",
          "Warren County",
          "Washington County",
          "Wayne County",
          "White County",
          "Whiteside County",
          "Will County",
          "Williamson County",
          "Winnebago County",
          "Woodford County"
         ],
         "xaxis": "x",
         "y": [
          1147593,
          159009,
          300839,
          479685,
          211369,
          527011,
          92029,
          293447,
          169476,
          2903887,
          289036,
          271358,
          194222,
          549228,
          644837,
          43970654,
          305548,
          271385,
          283471,
          694077,
          256544,
          8049986,
          317576,
          123905,
          717199,
          632936,
          201800,
          629308,
          357467,
          51775,
          240730,
          588191,
          167550,
          339243,
          12825,
          145208,
          875697,
          428093,
          862663,
          411093,
          714030,
          474799,
          330140,
          204300,
          3909222,
          983508,
          1080372,
          525005,
          1012071,
          4366638,
          466252,
          522811,
          611017,
          399695,
          1090538,
          705721,
          2281838,
          474139,
          222197,
          225839,
          319346,
          405073,
          2265839,
          2440499,
          206212,
          188977,
          245712,
          401880,
          399448,
          173847,
          528124,
          1760924,
          175443,
          177648,
          188062,
          93154,
          87250,
          147210,
          454062,
          460701,
          2154819,
          366441,
          2163347,
          93985,
          57122,
          239486,
          2039183,
          77847,
          517486,
          1116736,
          240320,
          1325037,
          231992,
          249807,
          278720,
          218665,
          322688,
          750755,
          6355846,
          1098131,
          2304088,
          543573
         ],
         "yaxis": "y"
        },
        {
         "alignmentgroup": "True",
         "hovertemplate": "Trip Distance=Number of Trips 250-500<br>County=%{x}<br>Number of Trips=%{y}<extra></extra>",
         "legendgroup": "Number of Trips 250-500",
         "marker": {
          "color": "#FF97FF",
          "pattern": {
           "shape": ""
          }
         },
         "name": "Number of Trips 250-500",
         "offsetgroup": "Number of Trips 250-500",
         "orientation": "v",
         "showlegend": true,
         "textposition": "auto",
         "type": "bar",
         "x": [
          "Adams County",
          "Alexander County",
          "Bond County",
          "Boone County",
          "Brown County",
          "Bureau County",
          "Calhoun County",
          "Carroll County",
          "Cass County",
          "Champaign County",
          "Christian County",
          "Clark County",
          "Clay County",
          "Clinton County",
          "Coles County",
          "Cook County",
          "Crawford County",
          "Cumberland County",
          "De Witt County",
          "DeKalb County",
          "Douglas County",
          "DuPage County",
          "Edgar County",
          "Edwards County",
          "Effingham County",
          "Fayette County",
          "Ford County",
          "Franklin County",
          "Fulton County",
          "Gallatin County",
          "Greene County",
          "Grundy County",
          "Hamilton County",
          "Hancock County",
          "Hardin County",
          "Henderson County",
          "Henry County",
          "Iroquois County",
          "Jackson County",
          "Jasper County",
          "Jefferson County",
          "Jersey County",
          "Jo Daviess County",
          "Johnson County",
          "Kane County",
          "Kankakee County",
          "Kendall County",
          "Knox County",
          "LaSalle County",
          "Lake County",
          "Lawrence County",
          "Lee County",
          "Livingston County",
          "Logan County",
          "Macon County",
          "Macoupin County",
          "Madison County",
          "Marion County",
          "Marshall County",
          "Mason County",
          "Massac County",
          "McDonough County",
          "McHenry County",
          "McLean County",
          "Menard County",
          "Mercer County",
          "Monroe County",
          "Montgomery County",
          "Morgan County",
          "Moultrie County",
          "Ogle County",
          "Peoria County",
          "Perry County",
          "Piatt County",
          "Pike County",
          "Pope County",
          "Pulaski County",
          "Putnam County",
          "Randolph County",
          "Richland County",
          "Rock Island County",
          "Saline County",
          "Sangamon County",
          "Schuyler County",
          "Scott County",
          "Shelby County",
          "St. Clair County",
          "Stark County",
          "Stephenson County",
          "Tazewell County",
          "Union County",
          "Vermilion County",
          "Wabash County",
          "Warren County",
          "Washington County",
          "Wayne County",
          "White County",
          "Whiteside County",
          "Will County",
          "Williamson County",
          "Winnebago County",
          "Woodford County"
         ],
         "xaxis": "x",
         "y": [
          135632,
          24060,
          35113,
          107124,
          22778,
          65052,
          7559,
          44416,
          32742,
          369115,
          41088,
          44044,
          9525,
          137650,
          50070,
          16077709,
          20088,
          35739,
          36705,
          103825,
          50135,
          2938164,
          25617,
          6196,
          91115,
          82529,
          24144,
          50955,
          64112,
          4619,
          17036,
          188928,
          21664,
          91837,
          684,
          11607,
          121586,
          69107,
          98960,
          49707,
          88478,
          91990,
          22765,
          36366,
          929297,
          345031,
          277257,
          129579,
          274397,
          1556837,
          58720,
          107217,
          102149,
          60886,
          129219,
          104049,
          428672,
          106130,
          29377,
          51181,
          48059,
          31966,
          650141,
          501173,
          20788,
          28161,
          22356,
          85291,
          37032,
          17782,
          133452,
          260284,
          27485,
          42334,
          25542,
          5736,
          10130,
          18130,
          72418,
          41956,
          278849,
          27863,
          241965,
          5167,
          8119,
          44451,
          421467,
          2453,
          80742,
          326969,
          32811,
          201102,
          19589,
          31873,
          53412,
          38878,
          26790,
          94488,
          2170228,
          137984,
          572837,
          72288
         ],
         "yaxis": "y"
        },
        {
         "alignmentgroup": "True",
         "hovertemplate": "Trip Distance=Number of Trips >=500<br>County=%{x}<br>Number of Trips=%{y}<extra></extra>",
         "legendgroup": "Number of Trips >=500",
         "marker": {
          "color": "#FECB52",
          "pattern": {
           "shape": ""
          }
         },
         "name": "Number of Trips >=500",
         "offsetgroup": "Number of Trips >=500",
         "orientation": "v",
         "showlegend": true,
         "textposition": "auto",
         "type": "bar",
         "x": [
          "Adams County",
          "Alexander County",
          "Bond County",
          "Boone County",
          "Brown County",
          "Bureau County",
          "Calhoun County",
          "Carroll County",
          "Cass County",
          "Champaign County",
          "Christian County",
          "Clark County",
          "Clay County",
          "Clinton County",
          "Coles County",
          "Cook County",
          "Crawford County",
          "Cumberland County",
          "De Witt County",
          "DeKalb County",
          "Douglas County",
          "DuPage County",
          "Edgar County",
          "Edwards County",
          "Effingham County",
          "Fayette County",
          "Ford County",
          "Franklin County",
          "Fulton County",
          "Gallatin County",
          "Greene County",
          "Grundy County",
          "Hamilton County",
          "Hancock County",
          "Hardin County",
          "Henderson County",
          "Henry County",
          "Iroquois County",
          "Jackson County",
          "Jasper County",
          "Jefferson County",
          "Jersey County",
          "Jo Daviess County",
          "Johnson County",
          "Kane County",
          "Kankakee County",
          "Kendall County",
          "Knox County",
          "LaSalle County",
          "Lake County",
          "Lawrence County",
          "Lee County",
          "Livingston County",
          "Logan County",
          "Macon County",
          "Macoupin County",
          "Madison County",
          "Marion County",
          "Marshall County",
          "Mason County",
          "Massac County",
          "McDonough County",
          "McHenry County",
          "McLean County",
          "Menard County",
          "Mercer County",
          "Monroe County",
          "Montgomery County",
          "Morgan County",
          "Moultrie County",
          "Ogle County",
          "Peoria County",
          "Perry County",
          "Piatt County",
          "Pike County",
          "Pope County",
          "Pulaski County",
          "Putnam County",
          "Randolph County",
          "Richland County",
          "Rock Island County",
          "Saline County",
          "Sangamon County",
          "Schuyler County",
          "Scott County",
          "Shelby County",
          "St. Clair County",
          "Stark County",
          "Stephenson County",
          "Tazewell County",
          "Union County",
          "Vermilion County",
          "Wabash County",
          "Warren County",
          "Washington County",
          "Wayne County",
          "White County",
          "Whiteside County",
          "Will County",
          "Williamson County",
          "Winnebago County",
          "Woodford County"
         ],
         "xaxis": "x",
         "y": [
          20945,
          2821,
          8502,
          61819,
          5561,
          13967,
          3133,
          8108,
          6955,
          372831,
          41487,
          12603,
          3049,
          49600,
          15101,
          13072268,
          8805,
          18058,
          7098,
          102423,
          13971,
          2305421,
          11255,
          12957,
          38776,
          29656,
          9503,
          21504,
          19499,
          5425,
          11179,
          72526,
          6726,
          9625,
          0,
          3411,
          18165,
          35555,
          23649,
          4303,
          33449,
          22245,
          34872,
          8635,
          887111,
          176085,
          136693,
          25733,
          93851,
          1344196,
          4024,
          15505,
          49892,
          17379,
          84051,
          20906,
          271003,
          24834,
          7421,
          10371,
          25008,
          5557,
          507956,
          231294,
          10244,
          23058,
          45157,
          20187,
          18980,
          9891,
          44329,
          119059,
          6510,
          9475,
          3072,
          4489,
          0,
          4405,
          16834,
          8360,
          106432,
          6641,
          141337,
          3247,
          935,
          15629,
          327826,
          1761,
          21345,
          115182,
          7018,
          61875,
          3589,
          4840,
          23026,
          13808,
          4772,
          14355,
          1327528,
          28044,
          339390,
          51807
         ],
         "yaxis": "y"
        }
       ],
       "layout": {
        "barmode": "stack",
        "legend": {
         "title": {
          "text": "Trip Distance"
         },
         "tracegroupgap": 0
        },
        "template": {
         "data": {
          "bar": [
           {
            "error_x": {
             "color": "#2a3f5f"
            },
            "error_y": {
             "color": "#2a3f5f"
            },
            "marker": {
             "line": {
              "color": "#E5ECF6",
              "width": 0.5
             },
             "pattern": {
              "fillmode": "overlay",
              "size": 10,
              "solidity": 0.2
             }
            },
            "type": "bar"
           }
          ],
          "barpolar": [
           {
            "marker": {
             "line": {
              "color": "#E5ECF6",
              "width": 0.5
             },
             "pattern": {
              "fillmode": "overlay",
              "size": 10,
              "solidity": 0.2
             }
            },
            "type": "barpolar"
           }
          ],
          "carpet": [
           {
            "aaxis": {
             "endlinecolor": "#2a3f5f",
             "gridcolor": "white",
             "linecolor": "white",
             "minorgridcolor": "white",
             "startlinecolor": "#2a3f5f"
            },
            "baxis": {
             "endlinecolor": "#2a3f5f",
             "gridcolor": "white",
             "linecolor": "white",
             "minorgridcolor": "white",
             "startlinecolor": "#2a3f5f"
            },
            "type": "carpet"
           }
          ],
          "choropleth": [
           {
            "colorbar": {
             "outlinewidth": 0,
             "ticks": ""
            },
            "type": "choropleth"
           }
          ],
          "contour": [
           {
            "colorbar": {
             "outlinewidth": 0,
             "ticks": ""
            },
            "colorscale": [
             [
              0,
              "#0d0887"
             ],
             [
              0.1111111111111111,
              "#46039f"
             ],
             [
              0.2222222222222222,
              "#7201a8"
             ],
             [
              0.3333333333333333,
              "#9c179e"
             ],
             [
              0.4444444444444444,
              "#bd3786"
             ],
             [
              0.5555555555555556,
              "#d8576b"
             ],
             [
              0.6666666666666666,
              "#ed7953"
             ],
             [
              0.7777777777777778,
              "#fb9f3a"
             ],
             [
              0.8888888888888888,
              "#fdca26"
             ],
             [
              1,
              "#f0f921"
             ]
            ],
            "type": "contour"
           }
          ],
          "contourcarpet": [
           {
            "colorbar": {
             "outlinewidth": 0,
             "ticks": ""
            },
            "type": "contourcarpet"
           }
          ],
          "heatmap": [
           {
            "colorbar": {
             "outlinewidth": 0,
             "ticks": ""
            },
            "colorscale": [
             [
              0,
              "#0d0887"
             ],
             [
              0.1111111111111111,
              "#46039f"
             ],
             [
              0.2222222222222222,
              "#7201a8"
             ],
             [
              0.3333333333333333,
              "#9c179e"
             ],
             [
              0.4444444444444444,
              "#bd3786"
             ],
             [
              0.5555555555555556,
              "#d8576b"
             ],
             [
              0.6666666666666666,
              "#ed7953"
             ],
             [
              0.7777777777777778,
              "#fb9f3a"
             ],
             [
              0.8888888888888888,
              "#fdca26"
             ],
             [
              1,
              "#f0f921"
             ]
            ],
            "type": "heatmap"
           }
          ],
          "heatmapgl": [
           {
            "colorbar": {
             "outlinewidth": 0,
             "ticks": ""
            },
            "colorscale": [
             [
              0,
              "#0d0887"
             ],
             [
              0.1111111111111111,
              "#46039f"
             ],
             [
              0.2222222222222222,
              "#7201a8"
             ],
             [
              0.3333333333333333,
              "#9c179e"
             ],
             [
              0.4444444444444444,
              "#bd3786"
             ],
             [
              0.5555555555555556,
              "#d8576b"
             ],
             [
              0.6666666666666666,
              "#ed7953"
             ],
             [
              0.7777777777777778,
              "#fb9f3a"
             ],
             [
              0.8888888888888888,
              "#fdca26"
             ],
             [
              1,
              "#f0f921"
             ]
            ],
            "type": "heatmapgl"
           }
          ],
          "histogram": [
           {
            "marker": {
             "pattern": {
              "fillmode": "overlay",
              "size": 10,
              "solidity": 0.2
             }
            },
            "type": "histogram"
           }
          ],
          "histogram2d": [
           {
            "colorbar": {
             "outlinewidth": 0,
             "ticks": ""
            },
            "colorscale": [
             [
              0,
              "#0d0887"
             ],
             [
              0.1111111111111111,
              "#46039f"
             ],
             [
              0.2222222222222222,
              "#7201a8"
             ],
             [
              0.3333333333333333,
              "#9c179e"
             ],
             [
              0.4444444444444444,
              "#bd3786"
             ],
             [
              0.5555555555555556,
              "#d8576b"
             ],
             [
              0.6666666666666666,
              "#ed7953"
             ],
             [
              0.7777777777777778,
              "#fb9f3a"
             ],
             [
              0.8888888888888888,
              "#fdca26"
             ],
             [
              1,
              "#f0f921"
             ]
            ],
            "type": "histogram2d"
           }
          ],
          "histogram2dcontour": [
           {
            "colorbar": {
             "outlinewidth": 0,
             "ticks": ""
            },
            "colorscale": [
             [
              0,
              "#0d0887"
             ],
             [
              0.1111111111111111,
              "#46039f"
             ],
             [
              0.2222222222222222,
              "#7201a8"
             ],
             [
              0.3333333333333333,
              "#9c179e"
             ],
             [
              0.4444444444444444,
              "#bd3786"
             ],
             [
              0.5555555555555556,
              "#d8576b"
             ],
             [
              0.6666666666666666,
              "#ed7953"
             ],
             [
              0.7777777777777778,
              "#fb9f3a"
             ],
             [
              0.8888888888888888,
              "#fdca26"
             ],
             [
              1,
              "#f0f921"
             ]
            ],
            "type": "histogram2dcontour"
           }
          ],
          "mesh3d": [
           {
            "colorbar": {
             "outlinewidth": 0,
             "ticks": ""
            },
            "type": "mesh3d"
           }
          ],
          "parcoords": [
           {
            "line": {
             "colorbar": {
              "outlinewidth": 0,
              "ticks": ""
             }
            },
            "type": "parcoords"
           }
          ],
          "pie": [
           {
            "automargin": true,
            "type": "pie"
           }
          ],
          "scatter": [
           {
            "fillpattern": {
             "fillmode": "overlay",
             "size": 10,
             "solidity": 0.2
            },
            "type": "scatter"
           }
          ],
          "scatter3d": [
           {
            "line": {
             "colorbar": {
              "outlinewidth": 0,
              "ticks": ""
             }
            },
            "marker": {
             "colorbar": {
              "outlinewidth": 0,
              "ticks": ""
             }
            },
            "type": "scatter3d"
           }
          ],
          "scattercarpet": [
           {
            "marker": {
             "colorbar": {
              "outlinewidth": 0,
              "ticks": ""
             }
            },
            "type": "scattercarpet"
           }
          ],
          "scattergeo": [
           {
            "marker": {
             "colorbar": {
              "outlinewidth": 0,
              "ticks": ""
             }
            },
            "type": "scattergeo"
           }
          ],
          "scattergl": [
           {
            "marker": {
             "colorbar": {
              "outlinewidth": 0,
              "ticks": ""
             }
            },
            "type": "scattergl"
           }
          ],
          "scattermapbox": [
           {
            "marker": {
             "colorbar": {
              "outlinewidth": 0,
              "ticks": ""
             }
            },
            "type": "scattermapbox"
           }
          ],
          "scatterpolar": [
           {
            "marker": {
             "colorbar": {
              "outlinewidth": 0,
              "ticks": ""
             }
            },
            "type": "scatterpolar"
           }
          ],
          "scatterpolargl": [
           {
            "marker": {
             "colorbar": {
              "outlinewidth": 0,
              "ticks": ""
             }
            },
            "type": "scatterpolargl"
           }
          ],
          "scatterternary": [
           {
            "marker": {
             "colorbar": {
              "outlinewidth": 0,
              "ticks": ""
             }
            },
            "type": "scatterternary"
           }
          ],
          "surface": [
           {
            "colorbar": {
             "outlinewidth": 0,
             "ticks": ""
            },
            "colorscale": [
             [
              0,
              "#0d0887"
             ],
             [
              0.1111111111111111,
              "#46039f"
             ],
             [
              0.2222222222222222,
              "#7201a8"
             ],
             [
              0.3333333333333333,
              "#9c179e"
             ],
             [
              0.4444444444444444,
              "#bd3786"
             ],
             [
              0.5555555555555556,
              "#d8576b"
             ],
             [
              0.6666666666666666,
              "#ed7953"
             ],
             [
              0.7777777777777778,
              "#fb9f3a"
             ],
             [
              0.8888888888888888,
              "#fdca26"
             ],
             [
              1,
              "#f0f921"
             ]
            ],
            "type": "surface"
           }
          ],
          "table": [
           {
            "cells": {
             "fill": {
              "color": "#EBF0F8"
             },
             "line": {
              "color": "white"
             }
            },
            "header": {
             "fill": {
              "color": "#C8D4E3"
             },
             "line": {
              "color": "white"
             }
            },
            "type": "table"
           }
          ]
         },
         "layout": {
          "annotationdefaults": {
           "arrowcolor": "#2a3f5f",
           "arrowhead": 0,
           "arrowwidth": 1
          },
          "autotypenumbers": "strict",
          "coloraxis": {
           "colorbar": {
            "outlinewidth": 0,
            "ticks": ""
           }
          },
          "colorscale": {
           "diverging": [
            [
             0,
             "#8e0152"
            ],
            [
             0.1,
             "#c51b7d"
            ],
            [
             0.2,
             "#de77ae"
            ],
            [
             0.3,
             "#f1b6da"
            ],
            [
             0.4,
             "#fde0ef"
            ],
            [
             0.5,
             "#f7f7f7"
            ],
            [
             0.6,
             "#e6f5d0"
            ],
            [
             0.7,
             "#b8e186"
            ],
            [
             0.8,
             "#7fbc41"
            ],
            [
             0.9,
             "#4d9221"
            ],
            [
             1,
             "#276419"
            ]
           ],
           "sequential": [
            [
             0,
             "#0d0887"
            ],
            [
             0.1111111111111111,
             "#46039f"
            ],
            [
             0.2222222222222222,
             "#7201a8"
            ],
            [
             0.3333333333333333,
             "#9c179e"
            ],
            [
             0.4444444444444444,
             "#bd3786"
            ],
            [
             0.5555555555555556,
             "#d8576b"
            ],
            [
             0.6666666666666666,
             "#ed7953"
            ],
            [
             0.7777777777777778,
             "#fb9f3a"
            ],
            [
             0.8888888888888888,
             "#fdca26"
            ],
            [
             1,
             "#f0f921"
            ]
           ],
           "sequentialminus": [
            [
             0,
             "#0d0887"
            ],
            [
             0.1111111111111111,
             "#46039f"
            ],
            [
             0.2222222222222222,
             "#7201a8"
            ],
            [
             0.3333333333333333,
             "#9c179e"
            ],
            [
             0.4444444444444444,
             "#bd3786"
            ],
            [
             0.5555555555555556,
             "#d8576b"
            ],
            [
             0.6666666666666666,
             "#ed7953"
            ],
            [
             0.7777777777777778,
             "#fb9f3a"
            ],
            [
             0.8888888888888888,
             "#fdca26"
            ],
            [
             1,
             "#f0f921"
            ]
           ]
          },
          "colorway": [
           "#636efa",
           "#EF553B",
           "#00cc96",
           "#ab63fa",
           "#FFA15A",
           "#19d3f3",
           "#FF6692",
           "#B6E880",
           "#FF97FF",
           "#FECB52"
          ],
          "font": {
           "color": "#2a3f5f"
          },
          "geo": {
           "bgcolor": "white",
           "lakecolor": "white",
           "landcolor": "#E5ECF6",
           "showlakes": true,
           "showland": true,
           "subunitcolor": "white"
          },
          "hoverlabel": {
           "align": "left"
          },
          "hovermode": "closest",
          "mapbox": {
           "style": "light"
          },
          "paper_bgcolor": "white",
          "plot_bgcolor": "#E5ECF6",
          "polar": {
           "angularaxis": {
            "gridcolor": "white",
            "linecolor": "white",
            "ticks": ""
           },
           "bgcolor": "#E5ECF6",
           "radialaxis": {
            "gridcolor": "white",
            "linecolor": "white",
            "ticks": ""
           }
          },
          "scene": {
           "xaxis": {
            "backgroundcolor": "#E5ECF6",
            "gridcolor": "white",
            "gridwidth": 2,
            "linecolor": "white",
            "showbackground": true,
            "ticks": "",
            "zerolinecolor": "white"
           },
           "yaxis": {
            "backgroundcolor": "#E5ECF6",
            "gridcolor": "white",
            "gridwidth": 2,
            "linecolor": "white",
            "showbackground": true,
            "ticks": "",
            "zerolinecolor": "white"
           },
           "zaxis": {
            "backgroundcolor": "#E5ECF6",
            "gridcolor": "white",
            "gridwidth": 2,
            "linecolor": "white",
            "showbackground": true,
            "ticks": "",
            "zerolinecolor": "white"
           }
          },
          "shapedefaults": {
           "line": {
            "color": "#2a3f5f"
           }
          },
          "ternary": {
           "aaxis": {
            "gridcolor": "white",
            "linecolor": "white",
            "ticks": ""
           },
           "baxis": {
            "gridcolor": "white",
            "linecolor": "white",
            "ticks": ""
           },
           "bgcolor": "#E5ECF6",
           "caxis": {
            "gridcolor": "white",
            "linecolor": "white",
            "ticks": ""
           }
          },
          "title": {
           "x": 0.05
          },
          "xaxis": {
           "automargin": true,
           "gridcolor": "white",
           "linecolor": "white",
           "ticks": "",
           "title": {
            "standoff": 15
           },
           "zerolinecolor": "white",
           "zerolinewidth": 2
          },
          "yaxis": {
           "automargin": true,
           "gridcolor": "white",
           "linecolor": "white",
           "ticks": "",
           "title": {
            "standoff": 15
           },
           "zerolinecolor": "white",
           "zerolinewidth": 2
          }
         }
        },
        "title": {
         "text": "Number of Trips with Different Distances by County in Illinois (2022)"
        },
        "xaxis": {
         "anchor": "y",
         "domain": [
          0,
          1
         ],
         "title": {
          "text": "County"
         }
        },
        "yaxis": {
         "anchor": "x",
         "domain": [
          0,
          1
         ],
         "title": {
          "text": "Number of Trips"
         }
        }
       }
      },
      "text/html": [
       "<div>                            <div id=\"c70b06c6-560b-41ab-8305-8a415a6b4251\" class=\"plotly-graph-div\" style=\"height:525px; width:100%;\"></div>            <script type=\"text/javascript\">                require([\"plotly\"], function(Plotly) {                    window.PLOTLYENV=window.PLOTLYENV || {};                                    if (document.getElementById(\"c70b06c6-560b-41ab-8305-8a415a6b4251\")) {                    Plotly.newPlot(                        \"c70b06c6-560b-41ab-8305-8a415a6b4251\",                        [{\"alignmentgroup\":\"True\",\"hovertemplate\":\"Trip Distance=Number of Trips <1<br>County=%{x}<br>Number of Trips=%{y}<extra></extra>\",\"legendgroup\":\"Number of Trips <1\",\"marker\":{\"color\":\"#636efa\",\"pattern\":{\"shape\":\"\"}},\"name\":\"Number of Trips <1\",\"offsetgroup\":\"Number of Trips <1\",\"orientation\":\"v\",\"showlegend\":true,\"textposition\":\"auto\",\"x\":[\"Adams County\",\"Alexander County\",\"Bond County\",\"Boone County\",\"Brown County\",\"Bureau County\",\"Calhoun County\",\"Carroll County\",\"Cass County\",\"Champaign County\",\"Christian County\",\"Clark County\",\"Clay County\",\"Clinton County\",\"Coles County\",\"Cook County\",\"Crawford County\",\"Cumberland County\",\"De Witt County\",\"DeKalb County\",\"Douglas County\",\"DuPage County\",\"Edgar County\",\"Edwards County\",\"Effingham County\",\"Fayette County\",\"Ford County\",\"Franklin County\",\"Fulton County\",\"Gallatin County\",\"Greene County\",\"Grundy County\",\"Hamilton County\",\"Hancock County\",\"Hardin County\",\"Henderson County\",\"Henry County\",\"Iroquois County\",\"Jackson County\",\"Jasper County\",\"Jefferson County\",\"Jersey County\",\"Jo Daviess County\",\"Johnson County\",\"Kane County\",\"Kankakee County\",\"Kendall County\",\"Knox County\",\"LaSalle County\",\"Lake County\",\"Lawrence County\",\"Lee County\",\"Livingston County\",\"Logan County\",\"Macon County\",\"Macoupin County\",\"Madison County\",\"Marion County\",\"Marshall County\",\"Mason County\",\"Massac County\",\"McDonough County\",\"McHenry County\",\"McLean County\",\"Menard County\",\"Mercer County\",\"Monroe County\",\"Montgomery County\",\"Morgan County\",\"Moultrie County\",\"Ogle County\",\"Peoria County\",\"Perry County\",\"Piatt County\",\"Pike County\",\"Pope County\",\"Pulaski County\",\"Putnam County\",\"Randolph County\",\"Richland County\",\"Rock Island County\",\"Saline County\",\"Sangamon County\",\"Schuyler County\",\"Scott County\",\"Shelby County\",\"St. Clair County\",\"Stark County\",\"Stephenson County\",\"Tazewell County\",\"Union County\",\"Vermilion County\",\"Wabash County\",\"Warren County\",\"Washington County\",\"Wayne County\",\"White County\",\"Whiteside County\",\"Will County\",\"Williamson County\",\"Winnebago County\",\"Woodford County\"],\"xaxis\":\"x\",\"y\":[35778177.0,2759737.0,5016426.0,23536142.0,3996923.0,10469391.0,844470.0,6380468.0,5306737.0,94737973.0,18597196.0,8721506.0,4591874.0,14577631.0,28093133.0,2334435086.0,8771696.0,3969111.0,6693144.0,44657141.0,8597186.0,424758151.0,7507867.0,1599608.0,13651125.0,6246199.0,5498898.0,14367219.0,14547906.0,2108475.0,4913462.0,19720585.0,2505270.0,8173142.0,1438509.0,2204426.0,20731011.0,9384752.0,25053502.0,4316915.0,16322404.0,8630210.0,7299091.0,3250247.0,233179837.0,50444937.0,47397613.0,26113319.0,42815928.0,312051084.0,5510627.0,13624961.0,15840747.0,12343488.0,58709318.0,20309445.0,120411532.0,14760246.0,4138789.0,6404591.0,7118238.0,15627967.0,132961879.0,65370148.0,4893355.0,5237229.0,8370420.0,12938659.0,18912319.0,6292229.0,19391699.0,89429507.0,9346951.0,8512650.0,7617503.0,1507163.0,1329632.0,1560634.0,11513370.0,6774359.0,74170203.0,11075486.0,95711876.0,3125952.0,1212913.0,9497321.0,114501128.0,2845243.0,23006540.0,64221432.0,6251180.0,37176249.0,4295563.0,6912039.0,5383961.0,6191706.0,5119866.0,26086469.0,310021287.0,31047607.0,144597368.0,11448364.0],\"yaxis\":\"y\",\"type\":\"bar\"},{\"alignmentgroup\":\"True\",\"hovertemplate\":\"Trip Distance=Number of Trips 1-3<br>County=%{x}<br>Number of Trips=%{y}<extra></extra>\",\"legendgroup\":\"Number of Trips 1-3\",\"marker\":{\"color\":\"#EF553B\",\"pattern\":{\"shape\":\"\"}},\"name\":\"Number of Trips 1-3\",\"offsetgroup\":\"Number of Trips 1-3\",\"orientation\":\"v\",\"showlegend\":true,\"textposition\":\"auto\",\"x\":[\"Adams County\",\"Alexander County\",\"Bond County\",\"Boone County\",\"Brown County\",\"Bureau County\",\"Calhoun County\",\"Carroll County\",\"Cass County\",\"Champaign County\",\"Christian County\",\"Clark County\",\"Clay County\",\"Clinton County\",\"Coles County\",\"Cook County\",\"Crawford County\",\"Cumberland County\",\"De Witt County\",\"DeKalb County\",\"Douglas County\",\"DuPage County\",\"Edgar County\",\"Edwards County\",\"Effingham County\",\"Fayette County\",\"Ford County\",\"Franklin County\",\"Fulton County\",\"Gallatin County\",\"Greene County\",\"Grundy County\",\"Hamilton County\",\"Hancock County\",\"Hardin County\",\"Henderson County\",\"Henry County\",\"Iroquois County\",\"Jackson County\",\"Jasper County\",\"Jefferson County\",\"Jersey County\",\"Jo Daviess County\",\"Johnson County\",\"Kane County\",\"Kankakee County\",\"Kendall County\",\"Knox County\",\"LaSalle County\",\"Lake County\",\"Lawrence County\",\"Lee County\",\"Livingston County\",\"Logan County\",\"Macon County\",\"Macoupin County\",\"Madison County\",\"Marion County\",\"Marshall County\",\"Mason County\",\"Massac County\",\"McDonough County\",\"McHenry County\",\"McLean County\",\"Menard County\",\"Mercer County\",\"Monroe County\",\"Montgomery County\",\"Morgan County\",\"Moultrie County\",\"Ogle County\",\"Peoria County\",\"Perry County\",\"Piatt County\",\"Pike County\",\"Pope County\",\"Pulaski County\",\"Putnam County\",\"Randolph County\",\"Richland County\",\"Rock Island County\",\"Saline County\",\"Sangamon County\",\"Schuyler County\",\"Scott County\",\"Shelby County\",\"St. Clair County\",\"Stark County\",\"Stephenson County\",\"Tazewell County\",\"Union County\",\"Vermilion County\",\"Wabash County\",\"Warren County\",\"Washington County\",\"Wayne County\",\"White County\",\"Whiteside County\",\"Will County\",\"Williamson County\",\"Winnebago County\",\"Woodford County\"],\"xaxis\":\"x\",\"y\":[34966268.0,2327290.0,6118162.0,17506724.0,2119061.0,9742607.0,1440088.0,4741685.0,2880759.0,88650416.0,13400354.0,6854382.0,5330054.0,13273161.0,22407782.0,1734575110.0,7510410.0,3255530.0,5148639.0,37025423.0,7983803.0,322612996.0,7368992.0,2022951.0,12548799.0,9267916.0,5021244.0,15235480.0,12622187.0,1628627.0,4055776.0,16523077.0,3283562.0,6685960.0,2424789.0,2442171.0,17034749.0,8255901.0,24874272.0,2787649.0,19213474.0,7561498.0,7924229.0,4487971.0,197138612.0,40335141.0,43272951.0,25374798.0,41199690.0,244060199.0,5742152.0,11682099.0,14310230.0,12919507.0,47970504.0,15784808.0,99487482.0,14951196.0,2733131.0,4266081.0,4449240.0,12588413.0,107574005.0,66741420.0,4070242.0,7048462.0,12203526.0,12581477.0,15973438.0,4271725.0,15750351.0,73250364.0,7563082.0,5373876.0,6858401.0,1106328.0,2464160.0,1494503.0,13239692.0,6980495.0,55405713.0,7869666.0,74061621.0,3159791.0,1101070.0,9206863.0,97209967.0,1512957.0,23171343.0,58033909.0,6551267.0,34544864.0,4906092.0,7211251.0,4464892.0,6914590.0,4896565.0,24781214.0,241529574.0,26494852.0,104775458.0,16124516.0],\"yaxis\":\"y\",\"type\":\"bar\"},{\"alignmentgroup\":\"True\",\"hovertemplate\":\"Trip Distance=Number of Trips 3-5<br>County=%{x}<br>Number of Trips=%{y}<extra></extra>\",\"legendgroup\":\"Number of Trips 3-5\",\"marker\":{\"color\":\"#00cc96\",\"pattern\":{\"shape\":\"\"}},\"name\":\"Number of Trips 3-5\",\"offsetgroup\":\"Number of Trips 3-5\",\"orientation\":\"v\",\"showlegend\":true,\"textposition\":\"auto\",\"x\":[\"Adams County\",\"Alexander County\",\"Bond County\",\"Boone County\",\"Brown County\",\"Bureau County\",\"Calhoun County\",\"Carroll County\",\"Cass County\",\"Champaign County\",\"Christian County\",\"Clark County\",\"Clay County\",\"Clinton County\",\"Coles County\",\"Cook County\",\"Crawford County\",\"Cumberland County\",\"De Witt County\",\"DeKalb County\",\"Douglas County\",\"DuPage County\",\"Edgar County\",\"Edwards County\",\"Effingham County\",\"Fayette County\",\"Ford County\",\"Franklin County\",\"Fulton County\",\"Gallatin County\",\"Greene County\",\"Grundy County\",\"Hamilton County\",\"Hancock County\",\"Hardin County\",\"Henderson County\",\"Henry County\",\"Iroquois County\",\"Jackson County\",\"Jasper County\",\"Jefferson County\",\"Jersey County\",\"Jo Daviess County\",\"Johnson County\",\"Kane County\",\"Kankakee County\",\"Kendall County\",\"Knox County\",\"LaSalle County\",\"Lake County\",\"Lawrence County\",\"Lee County\",\"Livingston County\",\"Logan County\",\"Macon County\",\"Macoupin County\",\"Madison County\",\"Marion County\",\"Marshall County\",\"Mason County\",\"Massac County\",\"McDonough County\",\"McHenry County\",\"McLean County\",\"Menard County\",\"Mercer County\",\"Monroe County\",\"Montgomery County\",\"Morgan County\",\"Moultrie County\",\"Ogle County\",\"Peoria County\",\"Perry County\",\"Piatt County\",\"Pike County\",\"Pope County\",\"Pulaski County\",\"Putnam County\",\"Randolph County\",\"Richland County\",\"Rock Island County\",\"Saline County\",\"Sangamon County\",\"Schuyler County\",\"Scott County\",\"Shelby County\",\"St. Clair County\",\"Stark County\",\"Stephenson County\",\"Tazewell County\",\"Union County\",\"Vermilion County\",\"Wabash County\",\"Warren County\",\"Washington County\",\"Wayne County\",\"White County\",\"Whiteside County\",\"Will County\",\"Williamson County\",\"Winnebago County\",\"Woodford County\"],\"xaxis\":\"x\",\"y\":[13910030.0,1126224.0,2384534.0,7487326.0,420030.0,5622778.0,818504.0,2478608.0,1701981.0,43867491.0,4107887.0,2657449.0,2021923.0,5778021.0,9556981.0,886343165.0,3397837.0,2778448.0,1580976.0,19379379.0,2748183.0,165688677.0,2151561.0,823581.0,6681399.0,3662043.0,1641297.0,5603923.0,4852752.0,796780.0,2656281.0,7292690.0,1058031.0,3666636.0,1532992.0,1453539.0,7446715.0,4654539.0,11341719.0,1554056.0,8210073.0,3214065.0,3136138.0,2136880.0,107734413.0,21291564.0,26050869.0,8469307.0,16968808.0,119971339.0,2095947.0,4752359.0,3300883.0,3448608.0,31017988.0,7414845.0,44479137.0,6508478.0,1239549.0,2214054.0,2660189.0,3414776.0,55214575.0,44808015.0,1293963.0,1860001.0,6916438.0,3996415.0,4937477.0,2590639.0,7581904.0,41333146.0,4348327.0,2104529.0,1984785.0,709489.0,1447338.0,972376.0,5934494.0,1830224.0,29581328.0,3675933.0,49070385.0,709907.0,1062759.0,3555579.0,50878589.0,573416.0,7846069.0,27127728.0,3065556.0,16038014.0,1455308.0,1801775.0,1790356.0,2536842.0,2446005.0,10956143.0,125970327.0,11537200.0,63409981.0,7584639.0],\"yaxis\":\"y\",\"type\":\"bar\"},{\"alignmentgroup\":\"True\",\"hovertemplate\":\"Trip Distance=Number of Trips 5-10<br>County=%{x}<br>Number of Trips=%{y}<extra></extra>\",\"legendgroup\":\"Number of Trips 5-10\",\"marker\":{\"color\":\"#ab63fa\",\"pattern\":{\"shape\":\"\"}},\"name\":\"Number of Trips 5-10\",\"offsetgroup\":\"Number of Trips 5-10\",\"orientation\":\"v\",\"showlegend\":true,\"textposition\":\"auto\",\"x\":[\"Adams County\",\"Alexander County\",\"Bond County\",\"Boone County\",\"Brown County\",\"Bureau County\",\"Calhoun County\",\"Carroll County\",\"Cass County\",\"Champaign County\",\"Christian County\",\"Clark County\",\"Clay County\",\"Clinton County\",\"Coles County\",\"Cook County\",\"Crawford County\",\"Cumberland County\",\"De Witt County\",\"DeKalb County\",\"Douglas County\",\"DuPage County\",\"Edgar County\",\"Edwards County\",\"Effingham County\",\"Fayette County\",\"Ford County\",\"Franklin County\",\"Fulton County\",\"Gallatin County\",\"Greene County\",\"Grundy County\",\"Hamilton County\",\"Hancock County\",\"Hardin County\",\"Henderson County\",\"Henry County\",\"Iroquois County\",\"Jackson County\",\"Jasper County\",\"Jefferson County\",\"Jersey County\",\"Jo Daviess County\",\"Johnson County\",\"Kane County\",\"Kankakee County\",\"Kendall County\",\"Knox County\",\"LaSalle County\",\"Lake County\",\"Lawrence County\",\"Lee County\",\"Livingston County\",\"Logan County\",\"Macon County\",\"Macoupin County\",\"Madison County\",\"Marion County\",\"Marshall County\",\"Mason County\",\"Massac County\",\"McDonough County\",\"McHenry County\",\"McLean County\",\"Menard County\",\"Mercer County\",\"Monroe County\",\"Montgomery County\",\"Morgan County\",\"Moultrie County\",\"Ogle County\",\"Peoria County\",\"Perry County\",\"Piatt County\",\"Pike County\",\"Pope County\",\"Pulaski County\",\"Putnam County\",\"Randolph County\",\"Richland County\",\"Rock Island County\",\"Saline County\",\"Sangamon County\",\"Schuyler County\",\"Scott County\",\"Shelby County\",\"St. Clair County\",\"Stark County\",\"Stephenson County\",\"Tazewell County\",\"Union County\",\"Vermilion County\",\"Wabash County\",\"Warren County\",\"Washington County\",\"Wayne County\",\"White County\",\"Whiteside County\",\"Will County\",\"Williamson County\",\"Winnebago County\",\"Woodford County\"],\"xaxis\":\"x\",\"y\":[10621386.0,2269509.0,3287734.0,12404201.0,1402994.0,9114323.0,1048995.0,3436629.0,2741434.0,48391460.0,4601723.0,2925948.0,4113523.0,9437873.0,9323681.0,1077332780.0,5189628.0,3284955.0,2992127.0,23578732.0,4028581.0,204689767.0,3348984.0,1416292.0,8907921.0,5732993.0,1873569.0,9662578.0,7048466.0,2332645.0,2603821.0,10175288.0,2914069.0,5207260.0,1740994.0,2241511.0,10426682.0,7010514.0,13191973.0,2600640.0,9232383.0,4580354.0,6608299.0,3377314.0,125778779.0,28627761.0,37310482.0,8404533.0,19337063.0,162800897.0,3877422.0,7068629.0,6560285.0,5721329.0,28350978.0,10500313.0,63868678.0,7107786.0,2929015.0,2554752.0,5162871.0,4982127.0,67489215.0,38181687.0,2866023.0,3082532.0,9193610.0,4974490.0,4390691.0,3539989.0,9764834.0,49401277.0,4986809.0,4379599.0,3157280.0,1558575.0,1731842.0,1397593.0,6295659.0,2337891.0,45117763.0,5471218.0,59090546.0,1328974.0,2371891.0,6343625.0,76555762.0,1591966.0,7136098.0,34910174.0,4011837.0,18802256.0,1955625.0,2652611.0,4274029.0,4134316.0,3374630.0,10543205.0,166157115.0,20676441.0,85978612.0,10625482.0],\"yaxis\":\"y\",\"type\":\"bar\"},{\"alignmentgroup\":\"True\",\"hovertemplate\":\"Trip Distance=Number of Trips 10-25<br>County=%{x}<br>Number of Trips=%{y}<extra></extra>\",\"legendgroup\":\"Number of Trips 10-25\",\"marker\":{\"color\":\"#FFA15A\",\"pattern\":{\"shape\":\"\"}},\"name\":\"Number of Trips 10-25\",\"offsetgroup\":\"Number of Trips 10-25\",\"orientation\":\"v\",\"showlegend\":true,\"textposition\":\"auto\",\"x\":[\"Adams County\",\"Alexander County\",\"Bond County\",\"Boone County\",\"Brown County\",\"Bureau County\",\"Calhoun County\",\"Carroll County\",\"Cass County\",\"Champaign County\",\"Christian County\",\"Clark County\",\"Clay County\",\"Clinton County\",\"Coles County\",\"Cook County\",\"Crawford County\",\"Cumberland County\",\"De Witt County\",\"DeKalb County\",\"Douglas County\",\"DuPage County\",\"Edgar County\",\"Edwards County\",\"Effingham County\",\"Fayette County\",\"Ford County\",\"Franklin County\",\"Fulton County\",\"Gallatin County\",\"Greene County\",\"Grundy County\",\"Hamilton County\",\"Hancock County\",\"Hardin County\",\"Henderson County\",\"Henry County\",\"Iroquois County\",\"Jackson County\",\"Jasper County\",\"Jefferson County\",\"Jersey County\",\"Jo Daviess County\",\"Johnson County\",\"Kane County\",\"Kankakee County\",\"Kendall County\",\"Knox County\",\"LaSalle County\",\"Lake County\",\"Lawrence County\",\"Lee County\",\"Livingston County\",\"Logan County\",\"Macon County\",\"Macoupin County\",\"Madison County\",\"Marion County\",\"Marshall County\",\"Mason County\",\"Massac County\",\"McDonough County\",\"McHenry County\",\"McLean County\",\"Menard County\",\"Mercer County\",\"Monroe County\",\"Montgomery County\",\"Morgan County\",\"Moultrie County\",\"Ogle County\",\"Peoria County\",\"Perry County\",\"Piatt County\",\"Pike County\",\"Pope County\",\"Pulaski County\",\"Putnam County\",\"Randolph County\",\"Richland County\",\"Rock Island County\",\"Saline County\",\"Sangamon County\",\"Schuyler County\",\"Scott County\",\"Shelby County\",\"St. Clair County\",\"Stark County\",\"Stephenson County\",\"Tazewell County\",\"Union County\",\"Vermilion County\",\"Wabash County\",\"Warren County\",\"Washington County\",\"Wayne County\",\"White County\",\"Whiteside County\",\"Will County\",\"Williamson County\",\"Winnebago County\",\"Woodford County\"],\"xaxis\":\"x\",\"y\":[10565192.0,1986172.0,5113228.0,18854688.0,1277951.0,10496738.0,1601687.0,5054094.0,3902661.0,43128025.0,8519673.0,4974077.0,2648340.0,12038696.0,14082315.0,1010623509.0,4091830.0,4559929.0,4514465.0,24279387.0,6847328.0,192847215.0,4841282.0,2294859.0,8543000.0,7160501.0,3844763.0,13310059.0,8566192.0,1930089.0,4072758.0,18299363.0,2942214.0,4763911.0,1102611.0,3056017.0,14503904.0,9495166.0,14680320.0,3206957.0,10976327.0,7149111.0,5357274.0,4262477.0,112407919.0,21411232.0,35468516.0,8636350.0,30533018.0,165044675.0,4534220.0,11403800.0,9698989.0,5882504.0,13516751.0,14321299.0,77595283.0,10664159.0,4108719.0,4737560.0,4831090.0,7694635.0,80174586.0,29358897.0,4809813.0,6097148.0,13245763.0,7516008.0,5641043.0,5416221.0,17904113.0,37489718.0,6834296.0,6243480.0,4817491.0,1926920.0,1613681.0,1971469.0,11128029.0,2714620.0,26013981.0,4704212.0,31755511.0,1756499.0,2001464.0,7930990.0,68771921.0,1751181.0,9166120.0,37444852.0,4721060.0,14181629.0,3505304.0,6949250.0,4889560.0,6420646.0,3943604.0,14571397.0,162647915.0,16392737.0,54550376.0,13705593.0],\"yaxis\":\"y\",\"type\":\"bar\"},{\"alignmentgroup\":\"True\",\"hovertemplate\":\"Trip Distance=Number of Trips 25-50<br>County=%{x}<br>Number of Trips=%{y}<extra></extra>\",\"legendgroup\":\"Number of Trips 25-50\",\"marker\":{\"color\":\"#19d3f3\",\"pattern\":{\"shape\":\"\"}},\"name\":\"Number of Trips 25-50\",\"offsetgroup\":\"Number of Trips 25-50\",\"orientation\":\"v\",\"showlegend\":true,\"textposition\":\"auto\",\"x\":[\"Adams County\",\"Alexander County\",\"Bond County\",\"Boone County\",\"Brown County\",\"Bureau County\",\"Calhoun County\",\"Carroll County\",\"Cass County\",\"Champaign County\",\"Christian County\",\"Clark County\",\"Clay County\",\"Clinton County\",\"Coles County\",\"Cook County\",\"Crawford County\",\"Cumberland County\",\"De Witt County\",\"DeKalb County\",\"Douglas County\",\"DuPage County\",\"Edgar County\",\"Edwards County\",\"Effingham County\",\"Fayette County\",\"Ford County\",\"Franklin County\",\"Fulton County\",\"Gallatin County\",\"Greene County\",\"Grundy County\",\"Hamilton County\",\"Hancock County\",\"Hardin County\",\"Henderson County\",\"Henry County\",\"Iroquois County\",\"Jackson County\",\"Jasper County\",\"Jefferson County\",\"Jersey County\",\"Jo Daviess County\",\"Johnson County\",\"Kane County\",\"Kankakee County\",\"Kendall County\",\"Knox County\",\"LaSalle County\",\"Lake County\",\"Lawrence County\",\"Lee County\",\"Livingston County\",\"Logan County\",\"Macon County\",\"Macoupin County\",\"Madison County\",\"Marion County\",\"Marshall County\",\"Mason County\",\"Massac County\",\"McDonough County\",\"McHenry County\",\"McLean County\",\"Menard County\",\"Mercer County\",\"Monroe County\",\"Montgomery County\",\"Morgan County\",\"Moultrie County\",\"Ogle County\",\"Peoria County\",\"Perry County\",\"Piatt County\",\"Pike County\",\"Pope County\",\"Pulaski County\",\"Putnam County\",\"Randolph County\",\"Richland County\",\"Rock Island County\",\"Saline County\",\"Sangamon County\",\"Schuyler County\",\"Scott County\",\"Shelby County\",\"St. Clair County\",\"Stark County\",\"Stephenson County\",\"Tazewell County\",\"Union County\",\"Vermilion County\",\"Wabash County\",\"Warren County\",\"Washington County\",\"Wayne County\",\"White County\",\"Whiteside County\",\"Will County\",\"Williamson County\",\"Winnebago County\",\"Woodford County\"],\"xaxis\":\"x\",\"y\":[3569727.0,675936.0,2766466.0,5518046.0,917895.0,4407092.0,843113.0,2230327.0,2376268.0,9576348.0,4803879.0,2044336.0,2668496.0,6796309.0,4706176.0,288400126.0,2096251.0,1355083.0,2974426.0,18700043.0,4174588.0,58910684.0,2210285.0,875118.0,3685713.0,2919676.0,2544709.0,4269185.0,6913367.0,640787.0,2192663.0,7162769.0,1779574.0,2419346.0,847238.0,1060640.0,6666467.0,4537281.0,4843401.0,1918416.0,4344115.0,3632267.0,2457664.0,2508065.0,46420988.0,11586900.0,14368818.0,2988741.0,12138862.0,52961829.0,1689376.0,4029241.0,5074067.0,5374801.0,5044969.0,6962969.0,25356371.0,3604474.0,2515005.0,2549244.0,1057668.0,2149363.0,34905264.0,12303806.0,1549492.0,3035753.0,4565289.0,2771668.0,3831342.0,2022565.0,8104492.0,8607784.0,3705432.0,2258093.0,1988314.0,879689.0,1300936.0,563718.0,4800636.0,2412258.0,4873835.0,4416896.0,8405146.0,955997.0,312372.0,3719902.0,21112671.0,954187.0,4554850.0,8669013.0,3120624.0,7712954.0,1928095.0,1892448.0,2838459.0,2346483.0,2189179.0,4707717.0,70152773.0,5722380.0,15346084.0,4575478.0],\"yaxis\":\"y\",\"type\":\"bar\"},{\"alignmentgroup\":\"True\",\"hovertemplate\":\"Trip Distance=Number of Trips 50-100<br>County=%{x}<br>Number of Trips=%{y}<extra></extra>\",\"legendgroup\":\"Number of Trips 50-100\",\"marker\":{\"color\":\"#FF6692\",\"pattern\":{\"shape\":\"\"}},\"name\":\"Number of Trips 50-100\",\"offsetgroup\":\"Number of Trips 50-100\",\"orientation\":\"v\",\"showlegend\":true,\"textposition\":\"auto\",\"x\":[\"Adams County\",\"Alexander County\",\"Bond County\",\"Boone County\",\"Brown County\",\"Bureau County\",\"Calhoun County\",\"Carroll County\",\"Cass County\",\"Champaign County\",\"Christian County\",\"Clark County\",\"Clay County\",\"Clinton County\",\"Coles County\",\"Cook County\",\"Crawford County\",\"Cumberland County\",\"De Witt County\",\"DeKalb County\",\"Douglas County\",\"DuPage County\",\"Edgar County\",\"Edwards County\",\"Effingham County\",\"Fayette County\",\"Ford County\",\"Franklin County\",\"Fulton County\",\"Gallatin County\",\"Greene County\",\"Grundy County\",\"Hamilton County\",\"Hancock County\",\"Hardin County\",\"Henderson County\",\"Henry County\",\"Iroquois County\",\"Jackson County\",\"Jasper County\",\"Jefferson County\",\"Jersey County\",\"Jo Daviess County\",\"Johnson County\",\"Kane County\",\"Kankakee County\",\"Kendall County\",\"Knox County\",\"LaSalle County\",\"Lake County\",\"Lawrence County\",\"Lee County\",\"Livingston County\",\"Logan County\",\"Macon County\",\"Macoupin County\",\"Madison County\",\"Marion County\",\"Marshall County\",\"Mason County\",\"Massac County\",\"McDonough County\",\"McHenry County\",\"McLean County\",\"Menard County\",\"Mercer County\",\"Monroe County\",\"Montgomery County\",\"Morgan County\",\"Moultrie County\",\"Ogle County\",\"Peoria County\",\"Perry County\",\"Piatt County\",\"Pike County\",\"Pope County\",\"Pulaski County\",\"Putnam County\",\"Randolph County\",\"Richland County\",\"Rock Island County\",\"Saline County\",\"Sangamon County\",\"Schuyler County\",\"Scott County\",\"Shelby County\",\"St. Clair County\",\"Stark County\",\"Stephenson County\",\"Tazewell County\",\"Union County\",\"Vermilion County\",\"Wabash County\",\"Warren County\",\"Washington County\",\"Wayne County\",\"White County\",\"Whiteside County\",\"Will County\",\"Williamson County\",\"Winnebago County\",\"Woodford County\"],\"xaxis\":\"x\",\"y\":[1224165.0,155089.0,1272734.0,3382895.0,256568.0,1954525.0,438385.0,609085.0,522753.0,4953109.0,1445497.0,465007.0,642496.0,1577770.0,2846380.0,60530264.0,447334.0,495147.0,685963.0,4863586.0,769530.0,10962040.0,533829.0,478545.0,1616644.0,1486362.0,538690.0,1158332.0,1272809.0,237711.0,973242.0,1730790.0,533241.0,833711.0,175695.0,364101.0,2039461.0,1304466.0,1531178.0,477661.0,1489072.0,893308.0,972743.0,437083.0,8090910.0,3891438.0,3043496.0,2095013.0,6117403.0,11751429.0,620086.0,2217363.0,1896384.0,933828.0,3154006.0,2018138.0,4363169.0,1543004.0,403426.0,768576.0,798695.0,1103521.0,7890387.0,6765153.0,488625.0,433485.0,541123.0,2161586.0,1307517.0,661040.0,2747440.0,3705345.0,1013273.0,534571.0,731977.0,157786.0,175640.0,470103.0,2072961.0,685617.0,2801589.0,1578430.0,5738121.0,363930.0,293117.0,1077378.0,3039580.0,236511.0,1420870.0,2655891.0,676230.0,1838626.0,467317.0,779440.0,915685.0,1094238.0,1198960.0,2147916.0,10935033.0,2647549.0,9578489.0,1013429.0],\"yaxis\":\"y\",\"type\":\"bar\"},{\"alignmentgroup\":\"True\",\"hovertemplate\":\"Trip Distance=Number of Trips 100-250<br>County=%{x}<br>Number of Trips=%{y}<extra></extra>\",\"legendgroup\":\"Number of Trips 100-250\",\"marker\":{\"color\":\"#B6E880\",\"pattern\":{\"shape\":\"\"}},\"name\":\"Number of Trips 100-250\",\"offsetgroup\":\"Number of Trips 100-250\",\"orientation\":\"v\",\"showlegend\":true,\"textposition\":\"auto\",\"x\":[\"Adams County\",\"Alexander County\",\"Bond County\",\"Boone County\",\"Brown County\",\"Bureau County\",\"Calhoun County\",\"Carroll County\",\"Cass County\",\"Champaign County\",\"Christian County\",\"Clark County\",\"Clay County\",\"Clinton County\",\"Coles County\",\"Cook County\",\"Crawford County\",\"Cumberland County\",\"De Witt County\",\"DeKalb County\",\"Douglas County\",\"DuPage County\",\"Edgar County\",\"Edwards County\",\"Effingham County\",\"Fayette County\",\"Ford County\",\"Franklin County\",\"Fulton County\",\"Gallatin County\",\"Greene County\",\"Grundy County\",\"Hamilton County\",\"Hancock County\",\"Hardin County\",\"Henderson County\",\"Henry County\",\"Iroquois County\",\"Jackson County\",\"Jasper County\",\"Jefferson County\",\"Jersey County\",\"Jo Daviess County\",\"Johnson County\",\"Kane County\",\"Kankakee County\",\"Kendall County\",\"Knox County\",\"LaSalle County\",\"Lake County\",\"Lawrence County\",\"Lee County\",\"Livingston County\",\"Logan County\",\"Macon County\",\"Macoupin County\",\"Madison County\",\"Marion County\",\"Marshall County\",\"Mason County\",\"Massac County\",\"McDonough County\",\"McHenry County\",\"McLean County\",\"Menard County\",\"Mercer County\",\"Monroe County\",\"Montgomery County\",\"Morgan County\",\"Moultrie County\",\"Ogle County\",\"Peoria County\",\"Perry County\",\"Piatt County\",\"Pike County\",\"Pope County\",\"Pulaski County\",\"Putnam County\",\"Randolph County\",\"Richland County\",\"Rock Island County\",\"Saline County\",\"Sangamon County\",\"Schuyler County\",\"Scott County\",\"Shelby County\",\"St. Clair County\",\"Stark County\",\"Stephenson County\",\"Tazewell County\",\"Union County\",\"Vermilion County\",\"Wabash County\",\"Warren County\",\"Washington County\",\"Wayne County\",\"White County\",\"Whiteside County\",\"Will County\",\"Williamson County\",\"Winnebago County\",\"Woodford County\"],\"xaxis\":\"x\",\"y\":[1147593.0,159009.0,300839.0,479685.0,211369.0,527011.0,92029.0,293447.0,169476.0,2903887.0,289036.0,271358.0,194222.0,549228.0,644837.0,43970654.0,305548.0,271385.0,283471.0,694077.0,256544.0,8049986.0,317576.0,123905.0,717199.0,632936.0,201800.0,629308.0,357467.0,51775.0,240730.0,588191.0,167550.0,339243.0,12825.0,145208.0,875697.0,428093.0,862663.0,411093.0,714030.0,474799.0,330140.0,204300.0,3909222.0,983508.0,1080372.0,525005.0,1012071.0,4366638.0,466252.0,522811.0,611017.0,399695.0,1090538.0,705721.0,2281838.0,474139.0,222197.0,225839.0,319346.0,405073.0,2265839.0,2440499.0,206212.0,188977.0,245712.0,401880.0,399448.0,173847.0,528124.0,1760924.0,175443.0,177648.0,188062.0,93154.0,87250.0,147210.0,454062.0,460701.0,2154819.0,366441.0,2163347.0,93985.0,57122.0,239486.0,2039183.0,77847.0,517486.0,1116736.0,240320.0,1325037.0,231992.0,249807.0,278720.0,218665.0,322688.0,750755.0,6355846.0,1098131.0,2304088.0,543573.0],\"yaxis\":\"y\",\"type\":\"bar\"},{\"alignmentgroup\":\"True\",\"hovertemplate\":\"Trip Distance=Number of Trips 250-500<br>County=%{x}<br>Number of Trips=%{y}<extra></extra>\",\"legendgroup\":\"Number of Trips 250-500\",\"marker\":{\"color\":\"#FF97FF\",\"pattern\":{\"shape\":\"\"}},\"name\":\"Number of Trips 250-500\",\"offsetgroup\":\"Number of Trips 250-500\",\"orientation\":\"v\",\"showlegend\":true,\"textposition\":\"auto\",\"x\":[\"Adams County\",\"Alexander County\",\"Bond County\",\"Boone County\",\"Brown County\",\"Bureau County\",\"Calhoun County\",\"Carroll County\",\"Cass County\",\"Champaign County\",\"Christian County\",\"Clark County\",\"Clay County\",\"Clinton County\",\"Coles County\",\"Cook County\",\"Crawford County\",\"Cumberland County\",\"De Witt County\",\"DeKalb County\",\"Douglas County\",\"DuPage County\",\"Edgar County\",\"Edwards County\",\"Effingham County\",\"Fayette County\",\"Ford County\",\"Franklin County\",\"Fulton County\",\"Gallatin County\",\"Greene County\",\"Grundy County\",\"Hamilton County\",\"Hancock County\",\"Hardin County\",\"Henderson County\",\"Henry County\",\"Iroquois County\",\"Jackson County\",\"Jasper County\",\"Jefferson County\",\"Jersey County\",\"Jo Daviess County\",\"Johnson County\",\"Kane County\",\"Kankakee County\",\"Kendall County\",\"Knox County\",\"LaSalle County\",\"Lake County\",\"Lawrence County\",\"Lee County\",\"Livingston County\",\"Logan County\",\"Macon County\",\"Macoupin County\",\"Madison County\",\"Marion County\",\"Marshall County\",\"Mason County\",\"Massac County\",\"McDonough County\",\"McHenry County\",\"McLean County\",\"Menard County\",\"Mercer County\",\"Monroe County\",\"Montgomery County\",\"Morgan County\",\"Moultrie County\",\"Ogle County\",\"Peoria County\",\"Perry County\",\"Piatt County\",\"Pike County\",\"Pope County\",\"Pulaski County\",\"Putnam County\",\"Randolph County\",\"Richland County\",\"Rock Island County\",\"Saline County\",\"Sangamon County\",\"Schuyler County\",\"Scott County\",\"Shelby County\",\"St. Clair County\",\"Stark County\",\"Stephenson County\",\"Tazewell County\",\"Union County\",\"Vermilion County\",\"Wabash County\",\"Warren County\",\"Washington County\",\"Wayne County\",\"White County\",\"Whiteside County\",\"Will County\",\"Williamson County\",\"Winnebago County\",\"Woodford County\"],\"xaxis\":\"x\",\"y\":[135632.0,24060.0,35113.0,107124.0,22778.0,65052.0,7559.0,44416.0,32742.0,369115.0,41088.0,44044.0,9525.0,137650.0,50070.0,16077709.0,20088.0,35739.0,36705.0,103825.0,50135.0,2938164.0,25617.0,6196.0,91115.0,82529.0,24144.0,50955.0,64112.0,4619.0,17036.0,188928.0,21664.0,91837.0,684.0,11607.0,121586.0,69107.0,98960.0,49707.0,88478.0,91990.0,22765.0,36366.0,929297.0,345031.0,277257.0,129579.0,274397.0,1556837.0,58720.0,107217.0,102149.0,60886.0,129219.0,104049.0,428672.0,106130.0,29377.0,51181.0,48059.0,31966.0,650141.0,501173.0,20788.0,28161.0,22356.0,85291.0,37032.0,17782.0,133452.0,260284.0,27485.0,42334.0,25542.0,5736.0,10130.0,18130.0,72418.0,41956.0,278849.0,27863.0,241965.0,5167.0,8119.0,44451.0,421467.0,2453.0,80742.0,326969.0,32811.0,201102.0,19589.0,31873.0,53412.0,38878.0,26790.0,94488.0,2170228.0,137984.0,572837.0,72288.0],\"yaxis\":\"y\",\"type\":\"bar\"},{\"alignmentgroup\":\"True\",\"hovertemplate\":\"Trip Distance=Number of Trips >=500<br>County=%{x}<br>Number of Trips=%{y}<extra></extra>\",\"legendgroup\":\"Number of Trips >=500\",\"marker\":{\"color\":\"#FECB52\",\"pattern\":{\"shape\":\"\"}},\"name\":\"Number of Trips >=500\",\"offsetgroup\":\"Number of Trips >=500\",\"orientation\":\"v\",\"showlegend\":true,\"textposition\":\"auto\",\"x\":[\"Adams County\",\"Alexander County\",\"Bond County\",\"Boone County\",\"Brown County\",\"Bureau County\",\"Calhoun County\",\"Carroll County\",\"Cass County\",\"Champaign County\",\"Christian County\",\"Clark County\",\"Clay County\",\"Clinton County\",\"Coles County\",\"Cook County\",\"Crawford County\",\"Cumberland County\",\"De Witt County\",\"DeKalb County\",\"Douglas County\",\"DuPage County\",\"Edgar County\",\"Edwards County\",\"Effingham County\",\"Fayette County\",\"Ford County\",\"Franklin County\",\"Fulton County\",\"Gallatin County\",\"Greene County\",\"Grundy County\",\"Hamilton County\",\"Hancock County\",\"Hardin County\",\"Henderson County\",\"Henry County\",\"Iroquois County\",\"Jackson County\",\"Jasper County\",\"Jefferson County\",\"Jersey County\",\"Jo Daviess County\",\"Johnson County\",\"Kane County\",\"Kankakee County\",\"Kendall County\",\"Knox County\",\"LaSalle County\",\"Lake County\",\"Lawrence County\",\"Lee County\",\"Livingston County\",\"Logan County\",\"Macon County\",\"Macoupin County\",\"Madison County\",\"Marion County\",\"Marshall County\",\"Mason County\",\"Massac County\",\"McDonough County\",\"McHenry County\",\"McLean County\",\"Menard County\",\"Mercer County\",\"Monroe County\",\"Montgomery County\",\"Morgan County\",\"Moultrie County\",\"Ogle County\",\"Peoria County\",\"Perry County\",\"Piatt County\",\"Pike County\",\"Pope County\",\"Pulaski County\",\"Putnam County\",\"Randolph County\",\"Richland County\",\"Rock Island County\",\"Saline County\",\"Sangamon County\",\"Schuyler County\",\"Scott County\",\"Shelby County\",\"St. Clair County\",\"Stark County\",\"Stephenson County\",\"Tazewell County\",\"Union County\",\"Vermilion County\",\"Wabash County\",\"Warren County\",\"Washington County\",\"Wayne County\",\"White County\",\"Whiteside County\",\"Will County\",\"Williamson County\",\"Winnebago County\",\"Woodford County\"],\"xaxis\":\"x\",\"y\":[20945.0,2821.0,8502.0,61819.0,5561.0,13967.0,3133.0,8108.0,6955.0,372831.0,41487.0,12603.0,3049.0,49600.0,15101.0,13072268.0,8805.0,18058.0,7098.0,102423.0,13971.0,2305421.0,11255.0,12957.0,38776.0,29656.0,9503.0,21504.0,19499.0,5425.0,11179.0,72526.0,6726.0,9625.0,0.0,3411.0,18165.0,35555.0,23649.0,4303.0,33449.0,22245.0,34872.0,8635.0,887111.0,176085.0,136693.0,25733.0,93851.0,1344196.0,4024.0,15505.0,49892.0,17379.0,84051.0,20906.0,271003.0,24834.0,7421.0,10371.0,25008.0,5557.0,507956.0,231294.0,10244.0,23058.0,45157.0,20187.0,18980.0,9891.0,44329.0,119059.0,6510.0,9475.0,3072.0,4489.0,0.0,4405.0,16834.0,8360.0,106432.0,6641.0,141337.0,3247.0,935.0,15629.0,327826.0,1761.0,21345.0,115182.0,7018.0,61875.0,3589.0,4840.0,23026.0,13808.0,4772.0,14355.0,1327528.0,28044.0,339390.0,51807.0],\"yaxis\":\"y\",\"type\":\"bar\"}],                        {\"template\":{\"data\":{\"histogram2dcontour\":[{\"type\":\"histogram2dcontour\",\"colorbar\":{\"outlinewidth\":0,\"ticks\":\"\"},\"colorscale\":[[0.0,\"#0d0887\"],[0.1111111111111111,\"#46039f\"],[0.2222222222222222,\"#7201a8\"],[0.3333333333333333,\"#9c179e\"],[0.4444444444444444,\"#bd3786\"],[0.5555555555555556,\"#d8576b\"],[0.6666666666666666,\"#ed7953\"],[0.7777777777777778,\"#fb9f3a\"],[0.8888888888888888,\"#fdca26\"],[1.0,\"#f0f921\"]]}],\"choropleth\":[{\"type\":\"choropleth\",\"colorbar\":{\"outlinewidth\":0,\"ticks\":\"\"}}],\"histogram2d\":[{\"type\":\"histogram2d\",\"colorbar\":{\"outlinewidth\":0,\"ticks\":\"\"},\"colorscale\":[[0.0,\"#0d0887\"],[0.1111111111111111,\"#46039f\"],[0.2222222222222222,\"#7201a8\"],[0.3333333333333333,\"#9c179e\"],[0.4444444444444444,\"#bd3786\"],[0.5555555555555556,\"#d8576b\"],[0.6666666666666666,\"#ed7953\"],[0.7777777777777778,\"#fb9f3a\"],[0.8888888888888888,\"#fdca26\"],[1.0,\"#f0f921\"]]}],\"heatmap\":[{\"type\":\"heatmap\",\"colorbar\":{\"outlinewidth\":0,\"ticks\":\"\"},\"colorscale\":[[0.0,\"#0d0887\"],[0.1111111111111111,\"#46039f\"],[0.2222222222222222,\"#7201a8\"],[0.3333333333333333,\"#9c179e\"],[0.4444444444444444,\"#bd3786\"],[0.5555555555555556,\"#d8576b\"],[0.6666666666666666,\"#ed7953\"],[0.7777777777777778,\"#fb9f3a\"],[0.8888888888888888,\"#fdca26\"],[1.0,\"#f0f921\"]]}],\"heatmapgl\":[{\"type\":\"heatmapgl\",\"colorbar\":{\"outlinewidth\":0,\"ticks\":\"\"},\"colorscale\":[[0.0,\"#0d0887\"],[0.1111111111111111,\"#46039f\"],[0.2222222222222222,\"#7201a8\"],[0.3333333333333333,\"#9c179e\"],[0.4444444444444444,\"#bd3786\"],[0.5555555555555556,\"#d8576b\"],[0.6666666666666666,\"#ed7953\"],[0.7777777777777778,\"#fb9f3a\"],[0.8888888888888888,\"#fdca26\"],[1.0,\"#f0f921\"]]}],\"contourcarpet\":[{\"type\":\"contourcarpet\",\"colorbar\":{\"outlinewidth\":0,\"ticks\":\"\"}}],\"contour\":[{\"type\":\"contour\",\"colorbar\":{\"outlinewidth\":0,\"ticks\":\"\"},\"colorscale\":[[0.0,\"#0d0887\"],[0.1111111111111111,\"#46039f\"],[0.2222222222222222,\"#7201a8\"],[0.3333333333333333,\"#9c179e\"],[0.4444444444444444,\"#bd3786\"],[0.5555555555555556,\"#d8576b\"],[0.6666666666666666,\"#ed7953\"],[0.7777777777777778,\"#fb9f3a\"],[0.8888888888888888,\"#fdca26\"],[1.0,\"#f0f921\"]]}],\"surface\":[{\"type\":\"surface\",\"colorbar\":{\"outlinewidth\":0,\"ticks\":\"\"},\"colorscale\":[[0.0,\"#0d0887\"],[0.1111111111111111,\"#46039f\"],[0.2222222222222222,\"#7201a8\"],[0.3333333333333333,\"#9c179e\"],[0.4444444444444444,\"#bd3786\"],[0.5555555555555556,\"#d8576b\"],[0.6666666666666666,\"#ed7953\"],[0.7777777777777778,\"#fb9f3a\"],[0.8888888888888888,\"#fdca26\"],[1.0,\"#f0f921\"]]}],\"mesh3d\":[{\"type\":\"mesh3d\",\"colorbar\":{\"outlinewidth\":0,\"ticks\":\"\"}}],\"scatter\":[{\"fillpattern\":{\"fillmode\":\"overlay\",\"size\":10,\"solidity\":0.2},\"type\":\"scatter\"}],\"parcoords\":[{\"type\":\"parcoords\",\"line\":{\"colorbar\":{\"outlinewidth\":0,\"ticks\":\"\"}}}],\"scatterpolargl\":[{\"type\":\"scatterpolargl\",\"marker\":{\"colorbar\":{\"outlinewidth\":0,\"ticks\":\"\"}}}],\"bar\":[{\"error_x\":{\"color\":\"#2a3f5f\"},\"error_y\":{\"color\":\"#2a3f5f\"},\"marker\":{\"line\":{\"color\":\"#E5ECF6\",\"width\":0.5},\"pattern\":{\"fillmode\":\"overlay\",\"size\":10,\"solidity\":0.2}},\"type\":\"bar\"}],\"scattergeo\":[{\"type\":\"scattergeo\",\"marker\":{\"colorbar\":{\"outlinewidth\":0,\"ticks\":\"\"}}}],\"scatterpolar\":[{\"type\":\"scatterpolar\",\"marker\":{\"colorbar\":{\"outlinewidth\":0,\"ticks\":\"\"}}}],\"histogram\":[{\"marker\":{\"pattern\":{\"fillmode\":\"overlay\",\"size\":10,\"solidity\":0.2}},\"type\":\"histogram\"}],\"scattergl\":[{\"type\":\"scattergl\",\"marker\":{\"colorbar\":{\"outlinewidth\":0,\"ticks\":\"\"}}}],\"scatter3d\":[{\"type\":\"scatter3d\",\"line\":{\"colorbar\":{\"outlinewidth\":0,\"ticks\":\"\"}},\"marker\":{\"colorbar\":{\"outlinewidth\":0,\"ticks\":\"\"}}}],\"scattermapbox\":[{\"type\":\"scattermapbox\",\"marker\":{\"colorbar\":{\"outlinewidth\":0,\"ticks\":\"\"}}}],\"scatterternary\":[{\"type\":\"scatterternary\",\"marker\":{\"colorbar\":{\"outlinewidth\":0,\"ticks\":\"\"}}}],\"scattercarpet\":[{\"type\":\"scattercarpet\",\"marker\":{\"colorbar\":{\"outlinewidth\":0,\"ticks\":\"\"}}}],\"carpet\":[{\"aaxis\":{\"endlinecolor\":\"#2a3f5f\",\"gridcolor\":\"white\",\"linecolor\":\"white\",\"minorgridcolor\":\"white\",\"startlinecolor\":\"#2a3f5f\"},\"baxis\":{\"endlinecolor\":\"#2a3f5f\",\"gridcolor\":\"white\",\"linecolor\":\"white\",\"minorgridcolor\":\"white\",\"startlinecolor\":\"#2a3f5f\"},\"type\":\"carpet\"}],\"table\":[{\"cells\":{\"fill\":{\"color\":\"#EBF0F8\"},\"line\":{\"color\":\"white\"}},\"header\":{\"fill\":{\"color\":\"#C8D4E3\"},\"line\":{\"color\":\"white\"}},\"type\":\"table\"}],\"barpolar\":[{\"marker\":{\"line\":{\"color\":\"#E5ECF6\",\"width\":0.5},\"pattern\":{\"fillmode\":\"overlay\",\"size\":10,\"solidity\":0.2}},\"type\":\"barpolar\"}],\"pie\":[{\"automargin\":true,\"type\":\"pie\"}]},\"layout\":{\"autotypenumbers\":\"strict\",\"colorway\":[\"#636efa\",\"#EF553B\",\"#00cc96\",\"#ab63fa\",\"#FFA15A\",\"#19d3f3\",\"#FF6692\",\"#B6E880\",\"#FF97FF\",\"#FECB52\"],\"font\":{\"color\":\"#2a3f5f\"},\"hovermode\":\"closest\",\"hoverlabel\":{\"align\":\"left\"},\"paper_bgcolor\":\"white\",\"plot_bgcolor\":\"#E5ECF6\",\"polar\":{\"bgcolor\":\"#E5ECF6\",\"angularaxis\":{\"gridcolor\":\"white\",\"linecolor\":\"white\",\"ticks\":\"\"},\"radialaxis\":{\"gridcolor\":\"white\",\"linecolor\":\"white\",\"ticks\":\"\"}},\"ternary\":{\"bgcolor\":\"#E5ECF6\",\"aaxis\":{\"gridcolor\":\"white\",\"linecolor\":\"white\",\"ticks\":\"\"},\"baxis\":{\"gridcolor\":\"white\",\"linecolor\":\"white\",\"ticks\":\"\"},\"caxis\":{\"gridcolor\":\"white\",\"linecolor\":\"white\",\"ticks\":\"\"}},\"coloraxis\":{\"colorbar\":{\"outlinewidth\":0,\"ticks\":\"\"}},\"colorscale\":{\"sequential\":[[0.0,\"#0d0887\"],[0.1111111111111111,\"#46039f\"],[0.2222222222222222,\"#7201a8\"],[0.3333333333333333,\"#9c179e\"],[0.4444444444444444,\"#bd3786\"],[0.5555555555555556,\"#d8576b\"],[0.6666666666666666,\"#ed7953\"],[0.7777777777777778,\"#fb9f3a\"],[0.8888888888888888,\"#fdca26\"],[1.0,\"#f0f921\"]],\"sequentialminus\":[[0.0,\"#0d0887\"],[0.1111111111111111,\"#46039f\"],[0.2222222222222222,\"#7201a8\"],[0.3333333333333333,\"#9c179e\"],[0.4444444444444444,\"#bd3786\"],[0.5555555555555556,\"#d8576b\"],[0.6666666666666666,\"#ed7953\"],[0.7777777777777778,\"#fb9f3a\"],[0.8888888888888888,\"#fdca26\"],[1.0,\"#f0f921\"]],\"diverging\":[[0,\"#8e0152\"],[0.1,\"#c51b7d\"],[0.2,\"#de77ae\"],[0.3,\"#f1b6da\"],[0.4,\"#fde0ef\"],[0.5,\"#f7f7f7\"],[0.6,\"#e6f5d0\"],[0.7,\"#b8e186\"],[0.8,\"#7fbc41\"],[0.9,\"#4d9221\"],[1,\"#276419\"]]},\"xaxis\":{\"gridcolor\":\"white\",\"linecolor\":\"white\",\"ticks\":\"\",\"title\":{\"standoff\":15},\"zerolinecolor\":\"white\",\"automargin\":true,\"zerolinewidth\":2},\"yaxis\":{\"gridcolor\":\"white\",\"linecolor\":\"white\",\"ticks\":\"\",\"title\":{\"standoff\":15},\"zerolinecolor\":\"white\",\"automargin\":true,\"zerolinewidth\":2},\"scene\":{\"xaxis\":{\"backgroundcolor\":\"#E5ECF6\",\"gridcolor\":\"white\",\"linecolor\":\"white\",\"showbackground\":true,\"ticks\":\"\",\"zerolinecolor\":\"white\",\"gridwidth\":2},\"yaxis\":{\"backgroundcolor\":\"#E5ECF6\",\"gridcolor\":\"white\",\"linecolor\":\"white\",\"showbackground\":true,\"ticks\":\"\",\"zerolinecolor\":\"white\",\"gridwidth\":2},\"zaxis\":{\"backgroundcolor\":\"#E5ECF6\",\"gridcolor\":\"white\",\"linecolor\":\"white\",\"showbackground\":true,\"ticks\":\"\",\"zerolinecolor\":\"white\",\"gridwidth\":2}},\"shapedefaults\":{\"line\":{\"color\":\"#2a3f5f\"}},\"annotationdefaults\":{\"arrowcolor\":\"#2a3f5f\",\"arrowhead\":0,\"arrowwidth\":1},\"geo\":{\"bgcolor\":\"white\",\"landcolor\":\"#E5ECF6\",\"subunitcolor\":\"white\",\"showland\":true,\"showlakes\":true,\"lakecolor\":\"white\"},\"title\":{\"x\":0.05},\"mapbox\":{\"style\":\"light\"}}},\"xaxis\":{\"anchor\":\"y\",\"domain\":[0.0,1.0],\"title\":{\"text\":\"County\"}},\"yaxis\":{\"anchor\":\"x\",\"domain\":[0.0,1.0],\"title\":{\"text\":\"Number of Trips\"}},\"legend\":{\"title\":{\"text\":\"Trip Distance\"},\"tracegroupgap\":0},\"title\":{\"text\":\"Number of Trips with Different Distances by County in Illinois (2022)\"},\"barmode\":\"stack\"},                        {\"responsive\": true}                    ).then(function(){\n",
       "                            \n",
       "var gd = document.getElementById('c70b06c6-560b-41ab-8305-8a415a6b4251');\n",
       "var x = new MutationObserver(function (mutations, observer) {{\n",
       "        var display = window.getComputedStyle(gd).display;\n",
       "        if (!display || display === 'none') {{\n",
       "            console.log([gd, 'removed!']);\n",
       "            Plotly.purge(gd);\n",
       "            observer.disconnect();\n",
       "        }}\n",
       "}});\n",
       "\n",
       "// Listen for the removal of the full notebook cells\n",
       "var notebookContainer = gd.closest('#notebook-container');\n",
       "if (notebookContainer) {{\n",
       "    x.observe(notebookContainer, {childList: true});\n",
       "}}\n",
       "\n",
       "// Listen for the clearing of the current output cell\n",
       "var outputEl = gd.closest('.output');\n",
       "if (outputEl) {{\n",
       "    x.observe(outputEl, {childList: true});\n",
       "}}\n",
       "\n",
       "                        })                };                });            </script>        </div>"
      ]
     },
     "metadata": {},
     "output_type": "display_data"
    }
   ],
   "source": [
    "# Filter data for Illinois state and the year 2022\n",
    "df_il_2022 = df[(df['State Postal Code'] == 'IL') & (df['Date'].dt.year == 2022)]\n",
    "\n",
    "# Aggregate the number of trips by county and distance categories\n",
    "county_trip_data = df_il_2022.groupby('County Name').agg({\n",
    "    'Number of Trips <1': 'sum',\n",
    "    'Number of Trips 1-3': 'sum',\n",
    "    'Number of Trips 3-5': 'sum',\n",
    "    'Number of Trips 5-10': 'sum',\n",
    "    'Number of Trips 10-25': 'sum',\n",
    "    'Number of Trips 25-50': 'sum',\n",
    "    'Number of Trips 50-100': 'sum',\n",
    "    'Number of Trips 100-250': 'sum',\n",
    "    'Number of Trips 250-500': 'sum',\n",
    "    'Number of Trips >=500': 'sum'\n",
    "}).reset_index()\n",
    "\n",
    "# Melt the dataframe for easier plotting\n",
    "melted_data = county_trip_data.melt(id_vars=['County Name'], \n",
    "                                    var_name='Trip Distance', \n",
    "                                    value_name='Number of Trips')\n",
    "\n",
    "# Create the bar plot\n",
    "fig = px.bar(\n",
    "    melted_data,\n",
    "    x='County Name',\n",
    "    y='Number of Trips',\n",
    "    color='Trip Distance',\n",
    "    title='Number of Trips with Different Distances by County in Illinois (2022)',\n",
    "    labels={'County Name': 'County', 'Number of Trips': 'Number of Trips'},\n",
    "    barmode='stack'\n",
    ")\n",
    "\n",
    "# Display the plot\n",
    "fig.show()"
   ]
  },
  {
   "cell_type": "code",
   "execution_count": null,
   "id": "3b5bcf6a",
   "metadata": {},
   "outputs": [],
   "source": []
  }
 ],
 "metadata": {
  "kernelspec": {
   "display_name": "Python 3 (ipykernel)",
   "language": "python",
   "name": "python3"
  },
  "language_info": {
   "codemirror_mode": {
    "name": "ipython",
    "version": 3
   },
   "file_extension": ".py",
   "mimetype": "text/x-python",
   "name": "python",
   "nbconvert_exporter": "python",
   "pygments_lexer": "ipython3",
   "version": "3.11.7"
  }
 },
 "nbformat": 4,
 "nbformat_minor": 5
}
